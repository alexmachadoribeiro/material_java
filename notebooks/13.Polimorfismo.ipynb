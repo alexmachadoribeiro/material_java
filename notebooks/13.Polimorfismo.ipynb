{
 "cells": [
  {
   "cell_type": "markdown",
   "id": "040d0534",
   "metadata": {},
   "source": [
    "# **Polimorfismo**\n",
    "---"
   ]
  },
  {
   "cell_type": "markdown",
   "id": "92992bbe",
   "metadata": {},
   "source": [
    "Dentro do conceito de herança, vimos que uma subclasse herda os métodos de uma superclasse. Mas e se eu precisar modificar esse método em suas subclasses, fazendo com que o mesmo método se comportasse de forma diferente em cada classe? Esse é o conceito de **polimorfismo**.\n",
    "\n",
    "> ***Polimorfismo ocorre quando um mesmo método assume comportamento distintos em objetos diferentes.***\n",
    "\n",
    "A melhor forma de mostrar como isso acontece é justamente através do conceito de herança. Para isso, vamos continuar o mesmo exato programa que estávamos fazendo na aula anterior, sobre herança, com o nome **TipoDePessoas**.\n",
    "\n",
    "1. Abra o projeto da aula anterior.\n",
    "2. Seguem abaixo os códigos-fonte e os arquivos feitos até o momento:\n",
    "\n",
    "#### TiposDePessoas\n",
    "\n",
    "##### App.java"
   ]
  },
  {
   "cell_type": "code",
   "execution_count": null,
   "id": "95662637",
   "metadata": {
    "vscode": {
     "languageId": "java"
    }
   },
   "outputs": [],
   "source": [
    "package com.heranca.app;\n",
    "\n",
    "import java.util.Scanner;\n",
    "\n",
    "public class App {\n",
    "    public static void main(String[] args) throws Exception {\n",
    "        // instanciando as classes\n",
    "        Scanner leia = new Scanner(System.in);\n",
    "        PessoaFisica usuario = new PessoaFisica();\n",
    "        PessoaJuridica empresa = new PessoaJuridica();\n",
    "\n",
    "        // definindo os atributos da pessoa física\n",
    "        System.out.println(\"Informe seu nome:\");\n",
    "        usuario.nome = leia.nextLine();\n",
    "        System.out.println(\"Informe seu CPF:\");\n",
    "        usuario.cpf = leia.nextLine();\n",
    "        System.out.println(\"Informe seu e-mail:\");\n",
    "        usuario.email = leia.nextLine();\n",
    "        System.out.println(\"Informe seu telefone:\");\n",
    "        usuario.telefone = leia.nextLine();\n",
    "        System.out.println(\"Informe seu endereço:\");\n",
    "        usuario.endereco = leia.nextLine();\n",
    "\n",
    "        // definindo os atributos da pessoa jurídica\n",
    "        System.out.println(\"Informe a Razão Social da empresa:\");\n",
    "        empresa.razaoSocial = leia.nextLine();\n",
    "        System.out.println(\"Informe o Nome Fantasia da empresa:\");\n",
    "        empresa.nomeFantasia = leia.nextLine();\n",
    "        System.out.println(\"Informe o CNPJ da empresa:\");\n",
    "        empresa.cnpj = leia.nextLine();\n",
    "        System.out.println(\"Informe o e-mail da empresa:\");\n",
    "        empresa.email = leia.nextLine();\n",
    "        System.out.println(\"Informe o telefone da empresa:\");\n",
    "        empresa.telefone = leia.nextLine();\n",
    "        System.out.println(\"Informe o endereço da empresa:\");\n",
    "        empresa.endereco = leia.nextLine();\n",
    "\n",
    "        // exibindo os dados do usuário\n",
    "        System.out.println(usuario.cumprimentar());\n",
    "        System.out.println(\"Dados do Usuário:\");\n",
    "        System.out.println(\"Nome: \" + usuario.nome);\n",
    "        System.out.println(\"CPF: \" + usuario.cpf);\n",
    "        System.out.println(\"Email: \" + usuario.email);\n",
    "        System.out.println(\"Telefone: \" + usuario.telefone);\n",
    "        System.out.println(\"Endereco: \" + usuario.endereco + \"\\n\");\n",
    "\n",
    "        // exibindo os dados da empresa\n",
    "        System.out.println(empresa.cumprimentar());\n",
    "        System.out.println(\"Dados da Empresa:\");\n",
    "        System.out.println(\"Razão Social: \" + empresa.razaoSocial);\n",
    "        System.out.println(\"Nome Fantasia: \" + empresa.nomeFantasia);\n",
    "        System.out.println(\"CNPJ: \" + empresa.cnpj);\n",
    "        System.out.println(\"Email: \" + empresa.email);\n",
    "        System.out.println(\"Telefone: \" + empresa.telefone);\n",
    "        System.out.println(\"Endereco: \" + empresa.endereco);\n",
    "\n",
    "        leia.close();\n",
    "    }\n",
    "}\n"
   ]
  },
  {
   "cell_type": "markdown",
   "id": "52fdcd31",
   "metadata": {},
   "source": [
    "##### Pessoa.java"
   ]
  },
  {
   "cell_type": "code",
   "execution_count": null,
   "id": "0823dcf2",
   "metadata": {
    "vscode": {
     "languageId": "java"
    }
   },
   "outputs": [],
   "source": [
    "package com.heranca.app;\n",
    "\n",
    "public class Pessoa {\n",
    "    // atributos\n",
    "    public String email;\n",
    "    public String telefone;\n",
    "    public String endereco;\n",
    "\n",
    "    public Pessoa() {\n",
    "    }\n",
    "\n",
    "    public String cumprimentar() {\n",
    "        return \"Olá, boa tarde.\";\n",
    "    }\n",
    "}\n"
   ]
  },
  {
   "cell_type": "markdown",
   "id": "ba36d247",
   "metadata": {},
   "source": [
    "##### PessoaFisica.java"
   ]
  },
  {
   "cell_type": "code",
   "execution_count": null,
   "id": "eb85ae41",
   "metadata": {
    "vscode": {
     "languageId": "java"
    }
   },
   "outputs": [],
   "source": [
    "package com.heranca.app;\n",
    "\n",
    "public class PessoaFisica extends Pessoa {\n",
    "    // atributos\n",
    "    public String nome;\n",
    "    public String cpf;\n",
    "}\n"
   ]
  },
  {
   "cell_type": "markdown",
   "id": "1477f786",
   "metadata": {},
   "source": [
    "##### PessoaJuridica.java"
   ]
  },
  {
   "cell_type": "code",
   "execution_count": null,
   "id": "b8085cdf",
   "metadata": {
    "vscode": {
     "languageId": "java"
    }
   },
   "outputs": [],
   "source": [
    "package com.heranca.app;\n",
    "\n",
    "public class PessoaJuridica extends Pessoa {\n",
    "    // atributos\n",
    "    public String razaoSocial;\n",
    "    public String nomeFantasia;\n",
    "    public String cnpj;\n",
    "}\n"
   ]
  },
  {
   "cell_type": "markdown",
   "id": "28b133f0",
   "metadata": {},
   "source": [
    "3. Agora, volte para o arquivo `Pessoa.java` e vamos alterar o construtor e o método `cumprimentar()`. Veja:"
   ]
  },
  {
   "cell_type": "code",
   "execution_count": null,
   "id": "184cbe88",
   "metadata": {
    "vscode": {
     "languageId": "java"
    }
   },
   "outputs": [],
   "source": [
    "package com.heranca.app;\n",
    "\n",
    "public class Pessoa {\n",
    "    // atributos\n",
    "    public String email;\n",
    "    public String telefone;\n",
    "    public String endereco;\n",
    "\n",
    "    public Pessoa(String email, String telefone, String endereco) {\n",
    "        this.email = email;\n",
    "        this.telefone = telefone;\n",
    "        this.endereco = endereco;\n",
    "    }\n",
    "\n",
    "    public String cumprimentar() {\n",
    "        return null;\n",
    "    }\n",
    "}\n"
   ]
  },
  {
   "cell_type": "markdown",
   "id": "d61f6774",
   "metadata": {},
   "source": [
    "4. O método `cumprimentar()` vai retornar `null` justamente para as subclasses herdarem esse método sem nenhuma ação, exatamente para conseguirmos  fazer o que pretendemos fazer.\n",
    "5. Com a alteração no construtor de `Pessoa`, as classes `PessoaFisica` e `PessoaJuridica` começam a dar erro, assim como `App.java`. Logo, precisaremos alterar também esses arquivos. Vamos começar com `PessoaFisica`. Vamos alterar o construtor da classe:"
   ]
  },
  {
   "cell_type": "code",
   "execution_count": null,
   "id": "9141c193",
   "metadata": {
    "vscode": {
     "languageId": "java"
    }
   },
   "outputs": [],
   "source": [
    "package com.heranca.app;\n",
    "\n",
    "public class PessoaFisica extends Pessoa {\n",
    "    // atributos\n",
    "    public String nome;\n",
    "    public String cpf;\n",
    "\n",
    "    public PessoaFisica(String nome, String cpf) {\n",
    "        this.nome = nome;\n",
    "        this.cpf = cpf;\n",
    "    }\n",
    "}\n"
   ]
  },
  {
   "cell_type": "markdown",
   "id": "00ada610",
   "metadata": {},
   "source": [
    "6. Esse código também dará erro no construtor, pois como `PessoaFisica` herda de `Pessoa`, ele identifica que os dois têm construtores diferentes, o que não pode acontecer. Então precisaremos trazer o comportamento do construtor da superclasse para a subclasse. Faremos isso através do comando `super()`, e repassando os parâmetros do construtor da superclasse para a subclasse. Veja como fica:"
   ]
  },
  {
   "cell_type": "code",
   "execution_count": null,
   "id": "ea9bfcbb",
   "metadata": {
    "vscode": {
     "languageId": "java"
    }
   },
   "outputs": [],
   "source": [
    "package com.heranca.app;\n",
    "\n",
    "public class PessoaFisica extends Pessoa {\n",
    "    // atributos\n",
    "    public String nome;\n",
    "    public String cpf;\n",
    "\n",
    "    public PessoaFisica(String nome, String cpf, String email, String telefone, String endereco) {\n",
    "        super(email, telefone, endereco);\n",
    "        this.nome = nome;\n",
    "        this.cpf = cpf;\n",
    "    }\n",
    "}\n"
   ]
  },
  {
   "cell_type": "markdown",
   "id": "ba5f7265",
   "metadata": {},
   "source": [
    "7. Faremos o mesmo com a classe `PessoaJuridica`:"
   ]
  },
  {
   "cell_type": "code",
   "execution_count": null,
   "id": "d2514737",
   "metadata": {
    "vscode": {
     "languageId": "java"
    }
   },
   "outputs": [],
   "source": [
    "package com.heranca.app;\n",
    "\n",
    "public class PessoaJuridica extends Pessoa {\n",
    "    // atributos\n",
    "    public String razaoSocial;\n",
    "    public String nomeFantasia;\n",
    "    public String cnpj;\n",
    "\n",
    "    public PessoaJuridica(String razaoSocial, String nomeFantasia, String cnpj, String email, String telefone, String endereco) {\n",
    "        super(email, telefone, endereco);\n",
    "        this.razaoSocial = razaoSocial;\n",
    "        this.nomeFantasia = nomeFantasia;\n",
    "        this.cnpj = cnpj;\n",
    "    }\n",
    "}\n"
   ]
  },
  {
   "cell_type": "markdown",
   "id": "f0fc78cf",
   "metadata": {},
   "source": [
    "8. Volte para `App.java` e arrume os construtores das instâncias:"
   ]
  },
  {
   "cell_type": "code",
   "execution_count": null,
   "id": "dee4e5c4",
   "metadata": {
    "vscode": {
     "languageId": "java"
    }
   },
   "outputs": [],
   "source": [
    "package com.heranca.app;\n",
    "\n",
    "import java.util.Scanner;\n",
    "\n",
    "public class App {\n",
    "    public static void main(String[] args) throws Exception {\n",
    "        // instanciando as classes\n",
    "        Scanner leia = new Scanner(System.in);\n",
    "        PessoaFisica usuario = new PessoaFisica(\"\", \"\", \"\", \"\", \"\");\n",
    "        PessoaJuridica empresa = new PessoaJuridica(\"\", \"\", \"\", \"\", \"\", \"\");\n",
    "\n",
    "        // definindo os atributos da pessoa física\n",
    "        System.out.println(\"Informe seu nome:\");\n",
    "        usuario.nome = leia.nextLine();\n",
    "        System.out.println(\"Informe seu CPF:\");\n",
    "        usuario.cpf = leia.nextLine();\n",
    "        System.out.println(\"Informe seu e-mail:\");\n",
    "        usuario.email = leia.nextLine();\n",
    "        System.out.println(\"Informe seu telefone:\");\n",
    "        usuario.telefone = leia.nextLine();\n",
    "        System.out.println(\"Informe seu endereço:\");\n",
    "        usuario.endereco = leia.nextLine();\n",
    "\n",
    "        // definindo os atributos da pessoa jurídica\n",
    "        System.out.println(\"Informe a Razão Social da empresa:\");\n",
    "        empresa.razaoSocial = leia.nextLine();\n",
    "        System.out.println(\"Informe o Nome Fantasia da empresa:\");\n",
    "        empresa.nomeFantasia = leia.nextLine();\n",
    "        System.out.println(\"Informe o CNPJ da empresa:\");\n",
    "        empresa.cnpj = leia.nextLine();\n",
    "        System.out.println(\"Informe o e-mail da empresa:\");\n",
    "        empresa.email = leia.nextLine();\n",
    "        System.out.println(\"Informe o telefone da empresa:\");\n",
    "        empresa.telefone = leia.nextLine();\n",
    "        System.out.println(\"Informe o endereço da empresa:\");\n",
    "        empresa.endereco = leia.nextLine();\n",
    "\n",
    "        // exibindo os dados do usuário\n",
    "        System.out.println(usuario.cumprimentar());\n",
    "        System.out.println(\"Dados do Usuário:\");\n",
    "        System.out.println(\"Nome: \" + usuario.nome);\n",
    "        System.out.println(\"CPF: \" + usuario.cpf);\n",
    "        System.out.println(\"Email: \" + usuario.email);\n",
    "        System.out.println(\"Telefone: \" + usuario.telefone);\n",
    "        System.out.println(\"Endereco: \" + usuario.endereco + \"\\n\");\n",
    "\n",
    "        // exibindo os dados da empresa\n",
    "        System.out.println(empresa.cumprimentar());\n",
    "        System.out.println(\"Dados da Empresa:\");\n",
    "        System.out.println(\"Razão Social: \" + empresa.razaoSocial);\n",
    "        System.out.println(\"Nome Fantasia: \" + empresa.nomeFantasia);\n",
    "        System.out.println(\"CNPJ: \" + empresa.cnpj);\n",
    "        System.out.println(\"Email: \" + empresa.email);\n",
    "        System.out.println(\"Telefone: \" + empresa.telefone);\n",
    "        System.out.println(\"Endereco: \" + empresa.endereco);\n",
    "\n",
    "        leia.close();\n",
    "    }\n",
    "}\n"
   ]
  },
  {
   "cell_type": "markdown",
   "id": "939ad14f",
   "metadata": {},
   "source": [
    "9. Isso por si só já é um polimorfismo, pois o construtor, que é um método, está se comportando de maneiras distintas nas três classes. Mas ainda não é o que deverá ser mostrado na aula. Portanto seguiremos, pois o verdadeiro polimorfismo vai acontecer com o método `cumprimentar()`.\n",
    "10. Vá para `PessoaFisica` e acrescente o método `cumprimentar()`, desta vez vamos retornar uma frase:"
   ]
  },
  {
   "cell_type": "code",
   "execution_count": null,
   "id": "254d531a",
   "metadata": {
    "vscode": {
     "languageId": "java"
    }
   },
   "outputs": [],
   "source": [
    "package com.heranca.app;\n",
    "\n",
    "public class PessoaFisica extends Pessoa {\n",
    "    // atributos\n",
    "    public String nome;\n",
    "    public String cpf;\n",
    "\n",
    "    public PessoaFisica(String nome, String cpf, String email, String telefone, String endereco) {\n",
    "        super(email, telefone, endereco);\n",
    "        this.nome = nome;\n",
    "        this.cpf = cpf;\n",
    "    }\n",
    "\n",
    "    public String cumprimentar() {\n",
    "        return \"Olá, meu nome é \" + this.nome + \", meu CPF é \" + this.cpf + \", meu e-mail é \" + super.email + \", meu telefone é \" + super.telefone + \" e meu endereço é \" + super.endereco + \".\";\n",
    "    }\n",
    "}\n"
   ]
  },
  {
   "cell_type": "markdown",
   "id": "7408ca13",
   "metadata": {},
   "source": [
    "11. Agora vá para `PessoaJuridica` e faça o mesmo, mas desta vez adaptando o método `cumprimentar()`. Veja como fica:"
   ]
  },
  {
   "cell_type": "code",
   "execution_count": null,
   "id": "6361da96",
   "metadata": {
    "vscode": {
     "languageId": "java"
    }
   },
   "outputs": [],
   "source": [
    "package com.heranca.app;\n",
    "\n",
    "public class PessoaJuridica extends Pessoa {\n",
    "    // atributos\n",
    "    public String razaoSocial;\n",
    "    public String nomeFantasia;\n",
    "    public String cnpj;\n",
    "\n",
    "    public PessoaJuridica(String razaoSocial, String nomeFantasia, String cnpj, String email, String telefone, String endereco) {\n",
    "        super(email, telefone, endereco);\n",
    "        this.razaoSocial = razaoSocial;\n",
    "        this.nomeFantasia = nomeFantasia;\n",
    "        this.cnpj = cnpj;\n",
    "    }\n",
    "\n",
    "    public String cumprimentar() {\n",
    "        return \"Olá, somos a empresa \" + this.razaoSocial + \" (nome fantasia: \" + this.nomeFantasia + \"), nosso CNPJ é \" + this.cnpj + \", nosso e-mail é \" + super.email + \", nosso telefone é \" + super.telefone + \" e nosso endereço é \" + super.endereco + \".\";\n",
    "    }\n",
    "}\n"
   ]
  },
  {
   "cell_type": "markdown",
   "id": "d3d8931d",
   "metadata": {},
   "source": [
    "12. Volte para `App.java` e retire todos os `System.out.println()` que exibem os dados do usuário e da empresa, deixando apenas os que exibem o método `cumprimentar()` dos dois objetos:"
   ]
  },
  {
   "cell_type": "code",
   "execution_count": null,
   "id": "80bbf8c2",
   "metadata": {
    "vscode": {
     "languageId": "java"
    }
   },
   "outputs": [],
   "source": [
    "package com.heranca.app;\n",
    "\n",
    "import java.util.Scanner;\n",
    "\n",
    "public class App {\n",
    "    public static void main(String[] args) throws Exception {\n",
    "        // instanciando as classes\n",
    "        Scanner leia = new Scanner(System.in);\n",
    "        PessoaFisica usuario = new PessoaFisica(\"\", \"\", \"\", \"\", \"\");\n",
    "        PessoaJuridica empresa = new PessoaJuridica(\"\", \"\", \"\", \"\", \"\", \"\");\n",
    "\n",
    "        // definindo os atributos da pessoa física\n",
    "        System.out.println(\"Informe seu nome:\");\n",
    "        usuario.nome = leia.nextLine();\n",
    "        System.out.println(\"Informe seu CPF:\");\n",
    "        usuario.cpf = leia.nextLine();\n",
    "        System.out.println(\"Informe seu e-mail:\");\n",
    "        usuario.email = leia.nextLine();\n",
    "        System.out.println(\"Informe seu telefone:\");\n",
    "        usuario.telefone = leia.nextLine();\n",
    "        System.out.println(\"Informe seu endereço:\");\n",
    "        usuario.endereco = leia.nextLine();\n",
    "\n",
    "        // definindo os atributos da pessoa jurídica\n",
    "        System.out.println(\"Informe a Razão Social da empresa:\");\n",
    "        empresa.razaoSocial = leia.nextLine();\n",
    "        System.out.println(\"Informe o Nome Fantasia da empresa:\");\n",
    "        empresa.nomeFantasia = leia.nextLine();\n",
    "        System.out.println(\"Informe o CNPJ da empresa:\");\n",
    "        empresa.cnpj = leia.nextLine();\n",
    "        System.out.println(\"Informe o e-mail da empresa:\");\n",
    "        empresa.email = leia.nextLine();\n",
    "        System.out.println(\"Informe o telefone da empresa:\");\n",
    "        empresa.telefone = leia.nextLine();\n",
    "        System.out.println(\"Informe o endereço da empresa:\");\n",
    "        empresa.endereco = leia.nextLine();\n",
    "\n",
    "        // exibindo os dados do usuário e da empresa\n",
    "        System.out.println(usuario.cumprimentar());\n",
    "        System.out.println(empresa.cumprimentar());\n",
    "\n",
    "        leia.close();\n",
    "    }\n",
    "}\n"
   ]
  },
  {
   "cell_type": "markdown",
   "id": "122bcd7c",
   "metadata": {},
   "source": [
    "13. Agora execute o programa, e você verá que o mesmo método `cumprimentar()` irá agir de forma diferente nos dois objetos. Isso é o polimorfismo."
   ]
  },
  {
   "cell_type": "markdown",
   "id": "0f91917f",
   "metadata": {},
   "source": [
    "> **Obs: caso tivéssemos alguma ação no método `cumprimentar()` da superclasse e quiséssemos que fosse executada nas subclasses, era só usar o comando `super.cumprimentar()` dentro do método nas subclasses.**"
   ]
  }
 ],
 "metadata": {
  "language_info": {
   "name": "python"
  }
 },
 "nbformat": 4,
 "nbformat_minor": 5
}
