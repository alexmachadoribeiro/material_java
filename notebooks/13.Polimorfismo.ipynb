{
 "cells": [
  {
   "cell_type": "markdown",
   "id": "040d0534",
   "metadata": {},
   "source": [
    "# **Polimorfismo**\n",
    "---"
   ]
  },
  {
   "cell_type": "markdown",
   "id": "92992bbe",
   "metadata": {},
   "source": [
    "Dentro do conceito de herança, vimos que uma subclasse herda os métodos de uma superclasse. Mas e se eu precisar modificar esse método em suas subclasses, fazendo com que o mesmo método se comportasse de forma diferente em cada classe? Esse é o conceito de **polimorfismo**.\n",
    "\n",
    "> ***Polimorfismo ocorre quando um mesmo método assume comportamento distintos em objetos diferentes.***\n",
    "\n",
    "A melhor forma de mostrar como isso acontece é justamente através do conceito de herança. Para isso, vamos continuar o mesmo exato programa que estávamos fazendo na aula anterior, sobre herança, com o nome **TipoDePessoas**.\n",
    "\n",
    "1. Abra o projeto da aula anterior.\n",
    "2. Seguem abaixo os códigos-fonte e os arquivos feitos até o momento:\n",
    "\n",
    "#### TiposDePessoas\n",
    "\n",
    "##### App.java"
   ]
  },
  {
   "cell_type": "code",
   "execution_count": null,
   "id": "95662637",
   "metadata": {
    "vscode": {
     "languageId": "java"
    }
   },
   "outputs": [],
   "source": [
    "package com.heranca.app;\n",
    "\n",
    "import java.util.Scanner;\n",
    "\n",
    "public class App {\n",
    "    public static void main(String[] args) throws Exception {\n",
    "        // instanciando as classes\n",
    "        Scanner leia = new Scanner(System.in);\n",
    "        PessoaFisica usuario = new PessoaFisica();\n",
    "        PessoaJuridica empresa = new PessoaJuridica();\n",
    "\n",
    "        // definindo os atributos da pessoa física\n",
    "        System.out.println(\"Informe seu nome:\");\n",
    "        usuario.nome = leia.nextLine();\n",
    "        System.out.println(\"Informe seu CPF:\");\n",
    "        usuario.cpf = leia.nextLine();\n",
    "        System.out.println(\"Informe seu e-mail:\");\n",
    "        usuario.email = leia.nextLine();\n",
    "        System.out.println(\"Informe seu telefone:\");\n",
    "        usuario.telefone = leia.nextLine();\n",
    "        System.out.println(\"Informe seu endereço:\");\n",
    "        usuario.endereco = leia.nextLine();\n",
    "\n",
    "        // definindo os atributos da pessoa jurídica\n",
    "        System.out.println(\"Informe a Razão Social da empresa:\");\n",
    "        empresa.razaoSocial = leia.nextLine();\n",
    "        System.out.println(\"Informe o Nome Fantasia da empresa:\");\n",
    "        empresa.nomeFantasia = leia.nextLine();\n",
    "        System.out.println(\"Informe o CNPJ da empresa:\");\n",
    "        empresa.cnpj = leia.nextLine();\n",
    "        System.out.println(\"Informe o e-mail da empresa:\");\n",
    "        empresa.email = leia.nextLine();\n",
    "        System.out.println(\"Informe o telefone da empresa:\");\n",
    "        empresa.telefone = leia.nextLine();\n",
    "        System.out.println(\"Informe o endereço da empresa:\");\n",
    "        empresa.endereco = leia.nextLine();\n",
    "\n",
    "        // exibindo os dados do usuário\n",
    "        System.out.println(usuario.cumprimentar());\n",
    "        System.out.println(\"Dados do Usuário:\");\n",
    "        System.out.println(\"Nome: \" + usuario.nome);\n",
    "        System.out.println(\"CPF: \" + usuario.cpf);\n",
    "        System.out.println(\"Email: \" + usuario.email);\n",
    "        System.out.println(\"Telefone: \" + usuario.telefone);\n",
    "        System.out.println(\"Endereco: \" + usuario.endereco + \"\\n\");\n",
    "\n",
    "        // exibindo os dados da empresa\n",
    "        System.out.println(empresa.cumprimentar());\n",
    "        System.out.println(\"Dados da Empresa:\");\n",
    "        System.out.println(\"Razão Social: \" + empresa.razaoSocial);\n",
    "        System.out.println(\"Nome Fantasia: \" + empresa.nomeFantasia);\n",
    "        System.out.println(\"CNPJ: \" + empresa.cnpj);\n",
    "        System.out.println(\"Email: \" + empresa.email);\n",
    "        System.out.println(\"Telefone: \" + empresa.telefone);\n",
    "        System.out.println(\"Endereco: \" + empresa.endereco);\n",
    "\n",
    "        leia.close();\n",
    "    }\n",
    "}\n"
   ]
  },
  {
   "cell_type": "markdown",
   "id": "52fdcd31",
   "metadata": {},
   "source": [
    "##### Pessoa.java"
   ]
  },
  {
   "cell_type": "code",
   "execution_count": null,
   "id": "0823dcf2",
   "metadata": {
    "vscode": {
     "languageId": "java"
    }
   },
   "outputs": [],
   "source": [
    "package com.heranca.app;\n",
    "\n",
    "public class Pessoa {\n",
    "    // atributos\n",
    "    public String email;\n",
    "    public String telefone;\n",
    "    public String endereco;\n",
    "\n",
    "    public Pessoa() {\n",
    "    }\n",
    "\n",
    "    public String cumprimentar() {\n",
    "        return \"Olá, boa tarde.\";\n",
    "    }\n",
    "}\n"
   ]
  },
  {
   "cell_type": "markdown",
   "id": "ba36d247",
   "metadata": {},
   "source": [
    "##### PessoaFisica.java"
   ]
  },
  {
   "cell_type": "code",
   "execution_count": null,
   "id": "eb85ae41",
   "metadata": {
    "vscode": {
     "languageId": "java"
    }
   },
   "outputs": [],
   "source": [
    "package com.heranca.app;\n",
    "\n",
    "public class PessoaFisica extends Pessoa {\n",
    "    // atributos\n",
    "    public String nome;\n",
    "    public String cpf;\n",
    "}\n"
   ]
  },
  {
   "cell_type": "markdown",
   "id": "1477f786",
   "metadata": {},
   "source": [
    "##### PessoaJuridica.java"
   ]
  },
  {
   "cell_type": "code",
   "execution_count": null,
   "id": "b8085cdf",
   "metadata": {
    "vscode": {
     "languageId": "java"
    }
   },
   "outputs": [],
   "source": [
    "package com.heranca.app;\n",
    "\n",
    "public class PessoaJuridica extends Pessoa {\n",
    "    // atributos\n",
    "    public String razaoSocial;\n",
    "    public String nomeFantasia;\n",
    "    public String cnpj;\n",
    "}\n"
   ]
  }
 ],
 "metadata": {
  "language_info": {
   "name": "python"
  }
 },
 "nbformat": 4,
 "nbformat_minor": 5
}
