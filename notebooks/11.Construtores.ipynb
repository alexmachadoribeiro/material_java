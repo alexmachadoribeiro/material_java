{
 "cells": [
  {
   "cell_type": "markdown",
   "id": "b001745a",
   "metadata": {},
   "source": [
    "# **Construtores**\n",
    "---"
   ]
  },
  {
   "cell_type": "markdown",
   "id": "155992e2",
   "metadata": {},
   "source": [
    "No programa da aula anterior, aprendemos sobre Classes, Atributos e Métodos, mas também aprendemos sobre Objetos e Instância. Quando instanciamos um objeto, isso significa basicamente criar um objeto no programa, e para criarmos um objeto, precisamos de um método chamado **construtor**."
   ]
  },
  {
   "cell_type": "markdown",
   "id": "b702de02",
   "metadata": {},
   "source": [
    "> ***Construtor é o método de uma classe que permite a construção de um novo objeto na classe principal.***"
   ]
  },
  {
   "cell_type": "markdown",
   "id": "c1226d5d",
   "metadata": {},
   "source": [
    "Por exemplo: no programa da aula anterior, dentro do arquivo `App.java`, quando inserimos o código `Pessoa usuario = new Pessoa();`, o `Pessoa()` é o método construtor da classe `Pessoa` que permite a criação do objeto `usuario`. Caso o usuário não informe na classe o construtor, a classe insere automaticamente um construtor genérico, que é o que aconteceu no programa anterior. Agora, vamos aprender a criar nós mesmos os construtores.\n",
    "\n",
    "1. Crie um novo programa Java, com o *package* `com.construtor.app`.\n",
    "2. Jogue o arquivo `App.java` para dentro do *package* `app`.\n",
    "3. Ainda dentro do *package* `app`, crie uma nova classe Java, seguindo o mesmo passo da aula anterior: botão direito do mouse em cima do *package* `app`, **New Java File -> Class...**, e nomeie a classe para `Pessoa`.\n",
    "4. Defina os atributos para a classe Pessoa: `String nome`, `int idade` e `double altura`:\n",
    "\n",
    "#### Constutor\n",
    "\n",
    "##### Pessoa.java"
   ]
  },
  {
   "cell_type": "code",
   "execution_count": null,
   "id": "28761e90",
   "metadata": {
    "vscode": {
     "languageId": "java"
    }
   },
   "outputs": [],
   "source": [
    "package com.construtores.app;\n",
    "\n",
    "public class Pessoa {\n",
    "    public String nome;\n",
    "    public int idade;\n",
    "    public double altura;\n",
    "}\n"
   ]
  },
  {
   "cell_type": "markdown",
   "id": "ee32fae7",
   "metadata": {},
   "source": [
    "5. Até aqui, nenhuma novidade. Clique com o botão direito do mouse no meio do código-fonte, e vá até a opção **Code Generator For Java -> Generate Constructor Using All Fields**:"
   ]
  },
  {
   "cell_type": "markdown",
   "id": "f65f339c",
   "metadata": {},
   "source": [
    "<div style=\"display: flex; justify-content: center\">\n",
    "    <img src=\"../assets/11-01.png\" alt=\"construtor\" />\n",
    "</div>"
   ]
  },
  {
   "cell_type": "markdown",
   "id": "129bdbb8",
   "metadata": {},
   "source": [
    "6. O código-fonte de `Pessoa.java` deve ficar assim:"
   ]
  },
  {
   "cell_type": "code",
   "execution_count": null,
   "id": "0bb2f69b",
   "metadata": {
    "vscode": {
     "languageId": "java"
    }
   },
   "outputs": [],
   "source": [
    "package com.construtores.app;\n",
    "\n",
    "public class Pessoa {\n",
    "    public String nome;\n",
    "    public int idade;\n",
    "    public double altura;\n",
    "\n",
    "    // construtor\n",
    "    public Pessoa(String nome, int idade, double altura) {\n",
    "        this.nome = nome;\n",
    "        this.idade = idade;\n",
    "        this.altura = altura;\n",
    "    }\n",
    "}\n"
   ]
  },
  {
   "cell_type": "markdown",
   "id": "0af262ff",
   "metadata": {},
   "source": [
    "7. Agora, retornaremos para o arquivo `App.java`, que deverá estar assim:\n",
    "\n",
    "##### App.java"
   ]
  },
  {
   "cell_type": "code",
   "execution_count": null,
   "id": "37fa046a",
   "metadata": {
    "vscode": {
     "languageId": "java"
    }
   },
   "outputs": [],
   "source": [
    "package com.construtores.app;\n",
    "\n",
    "public class App {\n",
    "    public static void main(String[] args) throws Exception {\n",
    "        System.out.println(\"Hello, World!\");\n",
    "    }\n",
    "}\n"
   ]
  },
  {
   "cell_type": "markdown",
   "id": "662f7cfc",
   "metadata": {},
   "source": [
    "8. Antes de trabalharmos com a classe `Scanner`, vamos apagar o `Hello, World!`, e instanciar a classe `Pessoa`:"
   ]
  },
  {
   "cell_type": "code",
   "execution_count": null,
   "id": "a623b2d8",
   "metadata": {
    "vscode": {
     "languageId": "java"
    }
   },
   "outputs": [],
   "source": [
    "package com.construtores.app;\n",
    "\n",
    "public class App {\n",
    "    public static void main(String[] args) throws Exception {\n",
    "        // FIXME: instancia da classe Pessoa\n",
    "        Pessoa usuario = new Pessoa();\n",
    "    }\n",
    "}\n"
   ]
  },
  {
   "cell_type": "markdown",
   "id": "c1caeaf8",
   "metadata": {},
   "source": [
    "9. Logo de cara, você irá ver que o código irá apresentar um erro, mesmo sem exeecutar. Isso acontece porque mudamos o construtor da classe. Agora, precisaremos informar os valores dos atributos diretamente dentro da instancia. Isso deverá ser feito na ordem dos atributos do construtor da clsse `Pessoa.java`. Veja a forma correta abaixo:"
   ]
  },
  {
   "cell_type": "code",
   "execution_count": null,
   "id": "23654a98",
   "metadata": {
    "vscode": {
     "languageId": "java"
    }
   },
   "outputs": [],
   "source": [
    "package com.construtores.app;\n",
    "\n",
    "public class App {\n",
    "    public static void main(String[] args) throws Exception {\n",
    "        // instancia da classe Pessoa\n",
    "        Pessoa usuario = new Pessoa(\"\", 0, 0.0);\n",
    "    }\n",
    "}\n"
   ]
  },
  {
   "cell_type": "markdown",
   "id": "1255fc18",
   "metadata": {},
   "source": [
    "10. Agora podemos atribuir os valores aos atributos da classe. Faremos isso usando a classe `Scanner`:"
   ]
  },
  {
   "cell_type": "code",
   "execution_count": null,
   "id": "40c0f5fd",
   "metadata": {
    "vscode": {
     "languageId": "java"
    }
   },
   "outputs": [],
   "source": [
    "package com.construtores.app;\n",
    "\n",
    "import java.util.Scanner;\n",
    "\n",
    "public class App {\n",
    "    public static void main(String[] args) throws Exception {\n",
    "        // instancia das classes\n",
    "        Pessoa usuario = new Pessoa(\"\", 0, 0.0);\n",
    "        Scanner leia = new Scanner(System.in);\n",
    "\n",
    "        // entrada de dados\n",
    "        System.out.print(\"Nome: \");\n",
    "        usuario.nome = leia.nextLine();\n",
    "        System.out.print(\"Idade: \");\n",
    "        usuario.idade = leia.nextInt();\n",
    "        System.out.print(\"Altura: \");\n",
    "        usuario.altura = leia.nextDouble();\n",
    "\n",
    "        // exibe os dados\n",
    "        System.out.println(\"Nome: \" + usuario.nome);\n",
    "        System.out.println(\"Idade: \" + usuario.idade);\n",
    "        System.out.println(\"Altura: \" + usuario.altura);\n",
    "\n",
    "        leia.close();\n",
    "    }\n",
    "}\n"
   ]
  },
  {
   "cell_type": "markdown",
   "id": "37f06935",
   "metadata": {},
   "source": [
    "Podemos encerrar o programa por aqui, mas no Java existe a possibilidade de criarmos mais de um construtor. Isso vai possibilitar que a classe seja instanciada de formas diferentes.\n",
    "\n",
    "11. Volte ao arquivo `Pessoa.java`:\n",
    "\n",
    "##### Pessoa.java"
   ]
  },
  {
   "cell_type": "code",
   "execution_count": null,
   "id": "4637e9d5",
   "metadata": {
    "vscode": {
     "languageId": "java"
    }
   },
   "outputs": [],
   "source": [
    "package com.construtores.app;\n",
    "\n",
    "public class Pessoa {\n",
    "    public String nome;\n",
    "    public int idade;\n",
    "    public double altura;\n",
    "\n",
    "    // construtor\n",
    "    public Pessoa(String nome, int idade, double altura) {\n",
    "        this.nome = nome;\n",
    "        this.idade = idade;\n",
    "        this.altura = altura;\n",
    "    }\n",
    "}\n"
   ]
  },
  {
   "cell_type": "markdown",
   "id": "df7cbe6c",
   "metadata": {},
   "source": [
    "12. Deixe o cursor piscando antes do construtor e após os atributos.\n",
    "13. Clique com o botão direito do mouse no meio do código-fonte e vá em **Code Generator For Java -> Generate Empty Constructor**:"
   ]
  },
  {
   "cell_type": "markdown",
   "id": "9c03a097",
   "metadata": {},
   "source": [
    "<div style=\"display: flex; justify-content: center\">\n",
    "    <img src=\"../assets/11-02.png\" alt=\"Construtor\" />\n",
    "</div>"
   ]
  },
  {
   "cell_type": "markdown",
   "id": "dfa9f1c8",
   "metadata": {},
   "source": [
    "14. O código-fonte de `Pessoa.java` deve ficar assim:"
   ]
  },
  {
   "cell_type": "code",
   "execution_count": null,
   "id": "72474488",
   "metadata": {
    "vscode": {
     "languageId": "java"
    }
   },
   "outputs": [],
   "source": [
    "package com.construtores.app;\n",
    "\n",
    "public class Pessoa {\n",
    "    public String nome;\n",
    "    public int idade;\n",
    "    public double altura;\n",
    "\n",
    "    // construtores\n",
    "    public Pessoa() {\n",
    "    }\n",
    "\n",
    "    // construtor\n",
    "    public Pessoa(String nome, int idade, double altura) {\n",
    "        this.nome = nome;\n",
    "        this.idade = idade;\n",
    "        this.altura = altura;\n",
    "    }\n",
    "}\n"
   ]
  },
  {
   "cell_type": "markdown",
   "id": "27b39a7d",
   "metadata": {},
   "source": [
    "15. Isso permite escrever `App.java` de duas formas:\n",
    "\n",
    "##### Forma 1 `Pessoa usuario = new Pessoa(\"\", 0, 0.0);`"
   ]
  },
  {
   "cell_type": "code",
   "execution_count": null,
   "id": "4e6f99c3",
   "metadata": {
    "vscode": {
     "languageId": "java"
    }
   },
   "outputs": [],
   "source": [
    "package com.construtores.app;\n",
    "\n",
    "import java.util.Scanner;\n",
    "\n",
    "public class App {\n",
    "    public static void main(String[] args) throws Exception {\n",
    "        // instancia das classes\n",
    "        Pessoa usuario = new Pessoa(\"\", 0, 0.0);\n",
    "        Scanner leia = new Scanner(System.in);\n",
    "\n",
    "        // entrada de dados\n",
    "        System.out.print(\"Nome: \");\n",
    "        usuario.nome = leia.nextLine();\n",
    "        System.out.print(\"Idade: \");\n",
    "        usuario.idade = leia.nextInt();\n",
    "        System.out.print(\"Altura: \");\n",
    "        usuario.altura = leia.nextDouble();\n",
    "\n",
    "        // exibe os dados\n",
    "        System.out.println(\"Nome: \" + usuario.nome);\n",
    "        System.out.println(\"Idade: \" + usuario.idade);\n",
    "        System.out.println(\"Altura: \" + usuario.altura);\n",
    "\n",
    "        leia.close();\n",
    "    }\n",
    "}\n"
   ]
  },
  {
   "cell_type": "markdown",
   "id": "d71305b6",
   "metadata": {},
   "source": [
    "##### Forma 2 `Pessoa usuario = new Pessoa();`"
   ]
  },
  {
   "cell_type": "code",
   "execution_count": null,
   "id": "cd275d94",
   "metadata": {
    "vscode": {
     "languageId": "java"
    }
   },
   "outputs": [],
   "source": [
    "package com.construtores.app;\n",
    "\n",
    "import java.util.Scanner;\n",
    "\n",
    "public class App {\n",
    "    public static void main(String[] args) throws Exception {\n",
    "        // instancia das classes\n",
    "        Pessoa usuario = new Pessoa();\n",
    "        Scanner leia = new Scanner(System.in);\n",
    "\n",
    "        // entrada de dados\n",
    "        System.out.print(\"Nome: \");\n",
    "        usuario.nome = leia.nextLine();\n",
    "        System.out.print(\"Idade: \");\n",
    "        usuario.idade = leia.nextInt();\n",
    "        System.out.print(\"Altura: \");\n",
    "        usuario.altura = leia.nextDouble();\n",
    "\n",
    "        // exibe os dados\n",
    "        System.out.println(\"Nome: \" + usuario.nome);\n",
    "        System.out.println(\"Idade: \" + usuario.idade);\n",
    "        System.out.println(\"Altura: \" + usuario.altura);\n",
    "\n",
    "        leia.close();\n",
    "    }\n",
    "}\n"
   ]
  },
  {
   "cell_type": "markdown",
   "id": "787164c9",
   "metadata": {},
   "source": [
    "As duas formas funcionarão."
   ]
  }
 ],
 "metadata": {
  "language_info": {
   "name": "python"
  }
 },
 "nbformat": 4,
 "nbformat_minor": 5
}
