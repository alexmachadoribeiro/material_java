{
 "cells": [
  {
   "cell_type": "markdown",
   "id": "c2aa621f",
   "metadata": {},
   "source": [
    "# **Vetores**\n",
    "---"
   ]
  },
  {
   "cell_type": "markdown",
   "id": "4277dcdc",
   "metadata": {},
   "source": [
    "Até o momento, estávamos trabalhando com variáveis que armazenavam apenas um único valor na memória. Mas agora vamos trabalhar com um novo tipo de variável, que é capaz de armazenar vários valores de um mesmo tipo na memória. Chamamos de **array** ou **vetor**."
   ]
  },
  {
   "cell_type": "markdown",
   "id": "73785681",
   "metadata": {},
   "source": [
    "> ***Um vator é um tipo de variável capaz de armazenar vários valores de um mesmo tipo, seja eles Strings, inteiros ou outros tipos quaisquer.***"
   ]
  },
  {
   "cell_type": "markdown",
   "id": "1727a148",
   "metadata": {},
   "source": [
    "Para fins de exemplo, vamos criar um programa que guarde não um, mas 10 nomes diferentes em uma única variável, e os exiba na tela.\n",
    "\n",
    "1. Crie um novo projeto Java, com o *package* `com.lista.app`, e instancie o `Scanner` para os *inputs*:"
   ]
  },
  {
   "cell_type": "code",
   "execution_count": null,
   "id": "1b9344c5",
   "metadata": {
    "vscode": {
     "languageId": "java"
    }
   },
   "outputs": [],
   "source": [
    "package com.lista.app;\n",
    "\n",
    "import java.util.Scanner;\n",
    "\n",
    "public class App {\n",
    "    public static void main(String[] args) throws Exception {\n",
    "        Scanner leia = new Scanner(System.in);\n",
    "\n",
    "        leia.close();\n",
    "    }\n",
    "}\n"
   ]
  },
  {
   "cell_type": "markdown",
   "id": "788bf7e9",
   "metadata": {},
   "source": [
    "2. Agora, vamos criar o nosso *array* de nomes. Insira o comando `String[] nomes = new String[10];` para declarar o array:"
   ]
  },
  {
   "cell_type": "code",
   "execution_count": null,
   "id": "34c0ee0e",
   "metadata": {
    "vscode": {
     "languageId": "java"
    }
   },
   "outputs": [],
   "source": [
    "package com.lista.app;\n",
    "\n",
    "import java.util.Scanner;\n",
    "\n",
    "public class App {\n",
    "    public static void main(String[] args) throws Exception {\n",
    "        Scanner leia = new Scanner(System.in);\n",
    "\n",
    "        // declaração de array\n",
    "        String[] nomes = new String[10];\n",
    "\n",
    "        leia.close();\n",
    "    }\n",
    "}\n"
   ]
  },
  {
   "cell_type": "markdown",
   "id": "cfe2da91",
   "metadata": {},
   "source": [
    "3. Isso fará com que sejam armazenadas 10 posições na memória do computador para nomes. Todos os valores armazenados serão do tipo `String`.\n",
    "\n",
    "> Antes de prosseguirmos, precisamos entender como funciona uma contagem para o computador: diferente do ser humano, que começa a contagem a partir do 1, o computador começa a contar a partir do 0 (zero). Isso significa que a primeira posição do array não é a posição 1, mas sim a posição 0, e a última posição de um array de 10 posições não é a posição 10, mas sim a posição 9."
   ]
  },
  {
   "cell_type": "markdown",
   "id": "f7b4ae06",
   "metadata": {},
   "source": [
    "4. Dito isso, vamos criar um laço de repetição para percorrer o vetor, desde a posição 0 até a posição 9, recebendo os inputs do usuário para cada um deles:"
   ]
  },
  {
   "cell_type": "code",
   "execution_count": null,
   "id": "b4e4ebdd",
   "metadata": {
    "vscode": {
     "languageId": "java"
    }
   },
   "outputs": [],
   "source": [
    "package com.lista.app;\n",
    "\n",
    "import java.util.Scanner;\n",
    "\n",
    "public class App {\n",
    "    public static void main(String[] args) throws Exception {\n",
    "        Scanner leia = new Scanner(System.in);\n",
    "\n",
    "        // declaração de array\n",
    "        String[] nomes = new String[10];\n",
    "\n",
    "        // laço de repetição que percorre o vetor\n",
    "        for (int i = 0; i < nomes.length; i++) {\n",
    "            System.out.print(\"Digite o \" + (i + 1) + \"º nome:\");\n",
    "            nomes[i] = leia.nextLine();\n",
    "        }\n",
    "\n",
    "        leia.close();\n",
    "    }\n",
    "}\n"
   ]
  },
  {
   "cell_type": "markdown",
   "id": "0e25b969",
   "metadata": {},
   "source": [
    "5. Agora, vamos criar outro laço de repetição para percorrer o mesmo vetor, mas desta vez exibindo cada nome na lista:"
   ]
  },
  {
   "cell_type": "code",
   "execution_count": null,
   "id": "53b13c07",
   "metadata": {
    "vscode": {
     "languageId": "java"
    }
   },
   "outputs": [],
   "source": [
    "package com.lista.app;\n",
    "\n",
    "import java.util.Scanner;\n",
    "\n",
    "public class App {\n",
    "    public static void main(String[] args) throws Exception {\n",
    "        Scanner leia = new Scanner(System.in);\n",
    "\n",
    "        // declaração de array\n",
    "        String[] nomes = new String[10];\n",
    "\n",
    "        // laço de repetição que percorre o vetor\n",
    "        for (int i = 0; i < nomes.length; i++) {\n",
    "            System.out.print(\"Digite o \" + (i + 1) + \"º nome:\");\n",
    "            nomes[i] = leia.nextLine();\n",
    "        }\n",
    "\n",
    "        // laço foreach para exibição dos nomes\n",
    "        for (String nome : nomes) {\n",
    "            System.out.println(nome);\n",
    "        }\n",
    "\n",
    "        leia.close();\n",
    "    }\n",
    "}\n",
    "\n"
   ]
  }
 ],
 "metadata": {
  "language_info": {
   "name": "python"
  }
 },
 "nbformat": 4,
 "nbformat_minor": 5
}
