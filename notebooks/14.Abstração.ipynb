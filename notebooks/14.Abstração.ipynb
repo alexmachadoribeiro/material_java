{
 "cells": [
  {
   "cell_type": "markdown",
   "id": "4ccbf9ff",
   "metadata": {},
   "source": [
    "# **Abstração**\n",
    "---"
   ]
  },
  {
   "cell_type": "markdown",
   "id": "a4dd740d",
   "metadata": {},
   "source": [
    "A **abstração** em orientação a objetos é um conceito fundamental que consiste em representar entidades do mundo real no software de forma simplificada, focando apenas nos aspectos essenciais para o contexto do sistema. Ou seja, abstração permite criar modelos que destacam as características importantes de um objeto, ignorando detalhes desnecessários.\n",
    "\n",
    "Por exemplo, ao modelar um sistema bancário, podemos criar uma classe `ContaBancaria` que abstrai apenas os atributos e comportamentos relevantes, como saldo, titular, depositar e sacar. Não precisamos incluir detalhes como a cor do cartão ou o tipo de papel usado no contrato, pois não são essenciais para o funcionamento do sistema.\n",
    "\n",
    "**Objetivos da abstração:**\n",
    "- **Simplificar o desenvolvimento:** Facilita o entendimento e manutenção do código, pois foca no que realmente importa.\n",
    "- **Reduzir complexidade:** Esconde detalhes internos e mostra apenas o que é necessário para o uso do objeto.\n",
    "- **Reutilização:** Permite criar componentes genéricos que podem ser usados em diferentes partes do sistema.\n",
    "- **Segurança:** Protege dados sensíveis, expondo apenas métodos e atributos necessários.\n",
    "\n",
    "Na prática, a abstração é implementada por meio de classes e interfaces, onde definimos métodos e atributos relevantes para o contexto, deixando detalhes internos ocultos para quem utiliza o objeto. Isso torna o sistema mais organizado, flexível e fácil de evoluir."
   ]
  },
  {
   "cell_type": "markdown",
   "id": "e03c951a",
   "metadata": {},
   "source": [
    "## Classe abstrata\n",
    "---"
   ]
  },
  {
   "cell_type": "markdown",
   "id": "60088acf",
   "metadata": {},
   "source": [
    "Na aula anterior, vimos o conceito de herança, onde uma ou mais classes podem herdar atributos e métodos de outra classe. A pergunta é: a superclasse precisa ser instânciada? Se a resposta for **não**, então a classe principal não precisa saber que ela existe. Logo, seria interessante impedir que a superclasse fosse instanciada. Isso é a classe abstrata: uma classe que não pode ser instanciada. Podemos ver como funciona no programa anterior:\n",
    "\n",
    "1. Abra o programa que fizemos na aula anterior: polimorfismo.\n",
    "2. Agora abra o arquivo `Pessoa.java`:\n",
    "\n",
    "#### Pessoa.java"
   ]
  },
  {
   "cell_type": "code",
   "execution_count": null,
   "id": "868a2729",
   "metadata": {
    "vscode": {
     "languageId": "java"
    }
   },
   "outputs": [],
   "source": [
    "package com.heranca.app;\n",
    "\n",
    "public class Pessoa {\n",
    "    // atributos\n",
    "    public String email;\n",
    "    public String telefone;\n",
    "    public String endereco;\n",
    "\n",
    "    public Pessoa(String email, String telefone, String endereco) {\n",
    "        this.email = email;\n",
    "        this.telefone = telefone;\n",
    "        this.endereco = endereco;\n",
    "    }\n",
    "\n",
    "    public String cumprimentar() {\n",
    "        return \"Moro em \" + this.endereco + \", meu telefone é \" + this.telefone + \" e meu email é \" + this.email + \".\";\n",
    "    }\n",
    "}\n"
   ]
  },
  {
   "cell_type": "markdown",
   "id": "f5926e2f",
   "metadata": {},
   "source": [
    "3. Queremos que a classe `Pessoa` seja abstrata. Para fazermos isso, precisamos apenas adicionar a palavra `abstract` no início da classe. Veja:"
   ]
  },
  {
   "cell_type": "code",
   "execution_count": null,
   "id": "fe813303",
   "metadata": {
    "vscode": {
     "languageId": "java"
    }
   },
   "outputs": [],
   "source": [
    "package com.heranca.app;\n",
    "\n",
    "abstract public class Pessoa {\n",
    "    // atributos\n",
    "    public String email;\n",
    "    public String telefone;\n",
    "    public String endereco;\n",
    "\n",
    "    public Pessoa(String email, String telefone, String endereco) {\n",
    "        this.email = email;\n",
    "        this.telefone = telefone;\n",
    "        this.endereco = endereco;\n",
    "    }\n",
    "\n",
    "    public String cumprimentar() {\n",
    "        return \"Moro em \" + this.endereco + \", meu telefone é \" + this.telefone + \" e meu email é \" + this.email + \".\";\n",
    "    }\n",
    "}\n"
   ]
  },
  {
   "cell_type": "markdown",
   "id": "be29d8fd",
   "metadata": {},
   "source": [
    "4. Pronto! Só isso. A classe já não pode mais ser instanciada. Experimente instanciá-la no `App.java`, e você verá que o programa não irá rodar."
   ]
  }
 ],
 "metadata": {
  "language_info": {
   "name": "python"
  }
 },
 "nbformat": 4,
 "nbformat_minor": 5
}
