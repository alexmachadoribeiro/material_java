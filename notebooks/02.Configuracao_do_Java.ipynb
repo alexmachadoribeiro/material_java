{
 "cells": [
  {
   "cell_type": "markdown",
   "id": "38a0f7f8",
   "metadata": {},
   "source": [
    "# **Configuração do Java**\n",
    "---"
   ]
  },
  {
   "cell_type": "markdown",
   "id": "928ce0e1",
   "metadata": {},
   "source": [
    "## Como funciona o Java?\n",
    "---\n",
    "\n",
    "Na aula anterior, você viu que, entre outras coisas, o Java foi desenvolvido para que o mesmo código-fonte rode em qualquer sistema existente no mundo. Antes de aprendermos a configurar o sistema, precisamos antes aprender como o Java funciona."
   ]
  },
  {
   "cell_type": "markdown",
   "id": "617bc9aa",
   "metadata": {},
   "source": [
    "### Linguagem compilada Vs Linguagem interpretada\n",
    "\n",
    "A primeira coisa que você precisa saber é a diferença entre linguagem compilada e linguagem interpretada:"
   ]
  },
  {
   "cell_type": "markdown",
   "id": "e30611b8",
   "metadata": {},
   "source": [
    "### Linguagem Compilada\n",
    "\n",
    "Uma **linguagem compilada** é aquela em que o código-fonte escrito pelo programador é transformado, por um programa chamado **compilador**, em código de máquina (binário) antes de ser executado. Esse código binário é específico para o sistema operacional e o processador onde será rodado. Exemplos de linguagens compiladas: C, C++, Go.\n",
    "\n",
    "**Vantagens:**\n",
    "- Execução mais rápida, pois já está em código de máquina.\n",
    "- Maior otimização pelo compilador.\n",
    "\n",
    "**Desvantagens:**\n",
    "- Precisa recompilar para cada sistema diferente.\n",
    "- O processo de compilação pode ser demorado.\n",
    "\n",
    "---\n",
    "\n",
    "### Linguagem Interpretada\n",
    "\n",
    "Uma **linguagem interpretada** é aquela em que o código-fonte é lido e executado linha por linha por um programa chamado **interpretador**. O interpretador traduz cada instrução do código para o sistema operacional no momento da execução. Exemplos de linguagens interpretadas: Python, JavaScript, PHP.\n",
    "\n",
    "**Vantagens:**\n",
    "- Mais fácil de testar e modificar, pois não precisa compilar.\n",
    "- Portabilidade: o mesmo código pode rodar em diferentes sistemas, desde que haja um interpretador.\n",
    "\n",
    "**Desvantagens:**\n",
    "- Execução geralmente mais lenta, pois a tradução acontece em tempo real.\n",
    "- Menor otimização comparado às compiladas.\n",
    "\n",
    "---\n",
    "\n",
    "**Resumo:**  \n",
    "- **Compilada:** Traduz tudo antes de rodar, executa mais rápido.\n",
    "- **Interpretada:** Traduz enquanto roda, executa mais devagar, mas é mais flexível."
   ]
  },
  {
   "cell_type": "markdown",
   "id": "8ae9513a",
   "metadata": {},
   "source": [
    "### JVM - Java Virtual Machine\n",
    "\n",
    "Agora que sabemos como funciona os dois tipos de linguagem, vamos aprender como funciona o Java. O grande segredo para o Java conseguir rodar em qualquer lugar é o chamado **Java Virtual Machine**.\n",
    "\n",
    "Na verdade, o Java não roda na sua máquina. Pelo menos não diretamente. O que ele faz é executar o código desenvolvido dentro dessa JVM. Essa JVM, por sua vez, é desenvollvido em outra linguagem (C/C++) para outros sistemas. Cada sistema tem seu próprio JVM. Uma vez que ele é instalado, sua máquina está pronta para rodar qualquer programa Java, não importa em que sistema ele foi desenvolvido.\n",
    "\n",
    "> ***A Java Virtual Machine ou JVM é um interpretador Java que carrega e executa os aplicativos Java que estão em bytecodes, convertendo esses bytecodes em código executável de máquina. Um interpretador nada mais é do que um programa que simula um conjunto de instruções.***"
   ]
  },
  {
   "cell_type": "markdown",
   "id": "67b5cfc8",
   "metadata": {},
   "source": [
    "#### Java é compilado ou interpretado?\n",
    "\n",
    "Java é uma linguagem de programação que combina os dois processos: compilação e interpretação. Primeiro, o código-fonte Java é compilado para bytecode, um formato intermediário. Depois, a Máquina Virtual Java (JVM) interpreta esse bytecode e o executa, traduzindo-o para a linguagem de máquina específica da plataforma.\n",
    "\n",
    "Quando você compila um código Java, o compilador (javac) transforma o código-fonte em bytecode. O bytecode não é código de máquina diretamente executável, mas sim um conjunto de instruções que a JVM pode entender. A JVM atua como um interpretador que lê e executa esse bytecode. Ela traduz o bytecode para a linguagem de máquina do sistema operacional em que está sendo executada, permitindo que o código Java seja executado em diferentes plataformas sem a necessidade de recompilação.\n",
    "\n",
    "Essa abordagem híbrida permite que Java seja \"escreva uma vez, execute em qualquer lugar\" (WORA - Write Once, Run Anywhere), já que o bytecode é independente da arquitetura da máquina.\n",
    "\n",
    "A JVM pode otimizar a execução do bytecode em tempo real, usando técnicas como a compilação JIT (Just-In-Time), que compila trechos de código em bytecode para código nativo durante a execução, melhorando o desempenho. Em resumo, Java usa um compilador para transformar o código-fonte em bytecode e uma JVM para interpretar e executar esse bytecode, oferecendo portabilidade e desempenho."
   ]
  },
  {
   "cell_type": "markdown",
   "id": "fe1dc4d8",
   "metadata": {},
   "source": [
    "## JRE - Java Runtime Environment\n",
    "---"
   ]
  },
  {
   "cell_type": "markdown",
   "id": "2b79b536",
   "metadata": {},
   "source": [
    "O **Ambiente de Execução Java**, também conhecido como **JRE**, é basicamente o programa que o usuário leigo baixa em sua máquina quando deseja executar algum programa feito em Java, como o site do banco ou o programa do Imposto de Renda. Sabe quando o computador diz que tem que \"baixar o Java\"? Então, é o JRE.\n",
    "\n",
    "O **Java Runtime Environment (JRE)** é um conjunto de ferramentas e bibliotecas que permite que programas escritos em Java sejam executados em qualquer computador, independentemente do sistema operacional. Ele é essencial para rodar aplicações Java, mas não serve para desenvolvê-las (para isso, usamos o JDK, do qual falaremos mais para frente, ainda nessa aula).\n",
    "\n",
    "### Como funciona o JRE?\n",
    "\n",
    "O JRE inclui:\n",
    "\n",
    "- **A Máquina Virtual Java (JVM):** Responsável por interpretar e executar o bytecode Java, traduzindo-o para instruções que o sistema operacional entende.\n",
    "- **Bibliotecas padrão:** Um conjunto de classes e funções prontas que os programas Java usam para tarefas comuns, como manipulação de arquivos, redes, interface gráfica, etc.\n",
    "- **Arquivos de suporte:** Recursos necessários para o funcionamento das aplicações Java.\n",
    "\n",
    "Quando você instala o JRE no seu computador, está preparando o ambiente para rodar qualquer programa Java. Ao abrir um aplicativo Java, o JRE entra em ação: a JVM lê o bytecode do programa, interpreta e executa as instruções, usando as bibliotecas e recursos do JRE.\n",
    "\n",
    "### Resumindo\n",
    "\n",
    "- O JRE **não compila** código Java, apenas executa.\n",
    "- É o que o usuário final instala para rodar programas Java.\n",
    "- Garante que o mesmo programa Java funcione em diferentes sistemas operacionais, desde que o JRE esteja instalado."
   ]
  },
  {
   "cell_type": "markdown",
   "id": "b9042937",
   "metadata": {},
   "source": [
    "## JDK - Java Development Kit\n",
    "---"
   ]
  },
  {
   "cell_type": "markdown",
   "id": "40669db2",
   "metadata": {},
   "source": [
    "Como visto, o JRE basta para rodar os programas Java, mas não para programá-los. Para isso, é necessário o **Kit de Desenvolvimento Java**."
   ]
  },
  {
   "cell_type": "markdown",
   "id": "72735359",
   "metadata": {},
   "source": [
    "O **JDK (Java Development Kit)** é o kit completo para quem deseja desenvolver aplicações em Java. Ele inclui todas as ferramentas necessárias para criar, compilar, depurar e executar programas Java.\n",
    "\n",
    "### Para que serve o JDK?\n",
    "\n",
    "O JDK é utilizado por desenvolvedores para:\n",
    "- Escrever código Java (editor, IDE, etc.)\n",
    "- Compilar o código-fonte Java em bytecode (usando o compilador `javac`)\n",
    "- Testar e depurar aplicações Java\n",
    "- Gerar documentação e gerenciar pacotes\n",
    "\n",
    "### Diferença entre JDK, JRE e JVM\n",
    "\n",
    "- **JDK:** É o pacote mais completo, voltado para quem desenvolve em Java. Inclui o JRE, o compilador (`javac`), ferramentas de desenvolvimento e utilitários.\n",
    "- **JRE:** É o ambiente necessário apenas para executar programas Java. Inclui a JVM e as bibliotecas padrão, mas não possui ferramentas de desenvolvimento.\n",
    "- **JVM:** É a Máquina Virtual Java, responsável por interpretar e executar o bytecode Java. É o componente central do JRE e do JDK.\n",
    "\n",
    "**Resumo:**  \n",
    "- Usuário comum instala o **JRE** para rodar programas Java.  \n",
    "- Desenvolvedor instala o **JDK** para criar e rodar programas Java.  \n",
    "- A **JVM** é o motor que executa o bytecode, presente tanto no JRE quanto no JDK."
   ]
  },
  {
   "cell_type": "markdown",
   "id": "c50bb2aa",
   "metadata": {},
   "source": [
    "## Como verificar se a sua máquina tem o JRE e o JDK?\n",
    "---"
   ]
  },
  {
   "cell_type": "markdown",
   "id": "bae6e09b",
   "metadata": {},
   "source": [
    "Como o JVM é o componente central tanto do JRE quanto do JDK, basta ter qualquer um dos dois para ter o JVM.\n",
    "\n",
    "Já se sua máquina já precisou rodar algum programa feito em Java alguma vez, como por exemplo algum site de banco ou o programa do Imposto de Renda, então quase com certeza ele já possui o JRE, mas para tirar a dúvida, acesse o terminal do seu Sistema Operacional. No caso do Windows, pode ser o **Power Shell** ou o **CMD**, também conhecido como **Prompt de Comando**, e digite o comando `java --version`. Se aparecer a versão do Java, significa que ele está instalado."
   ]
  },
  {
   "cell_type": "markdown",
   "id": "2a4a8eac",
   "metadata": {},
   "source": [
    "<div style=\"display: flex; justify-content: center\">\n",
    "    <img src=\"../assets/02-01.png\" alt=\"CMD\" />\n",
    "</div>"
   ]
  },
  {
   "cell_type": "markdown",
   "id": "70c7c93a",
   "metadata": {},
   "source": [
    "Isso indica que o JRE está instalado, e portanto pode rodar programas feitos em Java, mas ainda não indica que você pode usar essa máquina para programar. Portanto, precisaremos verificar se a máquina também possui o JDK. Para isso, executaremos também no terminal o comando `javac --version`. Da mesma forma, o terminal deve retornar com a versão do JDK, que deve ser a mesma do JRE. Caso esse comando mostre uma mensagem de que o comando executado não existe, pode significar que o JDK não está instalado, ou foi instalado de forma incorreta, o que ocasionou o fato do Sistema Operacional não estar reconhecendo. De qualquer forma, caso o SO não reconheça o comando e você, de fato, tenha instalado o JDK, reinicie a máquina e execute o comando novamente. Se ainda sim o SO não estiver reconhecendo o JDK, desinstale e reinicie a instalação, pois sem ele não será possível prosseguir com a programação em Java."
   ]
  },
  {
   "cell_type": "markdown",
   "id": "29b425a3",
   "metadata": {},
   "source": [
    "<div style=\"display: flex; justify-content: center\">\n",
    "    <img src=\"../assets/02-02.png\" alt=\"CMD\" />\n",
    "</div>"
   ]
  },
  {
   "cell_type": "markdown",
   "id": "dbf0e253",
   "metadata": {},
   "source": [
    "Caso não tenha o JRE instalado e deseja programar em Java, basta apenas instalar o JDK, pois ele vem junto com o JRE, que por sua vez contém o JVM. Uma vez que você instala o JDK, você já tem quase tudo para poder programar em Java, sendo necessário apenas decidir qual programa você irá utilizar para codar.\n",
    "\n",
    "Se o comando anterior mostrou a versão do Java e não deu erro, pode pular a próxima etapa e ir direto para a seção **Escolher a melhor IDE**, mas caso tenha dado erro, siga para a próxima seção **Instalar o JDK na sua máquina**."
   ]
  },
  {
   "cell_type": "markdown",
   "id": "a4e444d6",
   "metadata": {},
   "source": [
    "## Instalar o JDK na sua máquina\n",
    "---"
   ]
  },
  {
   "cell_type": "markdown",
   "id": "80463e82",
   "metadata": {},
   "source": [
    "Provavelmente não será necessário instalar o JRE na sua máquina, poisprovavelmente você já tenha. Mas caso não tenha, não há problema, pois ao instalar o JDK, você terá junto o JRE e o JVM.\n",
    "\n",
    "Conforme vimos na aula anterior, o atual detentor dos direitos do Java é a Oracle, e não mais a Sun Microsystems. Portanto, para baixarmos o JDK mais reccente, precisaremos ir na [seção de download do Java no site da Oracle](https://www.oracle.com/java/technologies/downloads/).\n",
    "\n",
    "1. Acesse o site https://www.oracle.com/java/technologies/downloads/."
   ]
  },
  {
   "cell_type": "markdown",
   "id": "1a8afb57",
   "metadata": {},
   "source": [
    "<div style=\"display: flex; justify-content: center\">\n",
    "    <img src=\"../assets/02-03.png\" alt=\"Oracle\" />\n",
    "</div>"
   ]
  },
  {
   "cell_type": "markdown",
   "id": "3625287a",
   "metadata": {},
   "source": [
    "Observe que existem duas versões do JDK:\n",
    "\n",
    "- JDK 24 is the latest release of the Java SE Platform (JDK 24 é a mais recente versão da plataforma Java SE).\n",
    "- JDK 21 is the latest Long-Term Support (LTS) release of the Java SE Platform (JDK 21 é a mais recente versão de suporte a longo prazo (LTS) da plataforma Java SE)."
   ]
  },
  {
   "cell_type": "markdown",
   "id": "0ecba13b",
   "metadata": {},
   "source": [
    "A diferença técnica entre o **JDK Java SE** (Standard Edition) e o **JDK Java SE LTS** (Long-Term Support) está principalmente no tempo de suporte e estabilidade das versões:\n",
    "\n",
    "---\n",
    "\n",
    "### JDK Java SE (versão regular)\n",
    "\n",
    "- É a versão mais recente do Java, lançada a cada seis meses.\n",
    "- Recebe as últimas novidades, recursos e melhorias da linguagem.\n",
    "- Tem suporte oficial por um período curto (geralmente até o próximo lançamento).\n",
    "- Indicada para quem quer experimentar as funcionalidades mais novas ou precisa de recursos recém-lançados.\n",
    "\n",
    "### JDK Java SE LTS (Long-Term Support)\n",
    "\n",
    "- É uma versão especial que recebe suporte estendido da Oracle (geralmente por vários anos).\n",
    "- Foca em estabilidade e segurança, sendo recomendada para ambientes de produção.\n",
    "- Recebe apenas atualizações de segurança e correções críticas, sem grandes mudanças de funcionalidades.\n",
    "- Ideal para empresas e projetos que precisam de confiabilidade e manutenção por longo prazo.\n",
    "\n",
    "---\n",
    "\n",
    "**Resumo:**  \n",
    "- **JDK SE:** Últimas novidades, suporte curto, indicado para testes e inovação.  \n",
    "- **JDK SE LTS:** Suporte longo, estabilidade, indicado para produção e projetos corporativos."
   ]
  },
  {
   "cell_type": "markdown",
   "id": "212ab2db",
   "metadata": {},
   "source": [
    "---\n",
    "\n",
    "> ***É por esse motivo que iremos baixar o JDK Java SE LTS sempre, independente da versão que esteja no site.***"
   ]
  },
  {
   "cell_type": "markdown",
   "id": "a96b2003",
   "metadata": {},
   "source": [
    "2. Escolha a versão LTS e depois escolha o seu Sistema Operacional. Depois, clique no link para baixar o executável do JDK:"
   ]
  },
  {
   "cell_type": "markdown",
   "id": "3c85b716",
   "metadata": {},
   "source": [
    "<div style=\"display: flex; justify-content: center\">\n",
    "    <img src=\"../assets/02-04.png\" alt=\"Oracle\" />\n",
    "</div>"
   ]
  },
  {
   "cell_type": "markdown",
   "id": "3e0f9ea7",
   "metadata": {},
   "source": [
    "3. A instalação em si não guarda segredos: abra o executável na pasta onde foi feito o download, vá clicando em **Next -> Next -> Install -> Finish**, ou seja, o mesmo exato procedimento de instalação de qualquer outro software."
   ]
  },
  {
   "cell_type": "markdown",
   "id": "53079657",
   "metadata": {},
   "source": [
    "> ***Obs: em versões antigas do Java, mais precisamente até a versão 11, havia a necessidade de adicionar uma variável de ambiente no Sistema Operacional para que o SO pudesse reconheccer o Java, mas atualmente os instaladores já fazem isso durante o procedimento de instalação. Portanto é só instalar o JDK e o SO já é capaz de reconhecer o JDK sem problemas.***"
   ]
  },
  {
   "cell_type": "markdown",
   "id": "9707003a",
   "metadata": {},
   "source": [
    "4. Agora, o nosso próximo passo é escolher e instalar a IDE que utilizaremos para programar em Java."
   ]
  },
  {
   "cell_type": "markdown",
   "id": "4cf69a0a",
   "metadata": {},
   "source": [
    "## Escolher a melhor IDE\n",
    "---"
   ]
  },
  {
   "cell_type": "markdown",
   "id": "aed8b083",
   "metadata": {},
   "source": [
    "..."
   ]
  }
 ],
 "metadata": {
  "language_info": {
   "name": "python"
  }
 },
 "nbformat": 4,
 "nbformat_minor": 5
}
