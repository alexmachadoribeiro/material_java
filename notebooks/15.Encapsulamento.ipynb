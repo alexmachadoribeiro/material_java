{
 "cells": [
  {
   "cell_type": "markdown",
   "id": "e26ec570",
   "metadata": {},
   "source": [
    "# **Encapsulamento**\n",
    "---"
   ]
  },
  {
   "cell_type": "markdown",
   "id": "24dc6a31",
   "metadata": {},
   "source": [
    "Encapsulamento é um dos pilares da programação orientada a objetos. Ele consiste em **proteger os dados** de uma classe, permitindo que o acesso e a modificação desses dados sejam feitos apenas por meio de métodos definidos pela própria classe.\n",
    "\n",
    "### Como funciona?\n",
    "\n",
    "- Os atributos (variáveis) de uma classe geralmente são declarados como `private`, ou seja, só podem ser acessados dentro da própria classe.\n",
    "- Para acessar ou modificar esses atributos, usamos métodos públicos chamados de **getters** (para obter valores) e **setters** (para alterar valores).\n",
    "- Isso garante que os dados estejam sempre consistentes e seguros, pois só podem ser alterados de maneira controlada.\n",
    "\n",
    "### Exemplo em Java\n",
    "\n"
   ]
  },
  {
   "cell_type": "code",
   "execution_count": null,
   "id": "6748862f",
   "metadata": {
    "vscode": {
     "languageId": "java"
    }
   },
   "outputs": [],
   "source": [
    "public class Pessoa {\n",
    "    private String nome; // atributo encapsulado\n",
    "\n",
    "    // Getter\n",
    "    public String getNome() {\n",
    "        return nome;\n",
    "    }\n",
    "\n",
    "    // Setter\n",
    "    public void setNome(String nome) {\n",
    "        this.nome = nome;\n",
    "    }\n",
    "}"
   ]
  },
  {
   "cell_type": "markdown",
   "id": "0cb8a970",
   "metadata": {},
   "source": [
    "\n",
    "\n",
    "### Vantagens do encapsulamento\n",
    "\n",
    "- Protege os dados contra alterações indevidas.\n",
    "- Facilita a manutenção do código.\n",
    "- Permite definir regras para acesso e modificação dos dados.\n",
    "\n",
    "**Resumo:**  \n",
    "Encapsulamento é esconder os detalhes internos de uma classe e expor apenas o que for necessário, tornando o código mais seguro e organizado."
   ]
  },
  {
   "cell_type": "markdown",
   "id": "4999b4f8",
   "metadata": {},
   "source": [
    "## Modificadores de Acesso\n",
    "---"
   ]
  },
  {
   "cell_type": "markdown",
   "id": "ffe0d7af",
   "metadata": {},
   "source": [
    "No Java, **modificadores de acesso** são palavras-chave usadas para controlar a visibilidade dos atributos, métodos e classes. Eles definem quem pode acessar determinado elemento do código.\n",
    "\n",
    "### Principais modificadores de acesso:\n",
    "\n",
    "- **public**  \n",
    "  Permite acesso de qualquer classe, em qualquer pacote.\n",
    "\n",
    "- **private**  \n",
    "  Permite acesso apenas dentro da própria classe onde foi declarado.\n",
    "\n",
    "- **protected**  \n",
    "  Permite acesso dentro da própria classe, das subclasses (mesmo em outros pacotes) e das classes do mesmo pacote.\n",
    "\n",
    "- **(sem modificador, chamado de “package-private” ou “default”)**  \n",
    "  Permite acesso apenas às classes do mesmo pacote. Basta não colocar nenhum modificador.\n",
    "\n",
    "---\n",
    "\n",
    "**Resumo:**  \n",
    "- `public`: acesso total  \n",
    "- `private`: acesso restrito à própria classe  \n",
    "- `protected`: acesso à classe, subclasses e mesmo pacote  \n",
    "- *(default)*: acesso apenas dentro do mesmo pacote"
   ]
  },
  {
   "cell_type": "markdown",
   "id": "2922a384",
   "metadata": {},
   "source": [
    "## Trabalhanco com os 4 pilares da Orientação a Objetos\n",
    "---"
   ]
  },
  {
   "cell_type": "markdown",
   "id": "de7cffb8",
   "metadata": {},
   "source": [
    "Vamo ver na prática como funciona o encapsulamento junto com os outros 3 pilares da Orientação a Objetos:\n",
    "\n",
    "1. Crie um novo projeto Java, e dentro dele crie um pacote chamado `com.pilares.app`. Não se esqueça de transferir o arquivo `App.java` para dentro do pacote.\n",
    "2. Agora, como vamos trabalhar com várias classes, é mais interessante separá-las em pacotes diferentes. É o que vamos fazer. Clique com o botão direito do mouse em cima da pasta `src`, e crie um novo pacote, que vamos chamar de `com.pilares.model`. A estrutura de pastas ficará assim:"
   ]
  },
  {
   "cell_type": "markdown",
   "id": "940c9d75",
   "metadata": {},
   "source": [
    "<div style=\"display: flex; justify-content: center\">\n",
    "    <img src=\"../assets//15-01.png\" alt=\"Model\" />\n",
    "</div>"
   ]
  },
  {
   "cell_type": "markdown",
   "id": "2f705b04",
   "metadata": {},
   "source": [
    "3. Dentro da pasta `model`, iremos criar 3 classes: `Pessoa`, `PessoaFisica` e `PessoaJuridica`:"
   ]
  },
  {
   "cell_type": "markdown",
   "id": "76a04e41",
   "metadata": {},
   "source": [
    "<div style=\"display: flex; justify-content: center\">\n",
    "    <img src=\"../assets/15-02.png\" alt=\"Model\" />\n",
    "</div>"
   ]
  },
  {
   "cell_type": "markdown",
   "id": "dd66e4c8",
   "metadata": {},
   "source": [
    "4. Faça as seguintes modificações:\n",
    "\n",
    "- `Pessoa`: mude para `abstract`\n",
    "- `PessoaFisica` e `PessoaJuridica`: mude para `final` e inclua o `extends Pessoa` nas duas classes.\n",
    "\n",
    "##### Pessoa.java"
   ]
  },
  {
   "cell_type": "code",
   "execution_count": null,
   "id": "006368a6",
   "metadata": {
    "vscode": {
     "languageId": "java"
    }
   },
   "outputs": [],
   "source": [
    "package com.pilares.model;\n",
    "\n",
    "abstract public class Pessoa {\n",
    "\n",
    "}\n"
   ]
  },
  {
   "cell_type": "markdown",
   "id": "68593fef",
   "metadata": {},
   "source": [
    "##### PessoaFisica.java"
   ]
  },
  {
   "cell_type": "code",
   "execution_count": null,
   "id": "3ce88b29",
   "metadata": {
    "vscode": {
     "languageId": "java"
    }
   },
   "outputs": [],
   "source": [
    "package com.pilares.model;\n",
    "\n",
    "final public class PessoaFisica extends Pessoa {\n",
    "\n",
    "}\n"
   ]
  },
  {
   "cell_type": "markdown",
   "id": "fb992b55",
   "metadata": {},
   "source": [
    "##### PessoaJuriica.java"
   ]
  },
  {
   "cell_type": "code",
   "execution_count": null,
   "id": "51bca280",
   "metadata": {
    "vscode": {
     "languageId": "java"
    }
   },
   "outputs": [],
   "source": [
    "package com.pilares.model;\n",
    "\n",
    "final public class PessoaJuridica extends Pessoa {\n",
    "\n",
    "}\n"
   ]
  },
  {
   "cell_type": "markdown",
   "id": "a8264fd4",
   "metadata": {},
   "source": [
    "5. Vá para a classe `Pessoa` e adicione os atributos em comum com as subclasses. Defina-os como `private` ao invés de `public`:"
   ]
  },
  {
   "cell_type": "code",
   "execution_count": null,
   "id": "5de5a882",
   "metadata": {
    "vscode": {
     "languageId": "java"
    }
   },
   "outputs": [],
   "source": [
    "package com.pilares.model;\n",
    "\n",
    "abstract public class Pessoa {\n",
    "    private String email;\n",
    "    private String telefone;\n",
    "    private String endereco;\n",
    "}\n"
   ]
  },
  {
   "cell_type": "markdown",
   "id": "2a7f6eae",
   "metadata": {},
   "source": [
    "6. Agora, adicione o construtor normalmente:"
   ]
  },
  {
   "cell_type": "code",
   "execution_count": null,
   "id": "8c37c949",
   "metadata": {
    "vscode": {
     "languageId": "java"
    }
   },
   "outputs": [],
   "source": [
    "package com.pilares.model;\n",
    "\n",
    "abstract public class Pessoa {\n",
    "    private String email;\n",
    "    private String telefone;\n",
    "    private String endereco;\n",
    "\n",
    "    public Pessoa(String email, String telefone, String endereco) {\n",
    "        this.email = email;\n",
    "        this.telefone = telefone;\n",
    "        this.endereco = endereco;\n",
    "    }\n",
    "}\n"
   ]
  },
  {
   "cell_type": "markdown",
   "id": "de57ca7c",
   "metadata": {},
   "source": [
    "7. Há uma forma fácil de inserir rapidamente os **getters** e **setters**. Clique com o botão direito do mouse no meio do código-fonte. Depois, vá em **Code Generator For Java -> Generate Getters and Setters**:"
   ]
  },
  {
   "cell_type": "markdown",
   "id": "af06f52a",
   "metadata": {},
   "source": [
    "<div style=\"display: flex; justify-content: center\">\n",
    "    <img src=\"../assets/15-03.png\" alt=\"Getters e Setters\" />\n",
    "</div>"
   ]
  },
  {
   "cell_type": "markdown",
   "id": "907ffef5",
   "metadata": {},
   "source": [
    "8. O resultado deverá ser este:"
   ]
  },
  {
   "cell_type": "code",
   "execution_count": null,
   "id": "eeef3d63",
   "metadata": {
    "vscode": {
     "languageId": "java"
    }
   },
   "outputs": [],
   "source": [
    "package com.pilares.model;\n",
    "\n",
    "abstract public class Pessoa {\n",
    "    private String email;\n",
    "    private String telefone;\n",
    "    private String endereco;\n",
    "\n",
    "    public Pessoa(String email, String telefone, String endereco) {\n",
    "        this.email = email;\n",
    "        this.telefone = telefone;\n",
    "        this.endereco = endereco;\n",
    "    }\n",
    "\n",
    "    public String getEmail() {\n",
    "        return this.email;\n",
    "    }\n",
    "\n",
    "    public void setEmail(String email) {\n",
    "        this.email = email;\n",
    "    }\n",
    "\n",
    "    public String getTelefone() {\n",
    "        return this.telefone;\n",
    "    }\n",
    "\n",
    "    public void setTelefone(String telefone) {\n",
    "        this.telefone = telefone;\n",
    "    }\n",
    "\n",
    "    public String getEndereco() {\n",
    "        return this.endereco;\n",
    "    }\n",
    "\n",
    "    public void setEndereco(String endereco) {\n",
    "        this.endereco = endereco;\n",
    "    }\n",
    "}\n"
   ]
  },
  {
   "cell_type": "markdown",
   "id": "0ba239d6",
   "metadata": {},
   "source": [
    "9. Agora, vamos para a classe `PessoaFisica`:\n",
    "\n",
    "##### PessoaFisica.java"
   ]
  },
  {
   "cell_type": "code",
   "execution_count": null,
   "id": "0753e77c",
   "metadata": {
    "vscode": {
     "languageId": "java"
    }
   },
   "outputs": [],
   "source": [
    "package com.pilares.model;\n",
    "\n",
    "final public class PessoaFisica extends Pessoa {\n",
    "\n",
    "}\n"
   ]
  },
  {
   "cell_type": "markdown",
   "id": "a7531cba",
   "metadata": {},
   "source": [
    "10. Adicione os atributos específicos dessa classe como `private`. Depois, adicione o construtor, trazendo o compportamento da superclasse através do comando `super`, e depois adicione os **getters** e **setters** da mesma forma que na classe anterior. Vai ficar assim:"
   ]
  },
  {
   "cell_type": "code",
   "execution_count": null,
   "id": "3cec71c4",
   "metadata": {
    "vscode": {
     "languageId": "java"
    }
   },
   "outputs": [],
   "source": [
    "package com.pilares.model;\n",
    "\n",
    "final public class PessoaFisica extends Pessoa {\n",
    "    private String nome;\n",
    "    private String cpf;\n",
    "    private String dataNascimento;\n",
    "\n",
    "    public PessoaFisica(String email, String telefone, String endereco, String nome, String cpf, String dataNascimento) {\n",
    "        super(email, telefone, endereco);\n",
    "        this.nome = nome;\n",
    "        this.cpf = cpf;\n",
    "        this.dataNascimento = dataNascimento;\n",
    "    }\n",
    "\n",
    "    public String getNome() {\n",
    "        return this.nome;\n",
    "    }\n",
    "\n",
    "    public void setNome(String nome) {\n",
    "        this.nome = nome;\n",
    "    }\n",
    "\n",
    "    public String getCpf() {\n",
    "        return this.cpf;\n",
    "    }\n",
    "\n",
    "    public void setCpf(String cpf) {\n",
    "        this.cpf = cpf;\n",
    "    }\n",
    "\n",
    "    public String getDataNascimento() {\n",
    "        return this.dataNascimento;\n",
    "    }\n",
    "\n",
    "    public void setDataNascimento(String dataNascimento) {\n",
    "        this.dataNascimento = dataNascimento;\n",
    "    }\n",
    "}\n"
   ]
  },
  {
   "cell_type": "markdown",
   "id": "0443a98c",
   "metadata": {},
   "source": [
    "11. Repita o mesmo procedimento com a classe `PessoaJuridica`. Siga o exemplo abaixo:"
   ]
  },
  {
   "cell_type": "code",
   "execution_count": null,
   "id": "5ae3d9fe",
   "metadata": {
    "vscode": {
     "languageId": "java"
    }
   },
   "outputs": [],
   "source": [
    "package com.pilares.model;\n",
    "\n",
    "final public class PessoaJuridica extends Pessoa {\n",
    "    private String razaoSocial;\n",
    "    private String nomeFantasia;\n",
    "    private String cnpj;\n",
    "\n",
    "    public PessoaJuridica(String email, String telefone, String endereco, String razaoSocial, String nomeFantasia, String cnpj) {\n",
    "        super(email, telefone, endereco);\n",
    "        this.razaoSocial = razaoSocial;\n",
    "        this.nomeFantasia = nomeFantasia;\n",
    "        this.cnpj = cnpj;\n",
    "    }\n",
    "\n",
    "    public String getRazaoSocial() {\n",
    "        return this.razaoSocial;\n",
    "    }\n",
    "\n",
    "    public void setRazaoSocial(String razaoSocial) {\n",
    "        this.razaoSocial = razaoSocial;\n",
    "    }\n",
    "\n",
    "    public String getNomeFantasia() {\n",
    "        return this.nomeFantasia;\n",
    "    }\n",
    "\n",
    "    public void setNomeFantasia(String nomeFantasia) {\n",
    "        this.nomeFantasia = nomeFantasia;\n",
    "    }\n",
    "\n",
    "    public String getCnpj() {\n",
    "        return this.cnpj;\n",
    "    }\n",
    "\n",
    "    public void setCnpj(String cnpj) {\n",
    "        this.cnpj = cnpj;\n",
    "    }\n",
    "}\n"
   ]
  },
  {
   "cell_type": "markdown",
   "id": "12732fd4",
   "metadata": {},
   "source": [
    "12. Agora, volte para a classe `App`:\n",
    "\n",
    "##### App.java"
   ]
  },
  {
   "cell_type": "code",
   "execution_count": null,
   "id": "be41b262",
   "metadata": {
    "vscode": {
     "languageId": "java"
    }
   },
   "outputs": [],
   "source": [
    "package com.pilares.app;\n",
    "\n",
    "public class App {\n",
    "    public static void main(String[] args) throws Exception {\n",
    "        System.out.println(\"Hello, World!\");\n",
    "    }\n",
    "}\n"
   ]
  },
  {
   "cell_type": "markdown",
   "id": "20fb0708",
   "metadata": {},
   "source": [
    "13. Como separamos as classes em outro pacote, precisaremos importar essas classes. Adicione os comandos `import com.pilares.model.PessoaFisica;` e `import com.pilares.model.PessoaJuridica;` no início do seu código, após o `package`:"
   ]
  },
  {
   "cell_type": "code",
   "execution_count": null,
   "id": "3779f511",
   "metadata": {
    "vscode": {
     "languageId": "java"
    }
   },
   "outputs": [],
   "source": [
    "package com.pilares.app;\n",
    "\n",
    "import com.pilares.model.PessoaFisica;\n",
    "import com.pilares.model.PessoaJuridica;\n",
    "\n",
    "public class App {\n",
    "    public static void main(String[] args) throws Exception {\n",
    "        System.out.println(\"Hello, World!\");\n",
    "    }\n",
    "}\n"
   ]
  },
  {
   "cell_type": "markdown",
   "id": "9ee37d3c",
   "metadata": {},
   "source": [
    "14. Agora será possível instanciar as classes `PessoaFisica` e `PessoaJuridica`:"
   ]
  },
  {
   "cell_type": "code",
   "execution_count": null,
   "id": "d16dea30",
   "metadata": {
    "vscode": {
     "languageId": "java"
    }
   },
   "outputs": [],
   "source": [
    "package com.pilares.app;\n",
    "\n",
    "import com.pilares.model.PessoaFisica;\n",
    "import com.pilares.model.PessoaJuridica;\n",
    "\n",
    "public class App {\n",
    "    public static void main(String[] args) throws Exception {\n",
    "        PessoaFisica usuario = new PessoaFisica(null, null, null, null, null, null);\n",
    "        PessoaJuridica empresa = new PessoaJuridica(null, null, null, null, null, null);\n",
    "    }\n",
    "}\n"
   ]
  },
  {
   "cell_type": "markdown",
   "id": "7bd26b4e",
   "metadata": {},
   "source": [
    "15. Instancie normalmente a classe `Scanner` para que possamos receber os dados do usuário:"
   ]
  },
  {
   "cell_type": "code",
   "execution_count": null,
   "id": "6ea8e002",
   "metadata": {
    "vscode": {
     "languageId": "java"
    }
   },
   "outputs": [],
   "source": [
    "package com.pilares.app;\n",
    "\n",
    "import com.pilares.model.PessoaFisica;\n",
    "import com.pilares.model.PessoaJuridica;\n",
    "import java.util.Scanner;\n",
    "\n",
    "public class App {\n",
    "    public static void main(String[] args) throws Exception {\n",
    "        PessoaFisica usuario = new PessoaFisica(null, null, null, null, null, null);\n",
    "        PessoaJuridica empresa = new PessoaJuridica(null, null, null, null, null, null);\n",
    "        Scanner leia = new Scanner(System.in);\n",
    "\n",
    "        leia.close();\n",
    "    }\n",
    "}\n"
   ]
  },
  {
   "cell_type": "markdown",
   "id": "3939fcad",
   "metadata": {},
   "source": [
    "16. Como os atributos estão protegidos, não conseguiremos mais acessá-los de forma direta. Para isso, precisaremos dos métodos **set** para informar os valores dos atributos:"
   ]
  },
  {
   "cell_type": "code",
   "execution_count": null,
   "id": "856651c4",
   "metadata": {
    "vscode": {
     "languageId": "java"
    }
   },
   "outputs": [],
   "source": [
    "package com.pilares.app;\n",
    "\n",
    "import com.pilares.model.PessoaFisica;\n",
    "import com.pilares.model.PessoaJuridica;\n",
    "import java.util.Scanner;\n",
    "\n",
    "public class App {\n",
    "    public static void main(String[] args) throws Exception {\n",
    "        PessoaFisica usuario = new PessoaFisica(null, null, null, null, null, null);\n",
    "        PessoaJuridica empresa = new PessoaJuridica(null, null, null, null, null, null);\n",
    "        Scanner leia = new Scanner(System.in);\n",
    "\n",
    "        // input do usuário\n",
    "        System.out.println(\"Informe os dados do usuário:\\n\");\n",
    "        System.out.println(\"Informe o nome:\");\n",
    "        usuario.setNome(leia.nextLine());\n",
    "        System.out.println(\"Informe o CPF:\");\n",
    "        usuario.setCpf(leia.nextLine());\n",
    "        System.out.println(\"Informe a data de nascimento:\");\n",
    "        usuario.setDataNascimento(leia.nextLine());\n",
    "        System.out.println(\"Informe o e-mail:\");\n",
    "        usuario.setEmail(leia.nextLine());\n",
    "        System.out.println(\"Informe o telefone:\");\n",
    "        usuario.setTelefone(leia.nextLine());\n",
    "        System.out.println(\"Informe o endereço:\");\n",
    "        usuario.setEndereco(leia.nextLine());\n",
    "\n",
    "        // input da empresa\n",
    "        System.out.println(\"Informe os dados da empresa:\\n\");\n",
    "        System.out.println(\"Informe a Razão Social:\");\n",
    "        empresa.setRazaoSocial(leia.nextLine());\n",
    "        System.out.println(\"Informe o nome da empresa:\");\n",
    "        empresa.setNomeFantasia(leia.nextLine());\n",
    "        System.out.println(\"Informe o CNPJ:\");\n",
    "        empresa.setCnpj(leia.nextLine());\n",
    "        System.out.println(\"Informe o e-mail da empresa:\");\n",
    "        empresa.setEmail(leia.nextLine());\n",
    "        System.out.println(\"Informe o telefone da empresa:\");\n",
    "        empresa.setTelefone(leia.nextLine());\n",
    "        System.out.println(\"Informe o endereço da empresa:\");\n",
    "        empresa.setEndereco(leia.nextLine());\n",
    "\n",
    "        leia.close();\n",
    "    }\n",
    "}\n"
   ]
  },
  {
   "cell_type": "markdown",
   "id": "fd19e847",
   "metadata": {},
   "source": [
    "17. Agora, para exibir os valores, iremos utilizar os métodos **get**:"
   ]
  },
  {
   "cell_type": "code",
   "execution_count": null,
   "id": "053fdeeb",
   "metadata": {
    "vscode": {
     "languageId": "java"
    }
   },
   "outputs": [],
   "source": [
    "package com.pilares.app;\n",
    "\n",
    "import com.pilares.model.PessoaFisica;\n",
    "import com.pilares.model.PessoaJuridica;\n",
    "import java.util.Scanner;\n",
    "\n",
    "public class App {\n",
    "    public static void main(String[] args) throws Exception {\n",
    "        PessoaFisica usuario = new PessoaFisica(null, null, null, null, null, null);\n",
    "        PessoaJuridica empresa = new PessoaJuridica(null, null, null, null, null, null);\n",
    "        Scanner leia = new Scanner(System.in);\n",
    "\n",
    "        // input do usuário\n",
    "        System.out.println(\"Informe os dados do usuário:\\n\");\n",
    "        System.out.println(\"Informe o nome:\");\n",
    "        usuario.setNome(leia.nextLine());\n",
    "        System.out.println(\"Informe o CPF:\");\n",
    "        usuario.setCpf(leia.nextLine());\n",
    "        System.out.println(\"Informe a data de nascimento:\");\n",
    "        usuario.setDataNascimento(leia.nextLine());\n",
    "        System.out.println(\"Informe o e-mail:\");\n",
    "        usuario.setEmail(leia.nextLine());\n",
    "        System.out.println(\"Informe o telefone:\");\n",
    "        usuario.setTelefone(leia.nextLine());\n",
    "        System.out.println(\"Informe o endereço:\");\n",
    "        usuario.setEndereco(leia.nextLine());\n",
    "\n",
    "        // input da empresa\n",
    "        System.out.println(\"Informe os dados da empresa:\\n\");\n",
    "        System.out.println(\"Informe a Razão Social:\");\n",
    "        empresa.setRazaoSocial(leia.nextLine());\n",
    "        System.out.println(\"Informe o nome da empresa:\");\n",
    "        empresa.setNomeFantasia(leia.nextLine());\n",
    "        System.out.println(\"Informe o CNPJ:\");\n",
    "        empresa.setCnpj(leia.nextLine());\n",
    "        System.out.println(\"Informe o e-mail da empresa:\");\n",
    "        empresa.setEmail(leia.nextLine());\n",
    "        System.out.println(\"Informe o telefone da empresa:\");\n",
    "        empresa.setTelefone(leia.nextLine());\n",
    "        System.out.println(\"Informe o endereço da empresa:\");\n",
    "        empresa.setEndereco(leia.nextLine());\n",
    "\n",
    "        // output do usuário\n",
    "        System.out.println(\"Informações do usuário:\\n\");\n",
    "        System.out.println(\"Nome: \" + usuario.getNome());\n",
    "        System.out.println(\"CPF: \" + usuario.getCpf());\n",
    "        System.out.println(\"Data de Nascimento: \" + usuario.getDataNascimento());\n",
    "        System.out.println(\"E-mail: \" + usuario.getEmail());\n",
    "        System.out.println(\"Telefone: \" + usuario.getTelefone());\n",
    "        System.out.println(\"Endereço: \" + usuario.getEndereco());\n",
    "\n",
    "        // output da empresa\n",
    "        System.out.println(\"\\nInformações da empresa:\\n\");\n",
    "        System.out.println(\"Razão Social: \" + empresa.getRazaoSocial());\n",
    "        System.out.println(\"Nome da empresa: \" + empresa.getNomeFantasia());\n",
    "        System.out.println(\"CNPJ: \" + empresa.getCnpj());\n",
    "        System.out.println(\"E-mail da empresa: \" + empresa.getEmail());\n",
    "        System.out.println(\"Telefone da empresa: \" + empresa.getTelefone());\n",
    "        System.out.println(\"Endereço da empresa: \" + empresa.getEndereco());\n",
    "\n",
    "        leia.close();\n",
    "    }\n",
    "}\n"
   ]
  }
 ],
 "metadata": {
  "language_info": {
   "name": "python"
  }
 },
 "nbformat": 4,
 "nbformat_minor": 5
}
