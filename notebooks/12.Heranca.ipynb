{
 "cells": [
  {
   "cell_type": "markdown",
   "id": "87d54840",
   "metadata": {},
   "source": [
    "# **Herança**\n",
    "---"
   ]
  },
  {
   "cell_type": "markdown",
   "id": "483ef91e",
   "metadata": {},
   "source": [
    "Em qualquer linguagem de programação, a Orientação a Objetos se baseia em 4 pilares:\n",
    "\n",
    "- Herança, generalização, extensão ou especialização.\n",
    "- Polimorfismo.\n",
    "- Abstração.\n",
    "- Encapsulamento.\n",
    "\n",
    "Nessa aula, iremos aprender sobre **Herança**.\n",
    "\n",
    "Como iremos ver futuramente, um programa não possui só uma única classe. Na verdade, possui dezenas. Eventualmente, algumas dessas classes podem ter atributos e/ou métodos em comum. Quando isso acontece, pode haver um desperdício de código-fonte, o que obviamente dificulta a manutenção do sistema. Para evitar isso, usamos o conceito de herança, onde uma classe reúne os atributos e métodos que serão comuns a outras duas ou mais classes.\n",
    "\n",
    "> ***Herança, por vezes chamada de generalização, extensão, ou ainda especialização, dependendo do contexto, é quando uma ou mais classes \"herdam\" atributos e métodos de outra classe.***\n",
    "\n",
    "Funciona assim: criamos uma classe com atributos e métodos que sabemos que serão comuns a outras classes. Chamamos de **superclasse**, **classe-pai** ou **classe base**. A criação dessa classe ocorre de forma normal, como vimos nas aulas anteriores. Depois, criamos outras classes, que chamaremos de **subclasses**, **classes-filha** ou **classes derivadas**, que serão \"extendidas\" das superclasses. Obviamente, as subclasses terão seus próprios atributos e métodos, mas eles se somarão aos atributos e métodos da superclasse, sem que seja necessário declará-los de novo. Vamos ver como funciona na prática:\n",
    "\n",
    "1. Crie um novo projeto Java, com o *package* `com.heranca.app`.\n",
    "2. Transfira o `App.java` para o *package* criado, e crie uma nova classe dentro do *package*, que vamos chamar de `Pessoa`."
   ]
  },
  {
   "cell_type": "markdown",
   "id": "a895f848",
   "metadata": {},
   "source": [
    "<div style=\"display: flex; justify-content: center\">\n",
    "    <img src=\"../assets/12-01.png\" alt=\"Herança\" />\n",
    "</div>"
   ]
  },
  {
   "cell_type": "markdown",
   "id": "d03c4bf5",
   "metadata": {},
   "source": [
    "#### TiposDePessoas\n",
    "\n",
    "##### App.java"
   ]
  },
  {
   "cell_type": "code",
   "execution_count": null,
   "id": "25f4e37c",
   "metadata": {
    "vscode": {
     "languageId": "java"
    }
   },
   "outputs": [],
   "source": [
    "package com.heranca.app;\n",
    "\n",
    "public class App {\n",
    "    public static void main(String[] args) throws Exception {\n",
    "        // TODO\n",
    "    }\n",
    "}\n"
   ]
  },
  {
   "cell_type": "markdown",
   "id": "82220ccf",
   "metadata": {},
   "source": [
    "##### Pessoa.java"
   ]
  },
  {
   "cell_type": "code",
   "execution_count": null,
   "id": "885f4555",
   "metadata": {
    "vscode": {
     "languageId": "java"
    }
   },
   "outputs": [],
   "source": [
    "package com.heranca.app;\n",
    "\n",
    "public class Pessoa {\n",
    "\n",
    "}\n"
   ]
  },
  {
   "cell_type": "markdown",
   "id": "940987f5",
   "metadata": {},
   "source": [
    "3. A ideia é criar duas novas classes a partir da classe `Pessoa`, que são as classes `PessoaFisica` e `PessoaJuridica`. Portanto, na classe `Pessoa` vamos definir apenas atributos comuns às duas classes. Obs: para fins didáticos, para esse exemplo, iremos criar um construtor vazio:\n",
    "\n",
    "##### Pessoa.java"
   ]
  },
  {
   "cell_type": "code",
   "execution_count": null,
   "id": "05024f22",
   "metadata": {
    "vscode": {
     "languageId": "java"
    }
   },
   "outputs": [],
   "source": [
    "package com.heranca.app;\n",
    "\n",
    "public class Pessoa {\n",
    "    // atributos\n",
    "    public String email;\n",
    "    public String telefone;\n",
    "    public String endereco;\n",
    "\n",
    "    // construtor\n",
    "    public Pessoa() {\n",
    "        \n",
    "    }\n",
    "}\n"
   ]
  },
  {
   "cell_type": "markdown",
   "id": "bb6f98e9",
   "metadata": {},
   "source": [
    "4. Entretanto, não é com essa classe que iremos trabalhar. As classes que serão instanciadas serão as classes `PessoaFisica` e `PessoaJuridica`. Portanto, nosso próximo passo é criar essas duas classes no *package* `com.heranca.app`. Use o mesmo processo de criação da classe `Pessoa` para criar `PessoaFisica` e `PessoaJuridica`:"
   ]
  },
  {
   "cell_type": "markdown",
   "id": "cd8ce62c",
   "metadata": {
    "vscode": {
     "languageId": "java"
    }
   },
   "source": [
    "<div style=\"display: flex; justify-content: center\">\n",
    "    <img src=\"../assets/12-02.png\" alt=\"Herança\" />\n",
    "</div>"
   ]
  },
  {
   "cell_type": "markdown",
   "id": "6dbc133a",
   "metadata": {},
   "source": [
    "5. Agora, abra o arquivo `PessoaFisica.java`:\n",
    "\n",
    "##### PessoaFisica.java"
   ]
  },
  {
   "cell_type": "code",
   "execution_count": null,
   "id": "5c6c2f92",
   "metadata": {
    "vscode": {
     "languageId": "java"
    }
   },
   "outputs": [],
   "source": [
    "package com.heranca.app;\n",
    "\n",
    "public class PessoaFisica {\n",
    "\n",
    "}\n"
   ]
  },
  {
   "cell_type": "markdown",
   "id": "b244ed1d",
   "metadata": {},
   "source": [
    "6. O que faremos é \"extender\" a classe `Pessoa` através do comando `extends Pessoa`, que deverá ser inserido ao lado do nome da classe. Ficará assim:"
   ]
  },
  {
   "cell_type": "code",
   "execution_count": null,
   "id": "f1db86b7",
   "metadata": {
    "vscode": {
     "languageId": "java"
    }
   },
   "outputs": [],
   "source": [
    "package com.heranca.app;\n",
    "\n",
    "public class PessoaFisica extends Pessoa {\n",
    "\n",
    "}\n"
   ]
  },
  {
   "cell_type": "markdown",
   "id": "b5fca798",
   "metadata": {},
   "source": [
    "7. Ao fazer isso, automaticamente a classe `PessoaFisica` terá os seguintes atributos: `email`, `telefone` e `endereco`. Vamos deixar a classe do jeito que está, por hora, e vamos alternar para a `App.java` para provar o ponto.\n",
    "\n",
    "##### App.java"
   ]
  },
  {
   "cell_type": "code",
   "execution_count": null,
   "id": "32c344a7",
   "metadata": {
    "vscode": {
     "languageId": "java"
    }
   },
   "outputs": [],
   "source": [
    "package com.heranca.app;\n",
    "\n",
    "public class App {\n",
    "    public static void main(String[] args) throws Exception {\n",
    "        // TODO\n",
    "    }\n",
    "}\n"
   ]
  },
  {
   "cell_type": "markdown",
   "id": "aac98df4",
   "metadata": {},
   "source": [
    "8. Vamos instanciar a classe `PessoaFisica` no `main`. Como a ideia aqui é apenas fazer um teste, vamos definir os valores diretamente no programa por enquanto, e depois corrigimos isso:"
   ]
  },
  {
   "cell_type": "code",
   "execution_count": null,
   "id": "a13a8b9d",
   "metadata": {
    "vscode": {
     "languageId": "java"
    }
   },
   "outputs": [],
   "source": [
    "package com.heranca.app;\n",
    "\n",
    "public class App {\n",
    "    public static void main(String[] args) throws Exception {\n",
    "        // instanciando a classe PessoaFiscia\n",
    "        PessoaFisica usuario = new PessoaFisica();\n",
    "\n",
    "        // definindo os atributos\n",
    "        usuario.email = \"usuario@exemplo.com\";\n",
    "        usuario.telefone = \"1234-5678\";\n",
    "        usuario.endereco = \"Rua A, 123\";\n",
    "\n",
    "        // exibindo os dados\n",
    "        System.out.println(\"Email: \" + usuario.email);\n",
    "        System.out.println(\"Telefone: \" + usuario.telefone);\n",
    "        System.out.println(\"Endereco: \" + usuario.endereco);\n",
    "    }\n",
    "}\n"
   ]
  },
  {
   "cell_type": "markdown",
   "id": "ca097127",
   "metadata": {},
   "source": [
    "9. Execute o programa, e o resultado será esse:\n",
    "\n",
    "#### Resultado\n",
    "\n",
    "> Email: usuario@exemplo.com<br />\n",
    "> Telefone: 1234-5678<br />\n",
    "> Endereco: Rua A, 123<br />"
   ]
  },
  {
   "cell_type": "markdown",
   "id": "bb3d339e",
   "metadata": {},
   "source": [
    "10. Isso prova a herança dos atributos. Vamos agora retornar à superclasse `Pessoa` e criar um método para verificar se o método também está sendo herdado.\n",
    "\n",
    "##### Pessoa.java"
   ]
  },
  {
   "cell_type": "code",
   "execution_count": null,
   "id": "bec10d7b",
   "metadata": {
    "vscode": {
     "languageId": "java"
    }
   },
   "outputs": [],
   "source": [
    "package com.heranca.app;\n",
    "\n",
    "public class Pessoa {\n",
    "    // atributos\n",
    "    public String email;\n",
    "    public String telefone;\n",
    "    public String endereco;\n",
    "\n",
    "    // construtor\n",
    "    public Pessoa() {\n",
    "    }\n",
    "}\n"
   ]
  },
  {
   "cell_type": "markdown",
   "id": "e9f4ac45",
   "metadata": {},
   "source": [
    "11. Vamos criar um método simples, chamado `cumprimentar`:"
   ]
  },
  {
   "cell_type": "code",
   "execution_count": null,
   "id": "82d8e837",
   "metadata": {
    "vscode": {
     "languageId": "java"
    }
   },
   "outputs": [],
   "source": [
    "package com.heranca.app;\n",
    "\n",
    "public class Pessoa {\n",
    "    // atributos\n",
    "    public String email;\n",
    "    public String telefone;\n",
    "    public String endereco;\n",
    "\n",
    "    public Pessoa() {\n",
    "    }\n",
    "\n",
    "    public String cumprimentar() {\n",
    "        return \"Olá, boa tarde.\";\n",
    "    }\n",
    "}\n"
   ]
  },
  {
   "cell_type": "markdown",
   "id": "43923d27",
   "metadata": {},
   "source": [
    "12. Volte para a classe `App.java` e peça para exibir o valor do método `cumprimentar()`:\n",
    "\n",
    "##### App.java"
   ]
  },
  {
   "cell_type": "code",
   "execution_count": null,
   "id": "a7d82f70",
   "metadata": {
    "vscode": {
     "languageId": "java"
    }
   },
   "outputs": [],
   "source": [
    "package com.heranca.app;\n",
    "\n",
    "public class App {\n",
    "    public static void main(String[] args) throws Exception {\n",
    "        // instanciando a classe PessoaFiscia\n",
    "        PessoaFisica usuario = new PessoaFisica();\n",
    "\n",
    "        // definindo os atributos\n",
    "        usuario.email = \"usuario@exemplo.com\";\n",
    "        usuario.telefone = \"1234-5678\";\n",
    "        usuario.endereco = \"Rua A, 123\";\n",
    "\n",
    "        // exibindo os dados\n",
    "        System.out.println(\"Email: \" + usuario.email);\n",
    "        System.out.println(\"Telefone: \" + usuario.telefone);\n",
    "        System.out.println(\"Endereco: \" + usuario.endereco);\n",
    "\n",
    "        // exibindo o método\n",
    "        System.out.println(usuario.cumprimentar());\n",
    "    }\n",
    "}\n"
   ]
  },
  {
   "cell_type": "markdown",
   "id": "e71dd043",
   "metadata": {},
   "source": [
    "13. Execute o programa, e o resultado será esse:\n",
    "\n",
    "#### Resultado\n",
    "\n",
    "> Email: usuario@exemplo.com<br />\n",
    "> Telefone: 1234-5678<br />\n",
    "> Endereco: Rua A, 123<br />\n",
    "> Olá, boa tarde.<br />"
   ]
  },
  {
   "cell_type": "markdown",
   "id": "ea2da629",
   "metadata": {},
   "source": [
    "14. Isso prova também que o método também é herdado.\n",
    "15. Vamos agora acrescentar alguns atributos específicos da classe `PessoaFisica`. Chamamos isso de **especialização**:\n",
    "\n",
    "##### PessoaFisica.java"
   ]
  },
  {
   "cell_type": "code",
   "execution_count": null,
   "id": "1a7e4cb4",
   "metadata": {
    "vscode": {
     "languageId": "java"
    }
   },
   "outputs": [],
   "source": [
    "package com.heranca.app;\n",
    "\n",
    "public class PessoaFisica extends Pessoa {\n",
    "    // atributos\n",
    "    public String nome;\n",
    "    public String cpf;\n",
    "}\n"
   ]
  },
  {
   "cell_type": "markdown",
   "id": "9995e58c",
   "metadata": {},
   "source": [
    "16. Vamos aproveitar e extender a classe `Pessoa` à `PessoaJuridica` também, e acresccentar também atributos específicos para a classe `PessoaJuridica`:\n",
    "\n",
    "##### PessoaJuridica.java"
   ]
  },
  {
   "cell_type": "code",
   "execution_count": null,
   "id": "b9e4c122",
   "metadata": {
    "vscode": {
     "languageId": "java"
    }
   },
   "outputs": [],
   "source": [
    "package com.heranca.app;\n",
    "\n",
    "public class PessoaJuridica extends Pessoa {\n",
    "    // atributos\n",
    "    public String razaoSocial;\n",
    "    public String nomeFantasia;\n",
    "    public String cnpj;\n",
    "}\n"
   ]
  },
  {
   "cell_type": "markdown",
   "id": "474c0dd0",
   "metadata": {},
   "source": [
    "17. Vamos voltar para `App.java` e instanciar também a classe `PessoaJuridica`:\n",
    "\n",
    "##### App.java"
   ]
  },
  {
   "cell_type": "code",
   "execution_count": null,
   "id": "39e9a7a9",
   "metadata": {
    "vscode": {
     "languageId": "java"
    }
   },
   "outputs": [],
   "source": [
    "package com.heranca.app;\n",
    "\n",
    "public class App {\n",
    "    public static void main(String[] args) throws Exception {\n",
    "        // instanciando as classes PessoaFisica e PessoaJuridica\n",
    "        PessoaFisica usuario = new PessoaFisica();\n",
    "        PessoaJuridica empresa = new PessoaJuridica();\n",
    "\n",
    "        // definindo os atributos\n",
    "        usuario.email = \"usuario@exemplo.com\";\n",
    "        usuario.telefone = \"1234-5678\";\n",
    "        usuario.endereco = \"Rua A, 123\";\n",
    "\n",
    "        // exibindo os dados\n",
    "        System.out.println(\"Email: \" + usuario.email);\n",
    "        System.out.println(\"Telefone: \" + usuario.telefone);\n",
    "        System.out.println(\"Endereco: \" + usuario.endereco);\n",
    "\n",
    "        // exibindo o método\n",
    "        System.out.println(usuario.cumprimentar());\n",
    "    }\n",
    "}\n"
   ]
  },
  {
   "cell_type": "markdown",
   "id": "a362c992",
   "metadata": {},
   "source": [
    "18. Agora, vamos acrescentar os valores dos novos atributos de `PessoaFisica` e `PessoaJuridica`:"
   ]
  },
  {
   "cell_type": "code",
   "execution_count": null,
   "id": "b7ed935c",
   "metadata": {
    "vscode": {
     "languageId": "java"
    }
   },
   "outputs": [],
   "source": [
    "package com.heranca.app;\n",
    "\n",
    "public class App {\n",
    "    public static void main(String[] args) throws Exception {\n",
    "        // instanciando a classe PessoaFiscia\n",
    "        PessoaFisica usuario = new PessoaFisica();\n",
    "        PessoaJuridica empresa = new PessoaJuridica();\n",
    "\n",
    "        // definindo os atributos da pessoa física\n",
    "        usuario.nome = \"João da Silva\";\n",
    "        usuario.cpf = \"123.456.789-00\";\n",
    "        usuario.email = \"usuario@exemplo.com\";\n",
    "        usuario.telefone = \"1234-5678\";\n",
    "        usuario.endereco = \"Rua A, 123\";\n",
    "\n",
    "        // definindo os atributos da pessoa jurídica\n",
    "        empresa.razaoSocial = \"Empresa Exemplo Ltda\";\n",
    "        empresa.nomeFantasia = \"Exemplo\";\n",
    "        empresa.cnpj = \"12.345.678/0001-90\";\n",
    "        empresa.email = \"empresa@exemplo.com\";\n",
    "        empresa.telefone = \"9876-5432\";\n",
    "        empresa.endereco = \"Avenida B, 456\";\n",
    "\n",
    "        // exibindo os dados\n",
    "        System.out.println(\"Email: \" + usuario.email);\n",
    "        System.out.println(\"Telefone: \" + usuario.telefone);\n",
    "        System.out.println(\"Endereco: \" + usuario.endereco);\n",
    "\n",
    "        // exibindo o método\n",
    "        System.out.println(usuario.cumprimentar());\n",
    "    }\n",
    "}\n"
   ]
  },
  {
   "cell_type": "markdown",
   "id": "92d843c8",
   "metadata": {},
   "source": [
    "19. Falta pedirmos para o programa exibir os valores específicos de cada objeto. Vamos especificar também os valores de cada pessoa, e também transferir o método para o início da exibição dos valores de cada objeto:"
   ]
  },
  {
   "cell_type": "code",
   "execution_count": null,
   "id": "caedc3a9",
   "metadata": {
    "vscode": {
     "languageId": "java"
    }
   },
   "outputs": [],
   "source": [
    "package com.heranca.app;\n",
    "\n",
    "public class App {\n",
    "    public static void main(String[] args) throws Exception {\n",
    "        // instanciando a classe PessoaFiscia\n",
    "        PessoaFisica usuario = new PessoaFisica();\n",
    "        PessoaJuridica empresa = new PessoaJuridica();\n",
    "\n",
    "        // definindo os atributos da pessoa física\n",
    "        usuario.nome = \"João da Silva\";\n",
    "        usuario.cpf = \"123.456.789-00\";\n",
    "        usuario.email = \"usuario@exemplo.com\";\n",
    "        usuario.telefone = \"1234-5678\";\n",
    "        usuario.endereco = \"Rua A, 123\";\n",
    "\n",
    "        // definindo os atributos da pessoa jurídica\n",
    "        empresa.razaoSocial = \"Empresa Exemplo Ltda\";\n",
    "        empresa.nomeFantasia = \"Exemplo\";\n",
    "        empresa.cnpj = \"12.345.678/0001-90\";\n",
    "        empresa.email = \"empresa@exemplo.com\";\n",
    "        empresa.telefone = \"9876-5432\";\n",
    "        empresa.endereco = \"Avenida B, 456\";\n",
    "\n",
    "        // exibindo os dados do usuário\n",
    "        System.out.println(usuario.cumprimentar());\n",
    "        System.out.println(\"Dados do Usuário:\");\n",
    "        System.out.println(\"Nome: \" + usuario.nome);\n",
    "        System.out.println(\"CPF: \" + usuario.cpf);\n",
    "        System.out.println(\"Email: \" + usuario.email);\n",
    "        System.out.println(\"Telefone: \" + usuario.telefone);\n",
    "        System.out.println(\"Endereco: \" + usuario.endereco + \"\\n\");\n",
    "\n",
    "        // exibindo os dados da empresa\n",
    "        System.out.println(empresa.cumprimentar());\n",
    "        System.out.println(\"Dados da Empresa:\");\n",
    "        System.out.println(\"Razão Social: \" + empresa.razaoSocial);\n",
    "        System.out.println(\"Nome Fantasia: \" + empresa.nomeFantasia);\n",
    "        System.out.println(\"CNPJ: \" + empresa.cnpj);\n",
    "        System.out.println(\"Email: \" + empresa.email);\n",
    "        System.out.println(\"Telefone: \" + empresa.telefone);\n",
    "        System.out.println(\"Endereco: \" + empresa.endereco);\n",
    "    }\n",
    "}\n"
   ]
  },
  {
   "cell_type": "markdown",
   "id": "a6cd0790",
   "metadata": {},
   "source": [
    "20. Pronto! O programa já está funcionando. O resultado do programa será esse:\n",
    "\n",
    "#### Resultado"
   ]
  },
  {
   "cell_type": "markdown",
   "id": "4f1328fa",
   "metadata": {},
   "source": [
    "<div style=\"display: flex; justify-content: center\">\n",
    "    <img src=\"../assets/12-03.png\" alt=\"Programa\" />\n",
    "</div>"
   ]
  },
  {
   "cell_type": "markdown",
   "id": "c8ba7753",
   "metadata": {},
   "source": [
    "21. Para finalizar, experimente adicionar a classe `Scanner` ao programa para a entrada de dados e veja como funciona:"
   ]
  },
  {
   "cell_type": "code",
   "execution_count": null,
   "id": "0e202925",
   "metadata": {
    "vscode": {
     "languageId": "java"
    }
   },
   "outputs": [],
   "source": [
    "package com.heranca.app;\n",
    "\n",
    "import java.util.Scanner;\n",
    "\n",
    "public class App {\n",
    "    public static void main(String[] args) throws Exception {\n",
    "        // instanciando as classes\n",
    "        Scanner leia = new Scanner(System.in);\n",
    "        PessoaFisica usuario = new PessoaFisica();\n",
    "        PessoaJuridica empresa = new PessoaJuridica();\n",
    "\n",
    "        // definindo os atributos da pessoa física\n",
    "        usuario.nome = \"João da Silva\";\n",
    "        usuario.cpf = \"123.456.789-00\";\n",
    "        usuario.email = \"usuario@exemplo.com\";\n",
    "        usuario.telefone = \"1234-5678\";\n",
    "        usuario.endereco = \"Rua A, 123\";\n",
    "\n",
    "        // definindo os atributos da pessoa jurídica\n",
    "        empresa.razaoSocial = \"Empresa Exemplo Ltda\";\n",
    "        empresa.nomeFantasia = \"Exemplo\";\n",
    "        empresa.cnpj = \"12.345.678/0001-90\";\n",
    "        empresa.email = \"empresa@exemplo.com\";\n",
    "        empresa.telefone = \"9876-5432\";\n",
    "        empresa.endereco = \"Avenida B, 456\";\n",
    "\n",
    "        // exibindo os dados do usuário\n",
    "        System.out.println(usuario.cumprimentar());\n",
    "        System.out.println(\"Dados do Usuário:\");\n",
    "        System.out.println(\"Nome: \" + usuario.nome);\n",
    "        System.out.println(\"CPF: \" + usuario.cpf);\n",
    "        System.out.println(\"Email: \" + usuario.email);\n",
    "        System.out.println(\"Telefone: \" + usuario.telefone);\n",
    "        System.out.println(\"Endereco: \" + usuario.endereco + \"\\n\");\n",
    "\n",
    "        // exibindo os dados da empresa\n",
    "        System.out.println(empresa.cumprimentar());\n",
    "        System.out.println(\"Dados da Empresa:\");\n",
    "        System.out.println(\"Razão Social: \" + empresa.razaoSocial);\n",
    "        System.out.println(\"Nome Fantasia: \" + empresa.nomeFantasia);\n",
    "        System.out.println(\"CNPJ: \" + empresa.cnpj);\n",
    "        System.out.println(\"Email: \" + empresa.email);\n",
    "        System.out.println(\"Telefone: \" + empresa.telefone);\n",
    "        System.out.println(\"Endereco: \" + empresa.endereco);\n",
    "\n",
    "        leia.close();\n",
    "    }\n",
    "}\n"
   ]
  }
 ],
 "metadata": {
  "language_info": {
   "name": "python"
  }
 },
 "nbformat": 4,
 "nbformat_minor": 5
}
