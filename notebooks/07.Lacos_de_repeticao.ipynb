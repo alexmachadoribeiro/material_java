{
 "cells": [
  {
   "cell_type": "markdown",
   "id": "d5e1e57e",
   "metadata": {},
   "source": [
    "# **Laços de Repetição**\n",
    "---"
   ]
  },
  {
   "cell_type": "markdown",
   "id": "dcd29c60",
   "metadata": {},
   "source": [
    "Às vezes, é necessário repetir um mesmo comando ou um bloco de programação diversas vezes no seu algoritmo. É contraproducente copiar e colar o mesmo código varias vezes, principalmente quando você não sabe quantas vezes  o código em questão precisa ser repetido. É aí onde entra os chamados ***loops***, ou **laços de repetição**.\n",
    "\n",
    "> ***Laço de repetição é um bloco de programação que repete n vezes o mesmo código com base em uma determinada condição.***"
   ]
  },
  {
   "cell_type": "markdown",
   "id": "54607d12",
   "metadata": {},
   "source": [
    "Um exercício simples para ver como funciona um laço de repetição é o programa do contador, onde o usuário informa um número inteiro e o programa retorna uma contagem partindo do número informado até chegar a zero. Para isso, usaremos o laço de repetição `while`."
   ]
  },
  {
   "cell_type": "markdown",
   "id": "355b9861",
   "metadata": {},
   "source": [
    "## While\n",
    "---"
   ]
  },
  {
   "cell_type": "markdown",
   "id": "5965b055",
   "metadata": {},
   "source": [
    "O `while` pode ser traduzido como **enquanto**. É basicamente um bloco de programação que repete o algoritmo caso, e enquanto uma determinada condicional seja atendida. É o que utilizaremos para criar o programa do contador.\n",
    "\n",
    "1. Crie um novo projeto Java nos mesmos moldes das aulas anteriores, criando dentro dele o *package* `com.contador.app`.\n",
    "2. Importe e instancie a classe `Scanner`.\n",
    "3. Vamos precisar de uma única variável do tipo inteiro:\n",
    "\n",
    "#### Contador"
   ]
  },
  {
   "cell_type": "code",
   "execution_count": null,
   "id": "666f198c",
   "metadata": {
    "vscode": {
     "languageId": "java"
    }
   },
   "outputs": [],
   "source": [
    "package com.contador.app;\n",
    "\n",
    "import java.util.Scanner;\n",
    "\n",
    "public class App {\n",
    "    public static void main(String[] args) throws Exception {\n",
    "        Scanner leia = new Scanner(System.in);\n",
    "\n",
    "        int n;\n",
    "\n",
    "        System.out.println(\"Informe um número inteiro:\");\n",
    "        n = leia.nextInt();\n",
    "\n",
    "        leia.close();\n",
    "    }\n",
    "}\n"
   ]
  },
  {
   "cell_type": "markdown",
   "id": "000aa10c",
   "metadata": {},
   "source": [
    "4. Para que o `while` funcione, precisaremos informar uma condição, que precisa ser atendida. Nesse caso, o valor de `n` precisa ser maior ou igual a 0. Veja no código-fonte abaixo:"
   ]
  },
  {
   "cell_type": "code",
   "execution_count": null,
   "id": "f02124d9",
   "metadata": {
    "vscode": {
     "languageId": "java"
    }
   },
   "outputs": [],
   "source": [
    "package com.contador.app;\n",
    "\n",
    "import java.util.Scanner;\n",
    "\n",
    "public class App {\n",
    "    public static void main(String[] args) throws Exception {\n",
    "        Scanner leia = new Scanner(System.in);\n",
    "\n",
    "        int n;\n",
    "\n",
    "        System.out.println(\"Informe um número inteiro:\");\n",
    "        n = leia.nextInt();\n",
    "\n",
    "        // laço de repetição enquanto (while)\n",
    "        while (n >= 0) {\n",
    "            System.out.println(n);\n",
    "            n--; // decremento\n",
    "        }\n",
    "\n",
    "        leia.close();\n",
    "    }\n",
    "}\n"
   ]
  },
  {
   "cell_type": "markdown",
   "id": "ebef9383",
   "metadata": {},
   "source": [
    "A condição é determinada por `(n >= 0)`. Enquanto essa condição for verdadeira, o programa irá printar na tela o valor de `n`.\n",
    "\n",
    "Mas tem um problema: se o valor de `n` não mudar, ele sempre irá imprimir o mesmo número eternatemente, e o programa irá entrar em ***loop infinito***, que é uma condição em que o programa fica executando a instrução até consumir 100% da memória e do processamento, travando a máquina e impossibiblitando o trabalho no computador.\n",
    "\n",
    "Para evitar isso, precisaremos que o valor de `n` diminua a cada novo *loop*. Para isso, iremos fazer uso do **decremento**, feito na linha 17 com `n--;`. Seu objetivo é diminuir o valor de `n` por `-1` a cada novo *loop*, até que o valor de `n` seja menor que zero, impossibilitando que o *loop* continue."
   ]
  },
  {
   "cell_type": "markdown",
   "id": "980529c1",
   "metadata": {},
   "source": [
    "Supondo que, por exemplo, o usuário informe o valor de `n` como sendo `10`, o resultado seria esse:\n",
    "\n",
    "#### Resultado\n",
    "\n",
    "> Informe um número inteiro:<br />\n",
    "> 10<br />\n",
    "> 10<br />\n",
    "> 9<br />\n",
    "> 8<br />\n",
    "> 7<br />\n",
    "> 6<br />\n",
    "> 5<br />\n",
    "> 4<br />\n",
    "> 3<br />\n",
    "> 2<br />\n",
    "> 1<br />\n",
    "> 0<br />"
   ]
  },
  {
   "cell_type": "markdown",
   "id": "748f5319",
   "metadata": {},
   "source": [
    "## Incremento e decremento\n",
    "---\n",
    "\n",
    "Você viu que no programa anterior, usamos na linha 17 o código `n--` para subtrair o valor de uma variável. Esse recurso é usado para alterar os valores de uma variável do tipo inteiro em uma unidade:\n",
    "\n",
    "- `n++`: **incremento**. Usado para somar o atual valor da variável com +1. É o mesmo que `n = n + 1;`.\n",
    "- `n--`: **decremento**. Usado para subtrair o atual valor da variável com -1. É o mesmo que `n = n - 1;`."
   ]
  },
  {
   "cell_type": "markdown",
   "id": "0519d22a",
   "metadata": {},
   "source": [
    "## do...while\n",
    "---\n",
    "\n",
    "O loop anterior repete um código sempre que uma condição for verdadeira. O **do...while** faz a mesma coisa, com uma diferença: ele obriga o trecho de código a executar uma primeira vez, independente da condição ser verdadeira ou não. A condição faz apenas que o loop se repita em caso verdadeiro, ou deixe de repetir em caso falso. Pode ser usado para repetir várias vezes o mesmo programa, e sair somente com autorização do usuário, como veremos no próximo programa.\n",
    "\n",
    "Vamos, por exemplo, criar um programa que calcula a área de um quadrado, e o usuário escolhe se deseja sair do programa ou recalcular o quadrado:\n",
    "\n",
    "1. Crie um novo programa com o *package* `com.quadrado.app`.\n",
    "2. Em `App.java`, crie duas variáveis do tipo `double`: uma para receber o valor do usuário e uma para receber o valor do cálculo. Crie também uma variável do tipo `int` que será responsável por fazer o programa continuar ou encerrar. Ficará assim:\n",
    "\n",
    "#### Quadrado"
   ]
  },
  {
   "cell_type": "code",
   "execution_count": null,
   "id": "836231ca",
   "metadata": {
    "vscode": {
     "languageId": "java"
    }
   },
   "outputs": [],
   "source": [
    "package com.quadrado.app;\n",
    "\n",
    "import java.util.Scanner;\n",
    "\n",
    "public class App {\n",
    "    public static void main(String[] args) throws Exception {\n",
    "        Scanner leia = new Scanner(System.in);\n",
    "\n",
    "        double l, a;\n",
    "        int opcao;\n",
    "\n",
    "        leia.close();\n",
    "    }\n",
    "}\n"
   ]
  },
  {
   "cell_type": "markdown",
   "id": "a65ea71d",
   "metadata": {},
   "source": [
    "3. Antes que o usuário possa informar o valor do lado do quadrado, precisaremos iniciar o laço de repetição `do {} while ();`, já que existe a possibiidade do usuário informar novamente o valor do lado do quadrado após o cálculo:"
   ]
  },
  {
   "cell_type": "code",
   "execution_count": null,
   "id": "f59ec89f",
   "metadata": {
    "vscode": {
     "languageId": "java"
    }
   },
   "outputs": [],
   "source": [
    "package com.quadrado.app;\n",
    "\n",
    "import java.util.Scanner;\n",
    "\n",
    "public class App {\n",
    "    public static void main(String[] args) throws Exception {\n",
    "        Scanner leia = new Scanner(System.in);\n",
    "\n",
    "        double l, a;\n",
    "        int opcao;\n",
    "\n",
    "        // laço de repetição\n",
    "        do {\n",
    "            // TODO\n",
    "        } while (/* TODO */);\n",
    "\n",
    "        leia.close();\n",
    "    }\n",
    "}\n"
   ]
  },
  {
   "cell_type": "markdown",
   "id": "2a23b2cf",
   "metadata": {},
   "source": [
    "4. Dentro do laço de repetição é que pediremos para o usuário informar o valor de `l`:"
   ]
  },
  {
   "cell_type": "code",
   "execution_count": null,
   "id": "0d6c06c1",
   "metadata": {
    "vscode": {
     "languageId": "java"
    }
   },
   "outputs": [],
   "source": [
    "package com.quadrado.app;\n",
    "\n",
    "import java.util.Scanner;\n",
    "\n",
    "public class App {\n",
    "    public static void main(String[] args) throws Exception {\n",
    "        Scanner leia = new Scanner(System.in);\n",
    "\n",
    "        double l, a;\n",
    "        int opcao;\n",
    "\n",
    "        // laço de repetição\n",
    "        do {\n",
    "            // input\n",
    "            System.out.println(\"Informa o valor do lado do quadrado:\");\n",
    "            l = leia.nextDouble();\n",
    "        } while (/* TODO */);\n",
    "\n",
    "        leia.close();\n",
    "    }\n",
    "}\n"
   ]
  },
  {
   "cell_type": "markdown",
   "id": "c0f35a77",
   "metadata": {},
   "source": [
    "5. O programa irá calcular a área e irá exibir o valor:"
   ]
  },
  {
   "cell_type": "code",
   "execution_count": null,
   "id": "48a4a06a",
   "metadata": {
    "vscode": {
     "languageId": "java"
    }
   },
   "outputs": [],
   "source": [
    "package com.quadrado.app;\n",
    "\n",
    "import java.util.Scanner;\n",
    "\n",
    "public class App {\n",
    "    public static void main(String[] args) throws Exception {\n",
    "        Scanner leia = new Scanner(System.in);\n",
    "\n",
    "        double l, a;\n",
    "        int opcao;\n",
    "\n",
    "        // laço de repetição\n",
    "        do {\n",
    "            // input\n",
    "            System.out.println(\"Informa o valor do lado do quadrado:\");\n",
    "            l = leia.nextDouble();\n",
    "\n",
    "            // área do quadrado\n",
    "            a = l*l;\n",
    "\n",
    "            // output\n",
    "            System.out.println(\"Área do quadrado: \" + a + \".\");\n",
    "        } while (/* TODO */);\n",
    "\n",
    "        leia.close();\n",
    "    }\n",
    "}\n"
   ]
  },
  {
   "cell_type": "markdown",
   "id": "d9281e03",
   "metadata": {},
   "source": [
    "6. Agora precisaremos perguntar para o usuário se deseja continuar e informar novos valores ou se deseja encerrar o programa. O valor que deverá ser informado pelo usuário para que o programa continue rodando é a condição que iremos inserir dentro do `while`:"
   ]
  },
  {
   "cell_type": "code",
   "execution_count": null,
   "id": "b30f2aa2",
   "metadata": {
    "vscode": {
     "languageId": "java"
    }
   },
   "outputs": [],
   "source": [
    "package com.quadrado.app;\n",
    "\n",
    "import java.util.Scanner;\n",
    "\n",
    "public class App {\n",
    "    public static void main(String[] args) throws Exception {\n",
    "        Scanner leia = new Scanner(System.in);\n",
    "\n",
    "        double l, a;\n",
    "        int opcao;\n",
    "\n",
    "        // laço de repetição\n",
    "        do {\n",
    "            // input\n",
    "            System.out.println(\"Informa o valor do lado do quadrado:\");\n",
    "            l = leia.nextDouble();\n",
    "\n",
    "            // área do quadrado\n",
    "            a = l*l;\n",
    "\n",
    "            // output\n",
    "            System.out.println(\"Área do quadrado: \" + a + \".\");\n",
    "\n",
    "            // usuário informa se encerra ou continua\n",
    "            System.out.println(\"Deseja continuar? (1 - Sim, Qualquer número - Não)\");\n",
    "            opcao = leia.nextInt();\n",
    "        } while (opcao == 1);\n",
    "\n",
    "        leia.close();\n",
    "    }\n",
    "}\n"
   ]
  },
  {
   "cell_type": "markdown",
   "id": "d0d16784",
   "metadata": {},
   "source": [
    "O resultado do programa poderão ser vários, dependendo se o usuário deseja fazer vários cálculos ou só um. Execute e teste você mesmo o programa."
   ]
  },
  {
   "cell_type": "markdown",
   "id": "980928e3",
   "metadata": {},
   "source": [
    "## for\n",
    "---"
   ]
  },
  {
   "cell_type": "markdown",
   "id": "a82812fe",
   "metadata": {},
   "source": [
    "Assim como os laços anteriores, o `for` também executa um *loop* com base em uma condição. A diferença aqui é que o contador é inserido obrigatoriamente dentro do comando, junto com a condicional, impedindo que este laço específico entre no *loop infinito*. Vamos, por exemplo, recriar o mesmo contador do início da aula, mas desta vez usando o laço `for`. Veja:"
   ]
  },
  {
   "cell_type": "code",
   "execution_count": null,
   "id": "c90a967b",
   "metadata": {
    "vscode": {
     "languageId": "java"
    }
   },
   "outputs": [],
   "source": [
    "package com.contador.app;\n",
    "\n",
    "import java.util.Scanner;\n",
    "\n",
    "public class App {\n",
    "    public static void main(String[] args) throws Exception {\n",
    "        Scanner leia = new Scanner(System.in);\n",
    "\n",
    "        int n;\n",
    "\n",
    "        System.out.print(\"Digite um número: \");\n",
    "        n = leia.nextInt();\n",
    "\n",
    "        // laço de repetição\n",
    "        for (int i = n; i >= 0; i--) {\n",
    "            System.out.println(i);\n",
    "        }\n",
    "\n",
    "        leia.close();\n",
    "    }\n",
    "}\n"
   ]
  },
  {
   "cell_type": "markdown",
   "id": "1c643155",
   "metadata": {},
   "source": [
    "O resultado é o mesmo do primeiro programa, mas muito menor e mais elegante."
   ]
  }
 ],
 "metadata": {
  "language_info": {
   "name": "python"
  }
 },
 "nbformat": 4,
 "nbformat_minor": 5
}
