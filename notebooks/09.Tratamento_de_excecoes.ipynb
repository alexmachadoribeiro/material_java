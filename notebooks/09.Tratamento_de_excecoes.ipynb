{
 "cells": [
  {
   "cell_type": "markdown",
   "id": "85900192",
   "metadata": {},
   "source": [
    "# **Tratamento de Exceções**\n",
    "---"
   ]
  },
  {
   "cell_type": "markdown",
   "id": "ae7cdc93",
   "metadata": {},
   "source": [
    "Em qualquer programa, o programa pode simplesmente encerrar a qualquer momento, seja porque o comando foi escrito errado, seja porque o usuário informou um valor que não era esperado pelo programa. Isso faz com que o programa feche abuptramente, em um processo que chamamos de **crash**. Para evitar que isso aconteça, ou para verificar o que pode ter dado errado, os desenvolvedores fazem uso de uma técnica conhecida como **tratamento de exceções**."
   ]
  },
  {
   "cell_type": "markdown",
   "id": "7420ce5c",
   "metadata": {},
   "source": [
    "## throws Exception\n",
    "---"
   ]
  },
  {
   "cell_type": "markdown",
   "id": "0e4ccbd8",
   "metadata": {},
   "source": [
    "O `throws Exception` serve para indicar que esse método pode lançar uma exceção do tipo Exception (ou qualquer subclasse dela) durante sua execução. Isso significa que, se algum erro acontecer e não for tratado dentro do método, ele será \"lançado\" para o sistema operacional ou para quem chamou o programa.\n",
    "\n",
    "Por exemplo: vamos criar um programa que recebe do usuário um número inteiro e exibe o número na tela.\n",
    "\n",
    "1. Crie um novo programa Java com o *package* `com.excecoes.app`.\n",
    "2. Faça um programa com o seguinte código abaixo:\n",
    "\n",
    "#### Jogar exceção"
   ]
  },
  {
   "cell_type": "code",
   "execution_count": null,
   "id": "1a40fb5c",
   "metadata": {
    "vscode": {
     "languageId": "java"
    }
   },
   "outputs": [],
   "source": [
    "package com.excecoes.app;\n",
    "\n",
    "import java.util.Scanner;\n",
    "\n",
    "public class App {\n",
    "    public static void main(String[] args) throws Exception {\n",
    "        Scanner leia = new Scanner(System.in);\n",
    "\n",
    "        int n;\n",
    "\n",
    "        System.out.println(\"Informe um número inteiro:\");\n",
    "        n = leia.nextInt();\n",
    "\n",
    "        System.out.println(\"Você digitou: \" + n);\n",
    "\n",
    "        leia.close();\n",
    "    }\n",
    "}\n"
   ]
  },
  {
   "cell_type": "markdown",
   "id": "ec6b2764",
   "metadata": {},
   "source": [
    "3. Execute o programa, mas ao invés de informar um número inteiro, informe um texto, por exemplo. O resultado será esse:"
   ]
  },
  {
   "cell_type": "markdown",
   "id": "fbb2b952",
   "metadata": {},
   "source": [
    "<div style=\"display: flex; justify-content: center\">\n",
    "    <img src=\"../assets/excecoes-01.png\" alt=\"Exceções\" />\n",
    "</div>"
   ]
  },
  {
   "cell_type": "markdown",
   "id": "72c9f7bd",
   "metadata": {},
   "source": [
    "## try...catch\n",
    "---"
   ]
  },
  {
   "cell_type": "markdown",
   "id": "f3b3119c",
   "metadata": {},
   "source": [
    "Há ainda um outro tratamento de exceções, caso uma classe não possua o `throws Exception`. É o `try {} catch () {}`. Esse bloco verifica se um determinado trecho de código possui algum erro. Caso o código não dê erro, ele será executado normalmente, mas caso dê algum erro, ele retornará outro trecho do código, que irá exibir um erro, que pode ser personalizado. Esse trecho é ótimo para fazer ***debug***, ou seja, correção de código.\n",
    "\n",
    "1. Vamos criar um novo programa Java, com o *package* `com.excecoes.app`.\n",
    "2. O programa irá fazer exatamente a mesma coisa do programa anterior: usuário informa um número inteiro e o programa retorna esse número.\n",
    "3. Faça o código-fonte abaixo:"
   ]
  },
  {
   "cell_type": "code",
   "execution_count": null,
   "id": "8ce6a467",
   "metadata": {
    "vscode": {
     "languageId": "java"
    }
   },
   "outputs": [],
   "source": [
    "package com.excecoes.app;\n",
    "\n",
    "import java.util.Scanner;\n",
    "\n",
    "public class App {\n",
    "    public static void main(String[] args) {\n",
    "        Scanner leia = new Scanner(System.in);\n",
    "\n",
    "        int n;\n",
    "\n",
    "        // tratamento de exceções\n",
    "        try {\n",
    "            System.out.println(\"Informe um número inteiro:\");\n",
    "            n = leia.nextInt();\n",
    "            System.out.println(\"Você digitou: \" + n);\n",
    "        } \n",
    "        catch (Exception e) {\n",
    "            System.out.println(\"Erro: \" + e.getMessage());\n",
    "        }\n",
    "\n",
    "        leia.close();\n",
    "    }\n",
    "}\n"
   ]
  },
  {
   "cell_type": "markdown",
   "id": "36e41b30",
   "metadata": {},
   "source": [
    "4. O código funciona assim: o `try` tenta executar o código normalmente. Caso esse trecho de código dê erro, ao invés de interromper o programa, ele interrompe apenas esse trecho de código e executa o trecho que está em `catch`.\n",
    "5. Execute o programa, e mais uma vez, informe um texto ao invés de um número. O resultado é este:"
   ]
  },
  {
   "cell_type": "markdown",
   "id": "f54bbb30",
   "metadata": {},
   "source": [
    "<div style=\"display: flex; justify-content: center\">\n",
    "    <img src=\"../assets/excecoes-02.png\" alt=\"Exceções\" />\n",
    "</div>"
   ]
  }
 ],
 "metadata": {
  "language_info": {
   "name": "python"
  }
 },
 "nbformat": 4,
 "nbformat_minor": 5
}
