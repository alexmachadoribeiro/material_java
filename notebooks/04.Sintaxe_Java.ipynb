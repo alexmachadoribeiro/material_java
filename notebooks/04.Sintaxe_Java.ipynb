{
 "cells": [
  {
   "cell_type": "markdown",
   "id": "6346683f",
   "metadata": {},
   "source": [
    "# **Sintaxe Java**\n",
    "---"
   ]
  },
  {
   "cell_type": "markdown",
   "id": "b989b89b",
   "metadata": {},
   "source": [
    "Agora que vimos o nosso primeiro código em Java, vamos aprender um pouco mais sobre a sintaxe da linguagem. Mas para isso, vamos criar outro programa. **Siga os passos da aula anterior e crie um projeto chamado \"Variaveis\"**."
   ]
  },
  {
   "cell_type": "markdown",
   "id": "6bc85188",
   "metadata": {},
   "source": [
    "## Package\n",
    "---"
   ]
  },
  {
   "cell_type": "markdown",
   "id": "6605e0ea",
   "metadata": {},
   "source": [
    "Os programas Java trabalham com um conceito chamado de **Pacotes**, ou **Packages**."
   ]
  },
  {
   "cell_type": "markdown",
   "id": "d02816c5",
   "metadata": {},
   "source": [
    "> ***Os packages (pacotes) em projetos Java servem para organizar o código de forma estruturada e facilitar o gerenciamento dos arquivos. Eles agrupam classes relacionadas, tornando o projeto mais modular, legível e fácil de manter. Além disso, os packages ajudam a evitar conflitos de nomes entre classes e permitem controlar o acesso entre diferentes partes do código, melhorando a segurança e reutilização. Em projetos grandes, usar packages é essencial para manter tudo organizado e profissional.***"
   ]
  },
  {
   "cell_type": "markdown",
   "id": "fe205685",
   "metadata": {},
   "source": [
    "O ideal é que criemos vários **packages** dentro de um projeto Java. Portanto, a partir desse projeto, iremos fazer sempre isso. No caso do programa atual, iremos criar um pacote com o seguinte nome:\n",
    "\n",
    "`com.variaveis.app`\n",
    "\n",
    "Para fazermos isso, faça o seguinte:\n",
    "\n",
    "1. Dentro da estrutura de pastas do seu projeto, clique com o botão direito do mouse em cima da pasta `src`, e clique em **New Java Package...**:"
   ]
  },
  {
   "cell_type": "markdown",
   "id": "88120ba9",
   "metadata": {},
   "source": [
    "<div style=\"display: flex; justify-content: center\">\n",
    "    <img src=\"../assets/04-01.png\" alt=\"Java Project\" />\n",
    "</div>"
   ]
  },
  {
   "cell_type": "markdown",
   "id": "10ae988d",
   "metadata": {},
   "source": [
    "2. No alto da janela do VSCode, entre com o nome do pacote: **com.variaveis.app**, e pressione **Enter**:"
   ]
  },
  {
   "cell_type": "markdown",
   "id": "51f18b49",
   "metadata": {},
   "source": [
    "<div style=\"display: flex; justify-content: center\">\n",
    "    <img src=\"../assets/04-02.png\" alt=\"Java Project\" />\n",
    "</div>"
   ]
  },
  {
   "cell_type": "markdown",
   "id": "d9d903f0",
   "metadata": {},
   "source": [
    "3. Ao fazer isso, uma pasta chamada **com** será criada dentro da pasta **src**:"
   ]
  },
  {
   "cell_type": "markdown",
   "id": "345be0ef",
   "metadata": {},
   "source": [
    "<div style=\"display: flex; justify-content: center\">\n",
    "    <img src=\"../assets/04-03.png\" alt=\"Java Project\" />\n",
    "</div>"
   ]
  },
  {
   "cell_type": "markdown",
   "id": "d76fffb0",
   "metadata": {},
   "source": [
    "4. Destrinche a pasta **com** para revelar o caminho completo: **src\\com\\variaveis\\app**:"
   ]
  },
  {
   "cell_type": "markdown",
   "id": "dca7735c",
   "metadata": {},
   "source": [
    "<div style=\"display: flex; justify-content: center\">\n",
    "    <img src=\"../assets/04-04.png\" alt=\"Java Project\" />\n",
    "</div>"
   ]
  },
  {
   "cell_type": "markdown",
   "id": "09684fb3",
   "metadata": {},
   "source": [
    "5. Agora, arraste o arquivo **App.java** para dentro da pasta **app**.\n",
    "6. Irá aparecer uma mensagem: **Tem certeza de que deseja mover 'App.java' para 'app'?**. Confirme clicando no botão **Mover**:"
   ]
  },
  {
   "cell_type": "markdown",
   "id": "2276e5e3",
   "metadata": {},
   "source": [
    "<div style=\"display: flex; justify-content: center\">\n",
    "    <img src=\"../assets/04-05.png\" alt=\"Java Project\" />\n",
    "</div>"
   ]
  },
  {
   "cell_type": "markdown",
   "id": "4f0307f5",
   "metadata": {},
   "source": [
    "7. Irá aparecer outra caixa de diálogo. Clique em **OK**:"
   ]
  },
  {
   "cell_type": "markdown",
   "id": "a7b4ab1f",
   "metadata": {},
   "source": [
    "<div style=\"display: flex; justify-content: center\">\n",
    "    <img src=\"../assets/04-06.png\" alt=\"Java Project\" />\n",
    "</div>"
   ]
  },
  {
   "cell_type": "markdown",
   "id": "2a9a89b6",
   "metadata": {},
   "source": [
    "8. Ao fazer isso, uma nova linha de comando será automaticamente inserida no arquivo **App.java**. É o comando `package com.variaveis.app;`. Veja:"
   ]
  },
  {
   "cell_type": "markdown",
   "id": "ebbae39e",
   "metadata": {},
   "source": [
    "<div style=\"display: flex; justify-content: center\">\n",
    "    <img src=\"../assets/04-07.png\" alt=\"Java Project\" />\n",
    "</div>"
   ]
  },
  {
   "cell_type": "markdown",
   "id": "8c50e65a",
   "metadata": {},
   "source": [
    "9. Esse comando indica em qual pacote aquela classe está. Deixe essa linha como está e vamos prosseguir.\n",
    "10. Apague a linha 7, onde está o comando `System.out.println(\"Hello, World!\");`."
   ]
  },
  {
   "cell_type": "markdown",
   "id": "8c2a3907",
   "metadata": {},
   "source": [
    "## Variáveis\n",
    "---"
   ]
  },
  {
   "cell_type": "markdown",
   "id": "1e8636a2",
   "metadata": {},
   "source": [
    "> ***Variáveis são basicamente elementos cujos valores variam no decorrer do programa. Em programação, ao declarar uma variável, o programa pede para o computador reservar uma parte da memória RAM para armazenar o valor a ser utilizado pelo programa que você está criando.***"
   ]
  },
  {
   "cell_type": "markdown",
   "id": "5708274b",
   "metadata": {},
   "source": [
    "No programa atual, vamos aprender a criar variáveis, e elas devem ser criadas dentro do método `main`, e devem ter o seu tipo de dado declarado na variável. Exemplo: vamos supor que eu queira declarar uma variável chamada `nome`, cujo valor é `\"Fulano\"`. Eu sei que `nome` vai receber um dado do tipo texto, então o código a ser escrito é `String nome = \"Fulano\";`. Para exibir o valor da variável, escrevo o comando `System.out.println(nome);`. Por enquanto, o código completo até aqui é este:"
   ]
  },
  {
   "cell_type": "markdown",
   "id": "f1d39406",
   "metadata": {},
   "source": [
    "#### App.java\n",
    "\n",
    "~~~Java\n",
    "package com.variaveis.app;\n",
    "\n",
    "public class App {\n",
    "    public static void main(String[] args) throws Exception {\n",
    "        String nome = \"Fulano\";\n",
    "        System.out.println(nome);\n",
    "    }\n",
    "}\n",
    "~~~"
   ]
  },
  {
   "cell_type": "markdown",
   "id": "b76a559d",
   "metadata": {},
   "source": [
    "Se você rodar o programa, o resultado será este:"
   ]
  },
  {
   "cell_type": "markdown",
   "id": "d2b2f165",
   "metadata": {},
   "source": [
    "### Resultado\n",
    "\n",
    "> Fulano"
   ]
  },
  {
   "cell_type": "markdown",
   "id": "5b619816",
   "metadata": {},
   "source": [
    "Ótimo. Vamos acrescentar mais algumas variáveis no nosso programa. Vamos adicionar além do nome, idade, altura, e se é doador ou não. Vamos ao código-fonte:"
   ]
  },
  {
   "cell_type": "markdown",
   "id": "bb0c7527",
   "metadata": {},
   "source": [
    "#### App.java\n",
    "\n",
    "~~~Java\n",
    "package com.variaveis.app;\n",
    "\n",
    "public class App {\n",
    "    public static void main(String[] args) throws Exception {\n",
    "        String nome = \"Fulano\";\n",
    "        int idade = 30;\n",
    "        double altura = 1.75;\n",
    "        boolean doador = true;\n",
    "\n",
    "        System.out.println(nome);\n",
    "        System.out.println(idade);\n",
    "        System.out.println(altura);\n",
    "        System.out.println(doador);\n",
    "    }\n",
    "}\n",
    "~~~"
   ]
  },
  {
   "cell_type": "markdown",
   "id": "0d75c820",
   "metadata": {},
   "source": [
    "### Resultado\n",
    "\n",
    "> Fulano<br />\n",
    "> 30<br />\n",
    "> 1.75<br />\n",
    "> true<br />"
   ]
  },
  {
   "cell_type": "markdown",
   "id": "28264692",
   "metadata": {},
   "source": [
    "### Tipos primitivos\n",
    "\n",
    "Observe no código-fonte que os tipos de variáveis `int`, `double` e `boolean` estão escritas com inicial minúscula, enquanto o tipo de variável `String` está escrito com inicial maiúscula. Isso acontece porque os tipos de variáveis que iniciam com letra minúscula são **tipos primitivos** de variáveis, ou seja, são nativos da linguagem. Já o `String` na verdade foi criado a partir de uma classe desenvolvida para o Java (iremos ver o conceito de classes mais para frente no curso)."
   ]
  },
  {
   "cell_type": "markdown",
   "id": "0fcfcd0b",
   "metadata": {},
   "source": [
    "> *No Java, **tipos primitivos de variáveis** são os tipos de dados mais básicos e fundamentais da linguagem. Eles são chamados de \"primitivos\" porque não são objetos, mas sim valores simples armazenados diretamente na memória. Esses tipos são definidos pela própria linguagem Java e servem para representar dados como números, caracteres e valores lógicos.*\n",
    "\n",
    "### Principais tipos primitivos em Java:\n",
    "\n",
    "- `byte`: números inteiros pequenos (8 bits)\n",
    "- `short`: números inteiros (16 bits)\n",
    "- `int`: números inteiros (32 bits)\n",
    "- `long`: números inteiros grandes (64 bits)\n",
    "- `float`: números decimais de precisão simples (32 bits)\n",
    "- `double`: números decimais de precisão dupla (64 bits)\n",
    "- `char`: um único caractere Unicode (16 bits)\n",
    "- `boolean`: valores lógicos (`true` ou `false`)"
   ]
  },
  {
   "cell_type": "markdown",
   "id": "8ec0f24a",
   "metadata": {},
   "source": [
    "\n",
    "\n",
    "Esses tipos são escritos com letra minúscula e são mais rápidos e eficientes, pois não possuem métodos ou funcionalidades extras como os objetos. Já tipos como `String` são classes, não tipos primitivos."
   ]
  },
  {
   "cell_type": "markdown",
   "id": "e891db44",
   "metadata": {},
   "source": [
    "# Teste\n",
    "---"
   ]
  },
  {
   "cell_type": "markdown",
   "id": "a6c78f21",
   "metadata": {},
   "source": [
    "No Java, **tipos primitivos de variáveis** são os tipos de dados mais básicos e fundamentais da linguagem. Eles são chamados de \"primitivos\" porque não são objetos, mas sim valores simples armazenados diretamente na memória. Esses tipos são definidos pela própria linguagem Java e servem para representar dados como números, caracteres e valores lógicos.\n",
    "\n",
    "### Principais tipos primitivos em Java:\n",
    "\n",
    "- `byte`: números inteiros pequenos (8 bits)\n",
    "- `short`: números inteiros (16 bits)\n",
    "- `int`: números inteiros (32 bits)\n",
    "- `long`: números inteiros grandes (64 bits)\n",
    "- `float`: números decimais de precisão simples (32 bits)\n",
    "- `double`: números decimais de precisão dupla (64 bits)\n",
    "- `char`: um único caractere Unicode (16 bits)\n",
    "- `boolean`: valores lógicos (`true` ou `false`)\n",
    "\n",
    "**Exemplo:**\n"
   ]
  },
  {
   "cell_type": "code",
   "execution_count": null,
   "id": "0aeb89e7",
   "metadata": {
    "vscode": {
     "languageId": "java"
    }
   },
   "outputs": [],
   "source": [
    "int idade = 25;\n",
    "double altura = 1.75;\n",
    "boolean doador = true;\n",
    "char letra = 'A';\n",
    "\n",
    "System.out.println(\"Idade: \" + idade);"
   ]
  },
  {
   "cell_type": "markdown",
   "id": "504a2edf",
   "metadata": {},
   "source": [
    "\n",
    "\n",
    "Esses tipos são escritos com letra minúscula e são mais rápidos e eficientes, pois não possuem métodos ou funcionalidades extras como os objetos. Já tipos como `String` são classes, não tipos primitivos."
   ]
  }
 ],
 "metadata": {
  "kernelspec": {
   "display_name": ".venv",
   "language": "python",
   "name": "python3"
  },
  "language_info": {
   "name": "python",
   "version": "3.13.5"
  }
 },
 "nbformat": 4,
 "nbformat_minor": 5
}
