{
 "cells": [
  {
   "cell_type": "markdown",
   "id": "6346683f",
   "metadata": {},
   "source": [
    "# **Sintaxe Java**\n",
    "---"
   ]
  },
  {
   "cell_type": "markdown",
   "id": "b989b89b",
   "metadata": {},
   "source": [
    "Agora que vimos o nosso primeiro código em Java, vamos aprender um pouco mais sobre a sintaxe da linguagem. Mas para isso, vamos criar outro programa. **Siga os passos da aula anterior e crie um projeto chamado \"Variaveis\"**."
   ]
  },
  {
   "cell_type": "markdown",
   "id": "6bc85188",
   "metadata": {},
   "source": [
    "## Package\n",
    "---"
   ]
  },
  {
   "cell_type": "markdown",
   "id": "6605e0ea",
   "metadata": {},
   "source": [
    "Os programas Java trabalham com um conceito chamado de **Pacotes**, ou **Packages**."
   ]
  },
  {
   "cell_type": "markdown",
   "id": "d02816c5",
   "metadata": {},
   "source": [
    "> ***Os packages (pacotes) em projetos Java servem para organizar o código de forma estruturada e facilitar o gerenciamento dos arquivos. Eles agrupam classes relacionadas, tornando o projeto mais modular, legível e fácil de manter. Além disso, os packages ajudam a evitar conflitos de nomes entre classes e permitem controlar o acesso entre diferentes partes do código, melhorando a segurança e reutilização. Em projetos grandes, usar packages é essencial para manter tudo organizado e profissional.***"
   ]
  },
  {
   "cell_type": "markdown",
   "id": "fe205685",
   "metadata": {},
   "source": [
    "O ideal é que criemos vários **packages** dentro de um projeto Java. Portanto, a partir desse projeto, iremos fazer sempre isso. No caso do programa atual, iremos criar um pacote com o seguinte nome:\n",
    "\n",
    "`com.variaveis.app`\n",
    "\n",
    "Para fazermos isso, faça o seguinte:\n",
    "\n",
    "1. Dentro da estrutura de pastas do seu projeto, clique com o botão direito do mouse em cima da pasta `src`, e clique em **New Java Package...**:"
   ]
  },
  {
   "cell_type": "markdown",
   "id": "88120ba9",
   "metadata": {},
   "source": [
    "<div style=\"display: flex; justify-content: center\">\n",
    "    <img src=\"../assets/04-01.png\" alt=\"Java Project\" />\n",
    "</div>"
   ]
  },
  {
   "cell_type": "markdown",
   "id": "10ae988d",
   "metadata": {},
   "source": [
    "2. No alto da janela do VSCode, entre com o nome do pacote: **com.variaveis.app**, e pressione **Enter**:"
   ]
  },
  {
   "cell_type": "markdown",
   "id": "51f18b49",
   "metadata": {},
   "source": [
    "<div style=\"display: flex; justify-content: center\">\n",
    "    <img src=\"../assets/04-02.png\" alt=\"Java Project\" />\n",
    "</div>"
   ]
  },
  {
   "cell_type": "markdown",
   "id": "d9d903f0",
   "metadata": {},
   "source": [
    "3. Ao fazer isso, uma pasta chamada **com** será criada dentro da pasta **src**:"
   ]
  },
  {
   "cell_type": "markdown",
   "id": "345be0ef",
   "metadata": {},
   "source": [
    "<div style=\"display: flex; justify-content: center\">\n",
    "    <img src=\"../assets/04-03.png\" alt=\"Java Project\" />\n",
    "</div>"
   ]
  },
  {
   "cell_type": "markdown",
   "id": "d76fffb0",
   "metadata": {},
   "source": [
    "4. Destrinche a pasta **com** para revelar o caminho completo: **src\\com\\variaveis\\app**:"
   ]
  },
  {
   "cell_type": "markdown",
   "id": "dca7735c",
   "metadata": {},
   "source": [
    "<div style=\"display: flex; justify-content: center\">\n",
    "    <img src=\"../assets/04-04.png\" alt=\"Java Project\" />\n",
    "</div>"
   ]
  },
  {
   "cell_type": "markdown",
   "id": "09684fb3",
   "metadata": {},
   "source": [
    "5. Agora, arraste o arquivo **App.java** para dentro da pasta **app**.\n",
    "6. Irá aparecer uma mensagem: **Tem certeza de que deseja mover 'App.java' para 'app'?**. Confirme clicando no botão **Mover**:"
   ]
  },
  {
   "cell_type": "markdown",
   "id": "2276e5e3",
   "metadata": {},
   "source": [
    "<div style=\"display: flex; justify-content: center\">\n",
    "    <img src=\"../assets/04-05.png\" alt=\"Java Project\" />\n",
    "</div>"
   ]
  },
  {
   "cell_type": "markdown",
   "id": "4f0307f5",
   "metadata": {},
   "source": [
    "7. Irá aparecer outra caixa de diálogo. Clique em **OK**:"
   ]
  },
  {
   "cell_type": "markdown",
   "id": "a7b4ab1f",
   "metadata": {},
   "source": [
    "<div style=\"display: flex; justify-content: center\">\n",
    "    <img src=\"../assets/04-06.png\" alt=\"Java Project\" />\n",
    "</div>"
   ]
  },
  {
   "cell_type": "markdown",
   "id": "2a9a89b6",
   "metadata": {},
   "source": [
    "8. Ao fazer isso, uma nova linha de comando será automaticamente inserida no arquivo **App.java**. É o comando `package com.variaveis.app;`. Veja:"
   ]
  },
  {
   "cell_type": "markdown",
   "id": "ebbae39e",
   "metadata": {},
   "source": [
    "<div style=\"display: flex; justify-content: center\">\n",
    "    <img src=\"../assets/04-07.png\" alt=\"Java Project\" />\n",
    "</div>"
   ]
  },
  {
   "cell_type": "markdown",
   "id": "8c50e65a",
   "metadata": {},
   "source": [
    "..."
   ]
  }
 ],
 "metadata": {
  "language_info": {
   "name": "python"
  }
 },
 "nbformat": 4,
 "nbformat_minor": 5
}
