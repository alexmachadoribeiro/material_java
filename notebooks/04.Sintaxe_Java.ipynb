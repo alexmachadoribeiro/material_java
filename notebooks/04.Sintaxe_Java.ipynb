{
 "cells": [
  {
   "cell_type": "markdown",
   "id": "6346683f",
   "metadata": {},
   "source": [
    "# **Sintaxe Java**\n",
    "---"
   ]
  },
  {
   "cell_type": "markdown",
   "id": "b989b89b",
   "metadata": {},
   "source": [
    "Agora que vimos o nosso primeiro código em Java, vamos aprender um pouco mais sobre a sintaxe da linguagem. Mas para isso, vamos criar outro programa. **Siga os passos da aula anterior e crie um projeto chamado \"Variaveis\"**."
   ]
  },
  {
   "cell_type": "markdown",
   "id": "6bc85188",
   "metadata": {},
   "source": [
    "## Package\n",
    "---"
   ]
  },
  {
   "cell_type": "markdown",
   "id": "6605e0ea",
   "metadata": {},
   "source": [
    "Os programas Java trabalham com um conceito chamado de **Pacotes**, ou **Packages**."
   ]
  },
  {
   "cell_type": "markdown",
   "id": "d02816c5",
   "metadata": {},
   "source": [
    "> ***Os packages (pacotes) em projetos Java servem para organizar o código de forma estruturada e facilitar o gerenciamento dos arquivos. Eles agrupam classes relacionadas, tornando o projeto mais modular, legível e fácil de manter. Além disso, os packages ajudam a evitar conflitos de nomes entre classes e permitem controlar o acesso entre diferentes partes do código, melhorando a segurança e reutilização. Em projetos grandes, usar packages é essencial para manter tudo organizado e profissional.***"
   ]
  },
  {
   "cell_type": "markdown",
   "id": "fe205685",
   "metadata": {},
   "source": [
    "O ideal é que criemos vários **packages** dentro de um projeto Java. Portanto, a partir desse projeto, iremos fazer sempre isso. No caso do programa atual, iremos criar um pacote com o seguinte nome:\n",
    "\n",
    "`com.variaveis.app`\n",
    "\n",
    "Para fazermos isso, faça o seguinte:\n",
    "\n",
    "1. Dentro da estrutura de pastas do seu projeto, clique com o botão direito do mouse em cima da pasta `src`, e clique em **New Java Package...**:"
   ]
  },
  {
   "cell_type": "markdown",
   "id": "88120ba9",
   "metadata": {},
   "source": [
    "<div style=\"display: flex; justify-content: center\">\n",
    "    <img src=\"../assets/04-01.png\" alt=\"Java Project\" />\n",
    "</div>"
   ]
  },
  {
   "cell_type": "markdown",
   "id": "10ae988d",
   "metadata": {},
   "source": [
    "2. No alto da janela do VSCode, entre com o nome do pacote: **com.variaveis.app**, e pressione **Enter**:"
   ]
  },
  {
   "cell_type": "markdown",
   "id": "51f18b49",
   "metadata": {},
   "source": [
    "<div style=\"display: flex; justify-content: center\">\n",
    "    <img src=\"../assets/04-02.png\" alt=\"Java Project\" />\n",
    "</div>"
   ]
  },
  {
   "cell_type": "markdown",
   "id": "d9d903f0",
   "metadata": {},
   "source": [
    "3. Ao fazer isso, uma pasta chamada **com** será criada dentro da pasta **src**:"
   ]
  },
  {
   "cell_type": "markdown",
   "id": "345be0ef",
   "metadata": {},
   "source": [
    "<div style=\"display: flex; justify-content: center\">\n",
    "    <img src=\"../assets/04-03.png\" alt=\"Java Project\" />\n",
    "</div>"
   ]
  },
  {
   "cell_type": "markdown",
   "id": "d76fffb0",
   "metadata": {},
   "source": [
    "4. Destrinche a pasta **com** para revelar o caminho completo: **src\\com\\variaveis\\app**:"
   ]
  },
  {
   "cell_type": "markdown",
   "id": "dca7735c",
   "metadata": {},
   "source": [
    "<div style=\"display: flex; justify-content: center\">\n",
    "    <img src=\"../assets/04-04.png\" alt=\"Java Project\" />\n",
    "</div>"
   ]
  },
  {
   "cell_type": "markdown",
   "id": "09684fb3",
   "metadata": {},
   "source": [
    "5. Agora, arraste o arquivo **App.java** para dentro da pasta **app**.\n",
    "6. Irá aparecer uma mensagem: **Tem certeza de que deseja mover 'App.java' para 'app'?**. Confirme clicando no botão **Mover**:"
   ]
  },
  {
   "cell_type": "markdown",
   "id": "2276e5e3",
   "metadata": {},
   "source": [
    "<div style=\"display: flex; justify-content: center\">\n",
    "    <img src=\"../assets/04-05.png\" alt=\"Java Project\" />\n",
    "</div>"
   ]
  },
  {
   "cell_type": "markdown",
   "id": "4f0307f5",
   "metadata": {},
   "source": [
    "7. Irá aparecer outra caixa de diálogo. Clique em **OK**:"
   ]
  },
  {
   "cell_type": "markdown",
   "id": "a7b4ab1f",
   "metadata": {},
   "source": [
    "<div style=\"display: flex; justify-content: center\">\n",
    "    <img src=\"../assets/04-06.png\" alt=\"Java Project\" />\n",
    "</div>"
   ]
  },
  {
   "cell_type": "markdown",
   "id": "2a9a89b6",
   "metadata": {},
   "source": [
    "8. Ao fazer isso, uma nova linha de comando será automaticamente inserida no arquivo **App.java**. É o comando `package com.variaveis.app;`. Veja:"
   ]
  },
  {
   "cell_type": "markdown",
   "id": "ebbae39e",
   "metadata": {},
   "source": [
    "<div style=\"display: flex; justify-content: center\">\n",
    "    <img src=\"../assets/04-07.png\" alt=\"Java Project\" />\n",
    "</div>"
   ]
  },
  {
   "cell_type": "markdown",
   "id": "8c50e65a",
   "metadata": {},
   "source": [
    "9. Esse comando indica em qual pacote aquela classe está. Deixe essa linha como está e vamos prosseguir.\n",
    "10. Apague a linha 7, onde está o comando `System.out.println(\"Hello, World!\");`."
   ]
  },
  {
   "cell_type": "markdown",
   "id": "8c2a3907",
   "metadata": {},
   "source": [
    "## Variáveis\n",
    "---"
   ]
  },
  {
   "cell_type": "markdown",
   "id": "1e8636a2",
   "metadata": {},
   "source": [
    "> ***Variáveis são basicamente elementos cujos valores variam no decorrer do programa. Em programação, ao declarar uma variável, o programa pede para o computador reservar uma parte da memória RAM para armazenar o valor a ser utilizado pelo programa que você está criando.***"
   ]
  },
  {
   "cell_type": "markdown",
   "id": "5708274b",
   "metadata": {},
   "source": [
    "No programa atual, vamos aprender a criar variáveis, e elas devem ser criadas dentro do método `main`, e devem ter o seu tipo de dado declarado na variável. Exemplo: vamos supor que eu queira declarar uma variável chamada `nome`, cujo valor é `\"Fulano\"`. Eu sei que `nome` vai receber um dado do tipo texto, então o código a ser escrito é `String nome = \"Fulano\";`. Para exibir o valor da variável, escrevo o comando `System.out.println(nome);`. Por enquanto, o código completo até aqui é este:"
   ]
  },
  {
   "cell_type": "markdown",
   "id": "f1d39406",
   "metadata": {},
   "source": [
    "#### App.java"
   ]
  },
  {
   "cell_type": "code",
   "execution_count": null,
   "id": "2506772c",
   "metadata": {
    "vscode": {
     "languageId": "java"
    }
   },
   "outputs": [],
   "source": [
    "package com.variaveis.app;\n",
    "\n",
    "public class App {\n",
    "    public static void main(String[] args) throws Exception {\n",
    "        String nome = \"Fulano\";\n",
    "        System.out.println(nome);\n",
    "    }\n",
    "}"
   ]
  },
  {
   "cell_type": "markdown",
   "id": "b76a559d",
   "metadata": {},
   "source": [
    "Se você rodar o programa, o resultado será este:"
   ]
  },
  {
   "cell_type": "markdown",
   "id": "d2b2f165",
   "metadata": {},
   "source": [
    "### Resultado\n",
    "\n",
    "> Fulano"
   ]
  },
  {
   "cell_type": "markdown",
   "id": "5b619816",
   "metadata": {},
   "source": [
    "Ótimo. Vamos acrescentar mais algumas variáveis no nosso programa. Vamos adicionar além do nome, idade, altura, e se é doador ou não. Vamos ao código-fonte:"
   ]
  },
  {
   "cell_type": "markdown",
   "id": "bb0c7527",
   "metadata": {},
   "source": [
    "#### App.java"
   ]
  },
  {
   "cell_type": "code",
   "execution_count": null,
   "id": "b7a9cd1d",
   "metadata": {
    "vscode": {
     "languageId": "java"
    }
   },
   "outputs": [],
   "source": [
    "package com.variaveis.app;\n",
    "\n",
    "public class App {\n",
    "    public static void main(String[] args) throws Exception {\n",
    "        String nome = \"Fulano\";\n",
    "        int idade = 30;\n",
    "        double altura = 1.75;\n",
    "        boolean doador = true;\n",
    "\n",
    "        System.out.println(nome);\n",
    "        System.out.println(idade);\n",
    "        System.out.println(altura);\n",
    "        System.out.println(doador);\n",
    "    }\n",
    "}"
   ]
  },
  {
   "cell_type": "markdown",
   "id": "0d75c820",
   "metadata": {},
   "source": [
    "### Resultado\n",
    "\n",
    "> Fulano<br />\n",
    "> 30<br />\n",
    "> 1.75<br />\n",
    "> true<br />"
   ]
  },
  {
   "cell_type": "markdown",
   "id": "46368e56",
   "metadata": {},
   "source": [
    "Os valores das variáveis são exibidos no comando `System.out.println`, pois dentro do parênteses `()` estamos informando o nome das variáveis, sem utilizar as aspas `\"\"`."
   ]
  },
  {
   "cell_type": "markdown",
   "id": "28264692",
   "metadata": {},
   "source": [
    "### Tipos primitivos\n",
    "\n",
    "Observe no código-fonte que os tipos de variáveis `int`, `double` e `boolean` estão escritas com inicial minúscula, enquanto o tipo de variável `String` está escrito com inicial maiúscula. Isso acontece porque os tipos de variáveis que iniciam com letra minúscula são **tipos primitivos** de variáveis, ou seja, são nativos da linguagem. Já o `String` na verdade foi criado a partir de uma classe desenvolvida para o Java (iremos ver o conceito de classes mais para frente no curso)."
   ]
  },
  {
   "cell_type": "markdown",
   "id": "0fcfcd0b",
   "metadata": {},
   "source": [
    "> *No Java, **tipos primitivos de variáveis** são os tipos de dados mais básicos e fundamentais da linguagem. Eles são chamados de \"primitivos\" porque não são objetos, mas sim valores simples armazenados diretamente na memória. Esses tipos são definidos pela própria linguagem Java e servem para representar dados como números, caracteres e valores lógicos.*\n",
    "\n",
    "### Principais tipos primitivos em Java:\n",
    "\n",
    "- `byte`: números inteiros pequenos (8 bits)\n",
    "- `short`: números inteiros (16 bits)\n",
    "- `int`: números inteiros (32 bits)\n",
    "- `long`: números inteiros grandes (64 bits)\n",
    "- `float`: números decimais de precisão simples (32 bits)\n",
    "- `double`: números decimais de precisão dupla (64 bits)\n",
    "- `char`: um único caractere Unicode (16 bits)\n",
    "- `boolean`: valores lógicos (`true` ou `false`)"
   ]
  },
  {
   "cell_type": "markdown",
   "id": "8ec0f24a",
   "metadata": {},
   "source": [
    "Esses tipos são escritos com letra minúscula e são mais rápidos e eficientes, pois não possuem métodos ou funcionalidades extras como os objetos. Já tipos como `String` são classes, não tipos primitivos.\n",
    "\n",
    "Isso acontece porque o Java foi baseado em C, e em C não existe o tipo de variável `String`. Apenas o `char`."
   ]
  },
  {
   "cell_type": "markdown",
   "id": "ef18f1b7",
   "metadata": {},
   "source": [
    "## Comentários\n",
    "---"
   ]
  },
  {
   "cell_type": "markdown",
   "id": "0ae3d37a",
   "metadata": {},
   "source": [
    "Linhas de comentários são trechos de códigos que não são lidos nem executados pelo computador. O ojbetivo dessas linhas é inserir um texto explicativo sobre uma determinada parte do código, a fim de explicar para um programador substituto, ou mesmo para relembrar o próprio programador do sistema sobre o que aquele trecho de código faz.\n",
    "\n",
    "As linhas de comentários são feitas da seguinte forma:\n",
    "\n",
    "- `//`: comentários de uma linha.\n",
    "- `/*`: inicia comentários de múltiplas linhas.\n",
    "- `*/`: encerra comentários de múltiplas linhas.\n",
    "\n",
    "Vamos acrescentar, por exemplo, comentários no código-fonte que acabamos de fazer. Ficaria assim:"
   ]
  },
  {
   "cell_type": "code",
   "execution_count": null,
   "id": "69411d76",
   "metadata": {
    "vscode": {
     "languageId": "java"
    }
   },
   "outputs": [],
   "source": [
    "package com.variaveis.app;\n",
    "\n",
    "public class App {\n",
    "    public static void main(String[] args) throws Exception {\n",
    "        // Declaração de variáveis\n",
    "        // Tipos primitivos em Java: int, double, boolean, char, etc.\n",
    "        String nome = \"Fulano\";\n",
    "        int idade = 30;\n",
    "        double altura = 1.75;\n",
    "        boolean doador = true;\n",
    "\n",
    "        // Exibição das variáveis\n",
    "        System.out.println(nome);\n",
    "        System.out.println(idade);\n",
    "        System.out.println(altura);\n",
    "        System.out.println(doador);\n",
    "    }\n",
    "}"
   ]
  },
  {
   "cell_type": "markdown",
   "id": "19d28b01",
   "metadata": {},
   "source": [
    "## Concatenação\n",
    "---\n",
    "\n",
    "Obviamente, você irá sentir a necessidade de concatenar *strings* com variáveis. Isso pode ser feito das seguintes formas:\n",
    "\n",
    "### Forma 1\n",
    "\n",
    "Você pode usar o sinal de mais `+` para concaternar. Exemplo:"
   ]
  },
  {
   "cell_type": "code",
   "execution_count": null,
   "id": "52f30520",
   "metadata": {
    "vscode": {
     "languageId": "java"
    }
   },
   "outputs": [],
   "source": [
    "package com.variaveis.app;\n",
    "\n",
    "public class App {\n",
    "    public static void main(String[] args) throws Exception {\n",
    "        // Declaração de variáveis\n",
    "        // Tipos primitivos em Java: int, double, boolean, char, etc.\n",
    "        String nome = \"Fulano\";\n",
    "        int idade = 30;\n",
    "        double altura = 1.75;\n",
    "        boolean doador = true;\n",
    "\n",
    "        // Exibição das variáveis\n",
    "        System.out.println(\"Nome: \" + nome);\n",
    "        System.out.println(\"Idade: \" + idade);\n",
    "        System.out.println(\"Altura: \" + altura);\n",
    "        System.out.println(\"Doador? \" + doador);\n",
    "    }\n",
    "}"
   ]
  },
  {
   "cell_type": "markdown",
   "id": "dcc3ece6",
   "metadata": {},
   "source": [
    "### Resultado\n",
    "\n",
    "> Nome: Fulano<br />\n",
    "> Idade: 30<br />\n",
    "> Altura: 1.75<br />\n",
    "> Doador? true<br />"
   ]
  },
  {
   "cell_type": "markdown",
   "id": "47370c4e",
   "metadata": {},
   "source": [
    "### Forma 2\n",
    "\n",
    "Podemos usar a função `.formatted()`, e indicar o tipo de formatação que desejamos dentro da string."
   ]
  },
  {
   "cell_type": "code",
   "execution_count": null,
   "id": "4e48ec7b",
   "metadata": {
    "vscode": {
     "languageId": "java"
    }
   },
   "outputs": [],
   "source": [
    "package com.variaveis.app;\n",
    "\n",
    "public class App {\n",
    "    public static void main(String[] args) throws Exception {\n",
    "        // Declaração de variáveis\n",
    "        // Tipos primitivos em Java: int, double, boolean, char, etc.\n",
    "        String nome = \"Fulano\";\n",
    "        int idade = 30;\n",
    "        double altura = 1.75;\n",
    "        boolean doador = true;\n",
    "\n",
    "        // Exibição das variáveis\n",
    "        System.out.println(\"Nome: %s\".formatted(nome));\n",
    "        System.out.println(\"Idade: %d\".formatted(idade));\n",
    "        System.out.println(\"Altura: %.2f\".formatted(altura));\n",
    "        System.out.println(\"Doador? %b\".formatted(doador));\n",
    "    }\n",
    "}"
   ]
  },
  {
   "cell_type": "markdown",
   "id": "c62f97c3",
   "metadata": {},
   "source": [
    "### Resultado\n",
    "\n",
    "> Nome: Fulano<br />\n",
    "> Idade: 30<br />\n",
    "> Altura: 1,75<br />\n",
    "> Doador? true<br />"
   ]
  },
  {
   "cell_type": "markdown",
   "id": "6c44348e",
   "metadata": {},
   "source": [
    "Esse tipo permite alterarmos a forma como os valores são exibidos na tela."
   ]
  },
  {
   "cell_type": "markdown",
   "id": "a927e4ee",
   "metadata": {},
   "source": [
    "### Forma 3\n",
    "\n",
    "Podemos formatar a string e separar as variáveis por vírgula `,`."
   ]
  },
  {
   "cell_type": "code",
   "execution_count": null,
   "id": "698d9c8d",
   "metadata": {
    "vscode": {
     "languageId": "java"
    }
   },
   "outputs": [],
   "source": [
    "package com.variaveis.app;\n",
    "\n",
    "public class App {\n",
    "    public static void main(String[] args) throws Exception {\n",
    "        // Declaração de variáveis\n",
    "        // Tipos primitivos em Java: int, double, boolean, char, etc.\n",
    "        String nome = \"Fulano\";\n",
    "        int idade = 30;\n",
    "        double altura = 1.75;\n",
    "        boolean doador = true;\n",
    "\n",
    "        // Exibição das variáveis\n",
    "        System.out.printf(\"Nome: %s%n\", nome);\n",
    "        System.out.printf(\"Idade: %d%n\", idade);\n",
    "        System.out.printf(\"Altura: %.2f%n\", altura);\n",
    "        System.out.printf(\"Doador? %b%n\", doador);\n",
    "    }\n",
    "}"
   ]
  },
  {
   "cell_type": "markdown",
   "id": "fb9e7798",
   "metadata": {},
   "source": [
    "### Resultado\n",
    "\n",
    "> Nome: Fulano<br />\n",
    "> Idade: 30<br />\n",
    "> Altura: 1,75<br />\n",
    "> Doador? true<br />"
   ]
  },
  {
   "cell_type": "markdown",
   "id": "01ac5029",
   "metadata": {},
   "source": [
    "Na próxima aula iremos aprender como fazer entrada de dados."
   ]
  }
 ],
 "metadata": {
  "kernelspec": {
   "display_name": ".venv",
   "language": "python",
   "name": "python3"
  },
  "language_info": {
   "name": "python",
   "version": "3.13.5"
  }
 },
 "nbformat": 4,
 "nbformat_minor": 5
}
