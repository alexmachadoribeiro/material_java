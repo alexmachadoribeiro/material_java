{
 "cells": [
  {
   "cell_type": "markdown",
   "id": "def5fe5c",
   "metadata": {},
   "source": [
    "# **Primeiro Código em Java**\n",
    "---"
   ]
  },
  {
   "cell_type": "markdown",
   "id": "257e22e0",
   "metadata": {},
   "source": [
    "Agora chegou a hora de criarmos os nossos primeiros cósigo em Java. Mais uma vez explicando: iremos utilizar o VSCode para fins de estudo, mas sinta-se livre para utilizar o programa que desejar.\n",
    "\n",
    "O primeiro programa que iremos criar é o **Hello World**."
   ]
  },
  {
   "cell_type": "markdown",
   "id": "d0641698",
   "metadata": {},
   "source": [
    "## Hello World em Java\n",
    "---"
   ]
  },
  {
   "cell_type": "markdown",
   "id": "99090d99",
   "metadata": {},
   "source": [
    "Para os que estão iniciando agora na área de progrmação, o Hello World é o programa mais simples que se pode criar com qualquer linguagem de programação. Ele basicamente exibe na tela um pequeno texto: **Olá mundo**. O objetivo do programa é mostrar ao programador como a linguagem trabalha a saída de dados do programa, elemento fundamental de qualquer programa."
   ]
  },
  {
   "cell_type": "markdown",
   "id": "e3d91870",
   "metadata": {},
   "source": [
    "### Criando o hello World"
   ]
  },
  {
   "cell_type": "markdown",
   "id": "783dd731",
   "metadata": {},
   "source": [
    "1. Abra o VSCode.\n",
    "2. Vá em **Arquivo -> Abrir pasta**:"
   ]
  },
  {
   "cell_type": "markdown",
   "id": "b4a5d89d",
   "metadata": {},
   "source": [
    "<div style=\"display: flex; justify-content: center\">\n",
    "    <img src=\"../assets/janela-vscode-abrir_pasta.png\" alt=\"Abrir pasta no VSCode\" />\n",
    "</div>"
   ]
  },
  {
   "cell_type": "markdown",
   "id": "bc0f87f7",
   "metadata": {},
   "source": [
    "3. Crie uma pasta para guardar todos os seus projetos Java, abra a pasta e clique no botão **Selecionar pasta**:"
   ]
  },
  {
   "cell_type": "markdown",
   "id": "d8c29531",
   "metadata": {},
   "source": [
    "<div style=\"display: flex; justify-content: center\">\n",
    "    <img src=\"../assets/03-01.png\" alt=\"Abrir pasta no VSCode\" />\n",
    "</div>"
   ]
  },
  {
   "cell_type": "markdown",
   "id": "cd19f5ed",
   "metadata": {},
   "source": [
    "4. No Explorador de arquivos do VSCode, clique com o botão direito do mouse numa área vazia, e escolha a opção **New Java Project...**:"
   ]
  },
  {
   "cell_type": "markdown",
   "id": "c1f9da39",
   "metadata": {},
   "source": [
    "<div style=\"display: flex; justify-content: center\">\n",
    "    <img src=\"../assets/03-02.png\" alt=\"Java Project\" />\n",
    "</div>"
   ]
  },
  {
   "cell_type": "markdown",
   "id": "36a8ef14",
   "metadata": {},
   "source": [
    "5. No alto da janela, escolha **No build tools**:"
   ]
  },
  {
   "cell_type": "markdown",
   "id": "e26e6429",
   "metadata": {},
   "source": [
    "<div style=\"display: flex; justify-content: center\">\n",
    "    <img src=\"../assets/03-03.png\" alt=\"Java Project\" />\n",
    "</div>"
   ]
  },
  {
   "cell_type": "markdown",
   "id": "19550375",
   "metadata": {},
   "source": [
    "6. Na janela que surgir, escolha **Select the project location**:"
   ]
  },
  {
   "cell_type": "markdown",
   "id": "ef368187",
   "metadata": {},
   "source": [
    "<div style=\"display: flex; justify-content: center\">\n",
    "    <img src=\"../assets/03-04.png\" alt=\"Java Project\" />\n",
    "</div>"
   ]
  },
  {
   "cell_type": "markdown",
   "id": "5817e1fa",
   "metadata": {},
   "source": [
    "7. No alto da janela, digite o nome do projeto: **HelloWorld** e aperte **Enter**:"
   ]
  },
  {
   "cell_type": "markdown",
   "id": "450e3d1a",
   "metadata": {},
   "source": [
    "<div style=\"display: flex; justify-content: center\">\n",
    "    <img src=\"../assets/03-05.png\" alt=\"Java Project\" />\n",
    "</div>"
   ]
  },
  {
   "cell_type": "markdown",
   "id": "a42cdba1",
   "metadata": {},
   "source": [
    "8. Se tudo tiver dado certo, o Explorador de arquivos do VSCode vai aparecer como na imagem abaixo:"
   ]
  },
  {
   "cell_type": "markdown",
   "id": "690119ed",
   "metadata": {},
   "source": [
    "<div style=\"display: flex; justify-content: center\">\n",
    "    <img src=\"../assets/03-06.png\" alt=\"Java Project\" />\n",
    "</div>"
   ]
  },
  {
   "cell_type": "markdown",
   "id": "70f3d688",
   "metadata": {},
   "source": [
    "9. Dentro da pasta **src**, existe um arquivo chamado **App.java**. Abra-o:"
   ]
  },
  {
   "cell_type": "markdown",
   "id": "ddde4657",
   "metadata": {},
   "source": [
    "<div style=\"display: flex; justify-content: center\">\n",
    "    <img src=\"../assets/03-07.png\" alt=\"Java Project\" />\n",
    "</div>"
   ]
  },
  {
   "cell_type": "markdown",
   "id": "025e4d0d",
   "metadata": {},
   "source": [
    "10. O código que você está vendo é um código Java. Segue abaixo o código-fonte completo desse programa:"
   ]
  },
  {
   "cell_type": "code",
   "execution_count": null,
   "id": "8c2ed779",
   "metadata": {
    "vscode": {
     "languageId": "java"
    }
   },
   "outputs": [],
   "source": [
    "public class App {\n",
    "    public static void main(String[] args) throws Exception {\n",
    "        System.out.println(\"Hello World!\");\n",
    "    }\n",
    "}"
   ]
  },
  {
   "cell_type": "markdown",
   "id": "d727a887",
   "metadata": {},
   "source": [
    "Antes de executarmos, vamos à explicação do código:\n",
    "\n",
    "- `public class App`: é uma classe Java, no caso, uma classe chamada App, e é a classe principal do seu programa (um programa Java pode ter várias classes). Dentro das chaves está o seu programa, ele inicia com `{` e encerra com `}`.\n",
    "- `public static void main`: é o método principal da classe, responsável por executar o seu programa. Esse método é público (`public`), estático (`static`) e não retorna valores (`void`). Todo o algoritmo principal estará dentro desse método, entre as chaves `{}`. Todo programa Java terá uma classe principal, e ela é definida por esse método. Você pode escrever código fora desse método, mas o programa só exxecutará o que estiver dentro das chaves do método `main`.\n",
    "- `String[] args`: No Java, o parâmetro `String[] args` do método main serve para receber argumentos da linha de comando quando o programa é executado. Cada elemento do array args representa um argumento passado pelo usuário ao iniciar o programa. Isso permite que você faça programas que recebem informações externas sem precisar pedir ao usuário durante a execução. É muito útil para automação, scripts e programas que precisam ser configurados rapidamente.\n",
    "- `throws Exception`: serve para indicar que esse método pode lançar uma exceção do tipo Exception (ou qualquer subclasse dela) durante sua execução. Isso significa que, se algum erro acontecer e não for tratado dentro do método, ele será \"lançado\" para o sistema operacional ou para quem chamou o programa.\n",
    "- `System.out.println`: o `System` é uma classe utilitária da biblioteca padrão do Java, localizada no pacote java.lang. Ela fornece acesso a recursos do sistema, como entrada, saída e propriedades do ambiente. O `out` é um objeto de saída padrão (console). É um atributo estático da classe System. Ele representa o \"stream\" de saída padrão do sistema, normalmente o console (tela). O tipo desse atributo é PrintStream, que possui métodos para exibir dados. Já o `println` é um método da classe PrintStream. O nome vem de \"print line\" (imprimir linha). Ele imprime o texto passado como argumento e, ao final, adiciona uma quebra de linha (ou seja, o cursor vai para a linha de baixo).\n",
    "- `;`: o ponto-e-vírgula indica fim de comando no Java.\n",
    "\n",
    "11. Agora que já sabemos como um código em Java funciona, vamos executar o código. Clique no botão **Run** no canto superior direito da guia do código-fonte, conforme imagem abaixo:"
   ]
  },
  {
   "cell_type": "markdown",
   "id": "2f484155",
   "metadata": {},
   "source": [
    "<div style=\"display: flex; justify-content: center\">\n",
    "    <img src=\"../assets/03-08.png\" alt=\"Java Project\" />\n",
    "</div>"
   ]
  },
  {
   "cell_type": "markdown",
   "id": "547ae219",
   "metadata": {},
   "source": [
    "12. O resultado irá aparecer no console, na parte de baixo da janela:"
   ]
  },
  {
   "cell_type": "markdown",
   "id": "4cd2640a",
   "metadata": {},
   "source": [
    "<div style=\"display: flex; justify-content: center\">\n",
    "    <img src=\"../assets/03-09.png\" alt=\"Java Project\" />\n",
    "</div>"
   ]
  },
  {
   "cell_type": "markdown",
   "id": "bc33cc3e",
   "metadata": {},
   "source": [
    "#### Resultado\n",
    "\n",
    "> Olá, Mundo!"
   ]
  },
  {
   "cell_type": "markdown",
   "id": "034df966",
   "metadata": {},
   "source": [
    "### **Meus parabéns!!! Você criou seu primeiro programa em Java!!!** ☕"
   ]
  }
 ],
 "metadata": {
  "language_info": {
   "name": "python"
  }
 },
 "nbformat": 4,
 "nbformat_minor": 5
}
