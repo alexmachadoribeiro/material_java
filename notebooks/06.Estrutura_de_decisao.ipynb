{
 "cells": [
  {
   "cell_type": "markdown",
   "id": "9ec82207",
   "metadata": {},
   "source": [
    "# **Estruturas de Decisão**\n",
    "---"
   ]
  },
  {
   "cell_type": "markdown",
   "id": "22f24c2d",
   "metadata": {},
   "source": [
    "<div style=\"display: flex; justify-content: center\">\n",
    "    <img src=\"../assets/caminhos.png\" alt=\"Caminhos\" />\n",
    "</div>"
   ]
  },
  {
   "cell_type": "markdown",
   "id": "fc67d689",
   "metadata": {},
   "source": [
    "Até o momento, falamos de instruções bastante epecíficas, que tratam a solução como um caminho único. Mas sabemos que imprevistos acontecem. E se ocorrrer do computador precisar tomar uma decisão? Como ele faria isso? Como falado anteriormente, o computador é a coisa mais estúpida que existe no universo. Ele não fará nada, a não ser que você mande ou ensine. Nesse caso, **é sua tarefa ensinar o computador a tomar decisões**.\n",
    "\n",
    "### O que é uma Estrutura de decisão?\n",
    "\n",
    "É um bloco de programação que divide o seu código em dois algoritmos distintos, mas somente um deles será executado com base em uma condição determinada pelo próprio programador: caso a condição seja **verdadeira**, ele irá executar um algoritmo. Caso essa mesma condição seja **falsa**, um outro algoritmo será executado no lugar. Dessa forma, o programa poderá ser finalizado de duas formas diferentes. Ambos os algoritmos serão definidos pelo programador. Há também a possibilidade de ter mais de dois caminhos diferentes, e pode acontecer ainda do computador precisar avaliar duas ou mais condições diferentes simultaneamente. Entenda que é a partir daqui que iremos precisar dos operadores relacionais vistos na aula passada."
   ]
  },
  {
   "cell_type": "markdown",
   "id": "2504f164",
   "metadata": {},
   "source": [
    "## Estrutura if...else\n",
    "---"
   ]
  },
  {
   "cell_type": "markdown",
   "id": "169d8e0f",
   "metadata": {},
   "source": [
    "De todas as estruturas que existem em programação, a mais famosa (e usada) é, de longe, o **if...else**, também conhecido como **se...senão**. Se você usa o Excel, então deve estar familiarizado com essa estrutura: ela é usada na função `=SE(condição;valor_se_verdadeiro;valor_se_falso)` do Excel, e segue a mesma linha de raciocínio."
   ]
  },
  {
   "cell_type": "markdown",
   "id": "c087c802",
   "metadata": {},
   "source": [
    "Vamos ver como funciona:\n",
    "\n",
    "1. Crie um novo projeto Java, e dentro desse projeto crie um *package* com o nome `com.maioridade.app`, e mova o arquivo `App.java` para dentro da pasta `app`.\n",
    "2. No código-fonte `App.java`, importe e instancie a classe `Scanner`, declare as variáveis `nome` e `idade` e faça os *inputs*. Vai ficar assim:\n",
    "\n",
    "#### Maioridade"
   ]
  },
  {
   "cell_type": "code",
   "execution_count": null,
   "id": "05f0b5a1",
   "metadata": {
    "vscode": {
     "languageId": "java"
    }
   },
   "outputs": [],
   "source": [
    "package com.maioridade.app;\n",
    "\n",
    "// importa a classe Scanner\n",
    "import java.util.Scanner;\n",
    "\n",
    "public class App {\n",
    "    public static void main(String[] args) throws Exception {\n",
    "        // instância da classe Scanner\n",
    "        Scanner leia = new Scanner(System.in);\n",
    "\n",
    "        // declaração de variáveis\n",
    "        String nome;\n",
    "        int idade;\n",
    "\n",
    "        // input\n",
    "        System.out.print(\"Digite seu nome: \");\n",
    "        nome = leia.nextLine();\n",
    "        System.out.print(\"Digite sua idade: \");\n",
    "        idade = leia.nextInt();\n",
    "\n",
    "        // fecha o objeto Scanner\n",
    "        leia.close();\n",
    "    }\n",
    "}\n"
   ]
  },
  {
   "cell_type": "markdown",
   "id": "14f93888",
   "metadata": {},
   "source": [
    "3. A estrutura ***if...else*** verifica uma condição, e se caso essa condição for verdadeira, ela executa um bloco de programação, mas se essa condição for falsa, ela executa outro bloco de programação. Veja na prática: adicione o código abaixo logo após o comando `idade = leia.nextInt();` e antes de `leia.close();`:"
   ]
  },
  {
   "cell_type": "code",
   "execution_count": null,
   "id": "1aefe190",
   "metadata": {
    "vscode": {
     "languageId": "java"
    }
   },
   "outputs": [],
   "source": [
    "// estrutura de decisão\n",
    "if (idade >= 18) {\n",
    "    System.out.println(nome + \" é maior de idade.\");\n",
    "} \n",
    "else {\n",
    "    System.out.println(nome + \" é menor de idade.\");\n",
    "}"
   ]
  },
  {
   "cell_type": "markdown",
   "id": "86107cd2",
   "metadata": {},
   "source": [
    "O código-fonte final deve ficar assim:"
   ]
  },
  {
   "cell_type": "code",
   "execution_count": null,
   "id": "c4fed33f",
   "metadata": {
    "vscode": {
     "languageId": "java"
    }
   },
   "outputs": [],
   "source": [
    "package com.maioridade.app;\n",
    "\n",
    "import java.util.Scanner;\n",
    "\n",
    "public class App {\n",
    "    public static void main(String[] args) throws Exception {\n",
    "        Scanner leia = new Scanner(System.in);\n",
    "\n",
    "        String nome;\n",
    "        int idade;\n",
    "\n",
    "        System.out.print(\"Digite seu nome: \");\n",
    "        nome = leia.nextLine();\n",
    "        System.out.print(\"Digite sua idade: \");\n",
    "        idade = leia.nextInt();\n",
    "\n",
    "        // estrutura de decisão\n",
    "        if (idade >= 18) {\n",
    "            System.out.println(nome + \" é maior de idade.\");\n",
    "        } \n",
    "        else {\n",
    "            System.out.println(nome + \" é menor de idade.\");\n",
    "        }\n",
    "\n",
    "        leia.close();\n",
    "    }\n",
    "}\n"
   ]
  },
  {
   "cell_type": "markdown",
   "id": "e8ab0577",
   "metadata": {},
   "source": [
    "Ao executar esse código, o programa pode exibir duas respostas diferentes: ou o usuário pode ser maior de idade, ou pode ser menor de idade.\n",
    "\n",
    "Por exemplo: suponha que o usuário informa o nome `Fulano` e a idade `20`. O resultado será esse abaixo:"
   ]
  },
  {
   "cell_type": "markdown",
   "id": "5f0842ed",
   "metadata": {},
   "source": [
    "#### Resultado\n",
    "\n",
    "> Fulano é maior de idade."
   ]
  },
  {
   "cell_type": "markdown",
   "id": "beae00e3",
   "metadata": {},
   "source": [
    "Já se o mesmo `Fulano` informar a idade `15`, o resultado será esse outro:"
   ]
  },
  {
   "cell_type": "markdown",
   "id": "192de4b9",
   "metadata": {},
   "source": [
    "#### Resultado\n",
    "\n",
    "> Fulano é menor de idade."
   ]
  },
  {
   "cell_type": "markdown",
   "id": "b8c477c2",
   "metadata": {},
   "source": [
    "Agora, vamos criar um outro programa: o dono de um parque quer implementar um sistema em um brinquedo que verifica se o usuário tem a idade mínima e também a altura mínima para entrar no brinquedo:\n",
    "\n",
    "1. Vamos começar criando outro projeto Java, e dentro dele vamos criar o *package* `com.brinquedo.app` e jogar o arquivo `App.java` para dentro de `app`.\n",
    "2. Vamos importar e instanciar a classe Scanner e delcarar as variáveis `nome`, `idade` e `altura`, e depois vamos fazer os inputs. O código vai ficar assim:\n",
    "\n",
    "#### Brinquedo"
   ]
  },
  {
   "cell_type": "code",
   "execution_count": null,
   "id": "87a1e9c2",
   "metadata": {
    "vscode": {
     "languageId": "java"
    }
   },
   "outputs": [],
   "source": [
    "package com.brinquedo.app;\n",
    "\n",
    "// importa Scanner\n",
    "import java.util.Scanner;\n",
    "\n",
    "public class App {\n",
    "    public static void main(String[] args) throws Exception {\n",
    "        // instancia classe Scanner\n",
    "        Scanner leia = new Scanner(System.in);\n",
    "\n",
    "        // declara variáveis\n",
    "        String nome;\n",
    "        int idade;\n",
    "        double altura;\n",
    "\n",
    "        // input\n",
    "        System.out.print(\"Digite seu nome: \");\n",
    "        nome = leia.nextLine();\n",
    "        System.out.print(\"Digite sua idade: \");\n",
    "        idade = leia.nextInt();\n",
    "        System.out.print(\"Digite sua altura: \");\n",
    "        altura = leia.nextDouble();\n",
    "\n",
    "        // fecha o Scanner\n",
    "        leia.close();\n",
    "    }\n",
    "}\n"
   ]
  },
  {
   "cell_type": "markdown",
   "id": "237bc250",
   "metadata": {},
   "source": [
    "3. O que nós precisaremos é verificar duas condições de forma simultânea. Para isso, precisaremos usar **operadores booleanos**."
   ]
  },
  {
   "cell_type": "markdown",
   "id": "ab7cf435",
   "metadata": {},
   "source": [
    "### Operadores booleanos\n",
    "\n",
    "Operadores booleanos ou operadores lógicos são operadores utilizados para fazer verificações lógicas. São 3 operadores: **E**, **OU** e **NÃO**:\n",
    "\n",
    "- `&&`: operador **E**.\n",
    "- `||`: operador **OU**.\n",
    "- `!`: operador **NÃO**."
   ]
  },
  {
   "cell_type": "markdown",
   "id": "24556337",
   "metadata": {},
   "source": [
    "No caso desse programa, precisaremos que duas condições sejam atendidas de forma simultânea. Então precisaremos do operador **E**, representado por `&&`.\n",
    "\n",
    "4. Para que o usuário possa entrar no brinquedo, ele precisa ter, no mínimo, 12 anos, e uma altura de 1,15 metros. Para isso, vamos acrescentar o código abaixo após `altura = leia.nextDouble();` e antes de `leia.close();`:"
   ]
  },
  {
   "cell_type": "code",
   "execution_count": null,
   "id": "3bc0f60d",
   "metadata": {
    "vscode": {
     "languageId": "java"
    }
   },
   "outputs": [],
   "source": [
    "// estrutura de decisão com operador booleano\n",
    "if (idade >= 12 && altura >= 1.15) {\n",
    "    System.out.println(nome + \" pode brincar no brinquedo.\");\n",
    "} \n",
    "else {\n",
    "    System.out.println(nome + \" não atende aos requisitos para brincar no brinquedo.\");\n",
    "}"
   ]
  },
  {
   "cell_type": "markdown",
   "id": "76d72de8",
   "metadata": {},
   "source": [
    "O código-fonte final vai ser esse:"
   ]
  },
  {
   "cell_type": "code",
   "execution_count": null,
   "id": "9567177b",
   "metadata": {
    "vscode": {
     "languageId": "java"
    }
   },
   "outputs": [],
   "source": [
    "package com.brinquedo.app;\n",
    "\n",
    "// importa Scanner\n",
    "import java.util.Scanner;\n",
    "\n",
    "public class App {\n",
    "    public static void main(String[] args) throws Exception {\n",
    "        // instancia classe Scanner\n",
    "        Scanner leia = new Scanner(System.in);\n",
    "\n",
    "        // declara variáveis\n",
    "        String nome;\n",
    "        int idade;\n",
    "        double altura;\n",
    "\n",
    "        // input\n",
    "        System.out.print(\"Digite seu nome: \");\n",
    "        nome = leia.nextLine();\n",
    "        System.out.print(\"Digite sua idade: \");\n",
    "        idade = leia.nextInt();\n",
    "        System.out.print(\"Digite sua altura: \");\n",
    "        altura = leia.nextDouble();\n",
    "\n",
    "        // estrutura de decisão com operador booleano\n",
    "        if (idade >= 12 && altura >= 1.15) {\n",
    "            System.out.println(nome + \" pode brincar no brinquedo.\");\n",
    "        } \n",
    "        else {\n",
    "            System.out.println(nome + \" não atende aos requisitos para brincar no brinquedo.\");\n",
    "        }\n",
    "\n",
    "        // fecha o Scanner\n",
    "        leia.close();\n",
    "    }\n",
    "}\n"
   ]
  },
  {
   "cell_type": "markdown",
   "id": "51cb182d",
   "metadata": {},
   "source": [
    "> ***Obs:** caso somente uma das duas condições precisasse ser verdadeira, trocaríamos o operador* `&&` *por* `||`."
   ]
  },
  {
   "cell_type": "markdown",
   "id": "99b6da4c",
   "metadata": {},
   "source": [
    "### else if"
   ]
  },
  {
   "cell_type": "markdown",
   "id": "14817fd3",
   "metadata": {},
   "source": [
    "Eventualmente, a estrutura de decisão pode precisar mostrar mais de duas saídas, além de verdadeiro ou falso. Quando isso acontece, adicionamos mais um bloco com mais uma condição com `else if`. Vamos ver como funciona com outro projeto:\n",
    "\n",
    "1. Crie outro projeto Java, com o *package* `com.nota.app`. Siga os mesmos passos dos programas anteriores.\n",
    "2. Mais uma vez, use a classe `Scanner` para receber do usuário os dados das variáveis `nome` e `nota`. Veja no código abaixo como deve ficar:\n",
    "\n",
    "#### Nota"
   ]
  },
  {
   "cell_type": "code",
   "execution_count": null,
   "id": "614ae026",
   "metadata": {
    "vscode": {
     "languageId": "java"
    }
   },
   "outputs": [],
   "source": [
    "package com.nota.app;\n",
    "\n",
    "import java.util.Scanner;\n",
    "\n",
    "public class App {\n",
    "    public static void main(String[] args) throws Exception {\n",
    "        Scanner leia = new Scanner(System.in);\n",
    "\n",
    "        String nome;\n",
    "        double nota;\n",
    "\n",
    "        System.out.print(\"Digite seu nome: \");\n",
    "        nome = leia.nextLine();\n",
    "        System.out.print(\"Digite sua nota: \");\n",
    "        nota = leia.nextDouble();\n",
    "        \n",
    "        leia.close();\n",
    "    }\n",
    "}\n"
   ]
  },
  {
   "cell_type": "markdown",
   "id": "564a27a3",
   "metadata": {},
   "source": [
    "3. O que queremos é descobrir se determinado aluno foi **aprovado**, ficou de **recuperação**, ou se foi **reprovado**, isso com base em sua nota. Para isso, vamos definir o seguinte:\n",
    "\n",
    "- `nota >= 7`: aprovado.\n",
    "- `nota` entre 5 e 7: recuperação.\n",
    "- `nota`menor que 5: reprovado.\n",
    "\n",
    "Repare que existem 3 saídas possíveis. Outra coisa: a nota mínima é 0 e a máxima é 10. Então a primeira coisa é verificar se a nota digitada está entre a nota mínima e a máxima permitida.\n",
    "\n",
    "4. Caso a nota esteja dentro da nota permitida, ele irá verificar se a nota é maior ou igual a 7, se está entre 5 e 7, ou se está abaixo de 7. Caso a nota não esteja dentro da nota permitida, o programa retorna uma mensagem de erro. O código-fonte final é este abaixo. Veja:"
   ]
  },
  {
   "cell_type": "code",
   "execution_count": null,
   "id": "f09c5719",
   "metadata": {
    "vscode": {
     "languageId": "java"
    }
   },
   "outputs": [],
   "source": [
    "package com.nota.app;\n",
    "\n",
    "import java.util.Scanner;\n",
    "\n",
    "public class App {\n",
    "    public static void main(String[] args) throws Exception {\n",
    "        Scanner leia = new Scanner(System.in);\n",
    "\n",
    "        String nome;\n",
    "        double nota;\n",
    "\n",
    "        System.out.print(\"Digite seu nome: \");\n",
    "        nome = leia.nextLine();\n",
    "        System.out.print(\"Digite sua nota: \");\n",
    "        nota = leia.nextDouble();\n",
    "\n",
    "        // verifica se a nota é válida e classifica o aluno\n",
    "        if (nota >= 0 && nota <= 10) {\n",
    "            if (nota >= 7) {\n",
    "                System.out.println(nome + \", você foi aprovado com a nota: \" + nota);\n",
    "            }\n",
    "            else if (nota >= 5) {\n",
    "                System.out.println(nome + \", você está de recuperação com a nota: \" + nota);\n",
    "            }\n",
    "            else {\n",
    "                System.out.println(nome + \", você foi reprovado com a nota: \" + nota);\n",
    "            }\n",
    "        } \n",
    "        else {\n",
    "            System.out.println(\"Nota inválida. Por favor, insira uma nota entre 0 e 10.\");\n",
    "        }\n",
    "        \n",
    "        leia.close();\n",
    "    }\n",
    "}\n"
   ]
  }
 ],
 "metadata": {
  "language_info": {
   "name": "python"
  }
 },
 "nbformat": 4,
 "nbformat_minor": 5
}
