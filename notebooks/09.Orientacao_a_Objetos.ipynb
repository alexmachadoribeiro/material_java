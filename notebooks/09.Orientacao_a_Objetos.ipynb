{
 "cells": [
  {
   "cell_type": "markdown",
   "metadata": {},
   "source": [
    "# **Orientação a Objetos**\n",
    "---"
   ]
  },
  {
   "cell_type": "markdown",
   "metadata": {},
   "source": [
    "### Introdução ao Paradigma da Orientação a Objetos\n",
    "\n",
    "Até o momento, o paradigma que estávamos usando era o da programação estruturada, que conforme vimos nas primeiras aulas do curso (mais precisamente em Lógica de Programação), consiste em uma lógica baseada em \"receitas de bolo\", em que o algoritmo é executado linha por linha, de cima para baixo, ordenando à CPU o que deve ser feito com as variáveis declaradas.\n",
    "\n",
    "Na Orientação a Objetos, as coisas funcionam de uma forma um pouco diferente: a ideia é que você programe baseando sua linha de raciocínio nos elementos do dia a dia encontrados ao seu redor. Pense que cada objeto que existe ao seu redor é possui uma classificação. É nessa ideia de classificação que é baseada a programação orientada a objetos.\n",
    "\n",
    "## Como funciona a Orientação a Objetos?\n",
    "---\n",
    "\n",
    "Observe a imagem a seguir:"
   ]
  },
  {
   "cell_type": "markdown",
   "metadata": {},
   "source": [
    "<div style=\"display: flex; justify-content: center\">\n",
    "    <img src=\"../assets/fusca.webp\" alt=\"Fusca\" />\n",
    "</div>"
   ]
  },
  {
   "cell_type": "markdown",
   "metadata": {},
   "source": [
    "Você consegue identificar o objeto em questão? Provavelmente você dirá que é um Fusca, certo? Sim, está certo! É um Fusca mesmo.\n",
    "\n",
    "Agora, observe essa outra imagem a seguir:"
   ]
  },
  {
   "cell_type": "markdown",
   "metadata": {},
   "source": [
    "<div style=\"display: flex; justify-content: center\">\n",
    "    <img src=\"../assets/lamborghini.png\" alt=\"Lamborghini\" width=400 />\n",
    "</div>"
   ]
  },
  {
   "cell_type": "markdown",
   "metadata": {},
   "source": [
    "Caso não saiba que carro é esse, trata-se de uma Lamborghini. Um carro que supera um Fusca em todos os sentidos: preço, velocidade, aceleração, desempenho, etc...\n",
    "\n",
    "Os dois objetos são iguais? Definitivamente não. São completamente diferentes em tudo. Mesmo assim, os dois compartilham as mesmas características e servem exatamente para o mesmo fim. Por exemplo: ambos possuem portas, pneus, motor, volante, faróis, bancos, tanque de combustível, chassi. Da mesma forma, ambos podem ser dirigidos, ambos aceleram, fream, fazem curva, consomem combustível.\n",
    "\n",
    "Isso acontece porque os dois objetos pertencem à mesma classe: **Carro**.\n",
    "\n",
    "Os objetos do mundo real (sejam eles seres vivos ou não) são classificados com base em suas características e ações. Quando dois ou mais objetos compartilham as mesmas características e realizam as mesmas ações, mesmo sendo objetos completamente diferentes, são reunidos dentro da mesma classificação.\n",
    "\n",
    "O mesmo pode ser dito de um humano e de um cachorro: são animais completamente diferentes, mas compartilham características e ações similares que os classificam como Mamíferos.\n",
    "\n",
    "A Programação Orientada a Objetos funciona da mesma forma: ao invés de criarmos um único código lido de cima para baixo, dividimos em blocos de programação menores e separados, chamados de **Classes**. As classes reunem basicamente dois elementos:\n",
    "- **Atributos**: são características dos objetos das classes. Os atributos armazenam valores para serem utilizados no programa principal, de forma similar às variáveis.\n",
    "- **Métodos**: são ações a serem executadas pelos objetos das classes. Funcionam de forma similares às funções.\n",
    "\n",
    "Após a criação das classes, um outro bloco de programação contém o código que deve ser executado pelo programa. É nesse bloco onde são \"criados\" os objetos que irão armazenar os valores do algoritmo, e irão executar as funcionalidades do programa, tal como aconteceria no mundo real.\n",
    "\n",
    "Esse tipo de programação é muito utilizado para criação de sistemas que usam bancos de dados, pois algumas classes podem representar as chamadas entidades do banco.\n",
    "\n",
    "Outro exemplo onde a POO (sigla para Programação Orientada a Objetos) é usada é na programação de jogos eletrônicos. Inclusive um excelente exemplo são os jogos de RPG (**Role-Playing Game**), onde o jogador constrói o seu personagem baseado em sistemas de classes. Exemplo: em um RPG de fantasia medieval, o jogador começa escolhendo uma classe para o seu personagem (Guerreiro, Mago, Bárbaro, Druida, Paladino, Necromante, Clérigo, etc...), onde cada uma das classes possui seus próprios atributos, e seus próprios métodos (habilidades)."
   ]
  },
  {
   "cell_type": "markdown",
   "metadata": {},
   "source": [
    "<div style=\"display: flex; justify-content: center\">\n",
    "    <img src=\"../assets/classes-de-rpg-1024x576.webp\" alt=\"Sistema de Classes de um RPG\" />\n",
    "</div>\n",
    "<div style=\"display: flex; justify-content: center\">\n",
    "    <span>Fonte: <a href=\"https://elking.com.br/blog/classes-rpg/\">https://elking.com.br/blog/classes-rpg/</a></span>\n",
    "</div>"
   ]
  },
  {
   "cell_type": "markdown",
   "metadata": {},
   "source": [
    "\n",
    "### Vantagens\n",
    "\n",
    "Há muitas vantagens em se utilizar o Paradigma da Orientação a Objetos:\n",
    "\n",
    "- Reutilização de código, evitando desperdícios e redundância no algoritmo.\n",
    "- Facilitação na manutenção do código. Com os atributos e métodos centralizados em uma classe você consegue resolver muitos problemas de uma só vez alterando apenas uma linha de código, o que na programação estruturada você precisaria alterar várias linhas, uma de cada vez.\n",
    "- Melhora a lógica. Como ela passa a ser baseada em elementos do mundo real, o código fica mais simples de entender, uma vez que o conceito de orientação a objetos fica claro.\n",
    "- Código organizado. Com o código dividido em blocos menores, o código-fonte fica mais legível e organizado.\n",
    "- Melhora a segurança do seu código. A orientação a objetos possui muitos recursos de segurança para garantir a integridade tanto do seu código quanto dos dados que ele gere.\n",
    "- Melhora a escalabilidade do projeto. Você consegue escalar o seu projeto sem que o mesmo vire um monstro de 7 cabeças, já que a orientação a objetos permite que seu projeto fique maior do que foi pensado inicialmente.\n",
    "\n",
    "### Desvantagens\n",
    "\n",
    "É claro que a orientação a objetos não é perfeita. Há algumas desvantagens em se adotar o paradigma:\n",
    "\n",
    "- Curva de aprendizado maior do que a programação estruturada, visto que a orientação a objetos possui muitos detalhes para se dominar, acaba se tornando mais complexo e demorado de se aprender.\n",
    "- Código-fonte total mais complexo. Com o código-fonte dividido, o código-fonte ao todo acaba ficando maior.\n",
    "- Exige maior capacidade de processamento. Como há muitas divisões, e o código ficando maior, ele consome mais da CPU.\n",
    "- Inviável para projetos pequenos, muito por conta da complexidade do paradigma."
   ]
  },
  {
   "cell_type": "markdown",
   "metadata": {},
   "source": [
    "## Classe Java\n",
    "---"
   ]
  },
  {
   "cell_type": "markdown",
   "metadata": {},
   "source": [
    "Como vimos nas primeiras aulas, um arquivo de código-fonte Java é uma classe. Só que, até o momento, não havíamos trabalhado com nenhum outro arquivo além da classe principal, que é aquela que, de fato, executa o programa. A partir de agora, iremos trabalhar com várias classes em cada programa que criarmos.\n",
    "\n",
    "Para se nomear uma classe, as regras são quase as mesmas das variáveis, com uma diferença:\n",
    "\n",
    "> **Toda classe precisa iniciar com letra maiúscula. Chamamos essa notação de PascalCase.**"
   ]
  },
  {
   "cell_type": "markdown",
   "metadata": {},
   "source": [
    "Cada classe Java deve ser criada em um único arquivo separada das demais, e possui 2 elementos:\n",
    "\n",
    "- **Atributos**: são valores que definem a classe.\n",
    "- **Métodos**: são ações executadas pelo objetos da classe."
   ]
  },
  {
   "cell_type": "markdown",
   "metadata": {},
   "source": [
    "Já na classe principal do seu programa, aquele que vai ter o método `main`, você irá instanciar as classes criadas.\n",
    "\n",
    "> **Instanciar classes é o mesmo que criar objetos.**"
   ]
  },
  {
   "cell_type": "markdown",
   "metadata": {},
   "source": [
    "Quando você cria objetos, ele virá automaticamente com os atributos e métodos definidos na classe."
   ]
  },
  {
   "cell_type": "markdown",
   "metadata": {},
   "source": [
    "### Como funciona na prática?\n",
    "\n",
    "Vamos trabalhar em cima de um programa para ver como funciona. Criaremos um programa que irá criar um objeto chamado `pessoa`, que irá receber do usuário `nome`, `idade` e `altura`, e essa pessoa irá se apresentar mostrando esses dados:\n",
    "\n",
    "1. Crie um novo projeto Java, nos mesmos moldes dos programas anteriores, com o *package* `com.pessoa.app`.\n",
    "2. Siga transferindo o arquivo `App.java` para a pasta `app`, e instancie a classe `Scanner` normalmente. Veja o código-fonte:"
   ]
  },
  {
   "cell_type": "code",
   "execution_count": null,
   "metadata": {
    "vscode": {
     "languageId": "java"
    }
   },
   "outputs": [],
   "source": [
    "package com.pessoa.app;\n",
    "\n",
    "import java.util.Scanner;\n",
    "\n",
    "public class App {\n",
    "    public static void main(String[] args) throws Exception {\n",
    "        Scanner leia = new Scanner(System.in);\n",
    "\n",
    "        leia.close();\n",
    "    }\n",
    "}\n"
   ]
  },
  {
   "cell_type": "markdown",
   "metadata": {},
   "source": [
    "3. Só que agora não iremos mais declarar variáveis. Não por enquanto, pelo menos. Na verdade, vamos deixar esse arquivo no molho por hora. O que faremos é **criar uma classe** chamada `Pessoa`. Pelo menos para esse programa, ela ficará no mesmo *package* da classe principal `App.java`. Clique com o botão direito em cima do package `app`, e escolha a opção **New Java File -> Class...**"
   ]
  },
  {
   "cell_type": "markdown",
   "metadata": {},
   "source": [
    "<div style=\"display: flex; justify-content: center\">\n",
    "    <img src=\"../assets/09-01.png\" alt=\"Nova classe\" />\n",
    "</div>"
   ]
  },
  {
   "cell_type": "markdown",
   "metadata": {},
   "source": [
    "4. Vai aparecer uma nova caixa de diálogo no alto da janela do VSCode. Digite o nome da classe, que iremos chamar de `Pessoa` (lembre-se: inicial de classe é sempre maiúscula), e pressione **Enter**:"
   ]
  },
  {
   "cell_type": "markdown",
   "metadata": {},
   "source": [
    "<div style=\"display: flex; justify-content: center\">\n",
    "    <img src=\"../assets/09-02.png\" alt=\"classe\" />\n",
    "</div>"
   ]
  },
  {
   "cell_type": "markdown",
   "metadata": {},
   "source": [
    "5. Um novo arquivo irá surgir dentro do *package*: `Pessoa.java`. Veja:"
   ]
  },
  {
   "cell_type": "markdown",
   "metadata": {},
   "source": [
    "<div style=\"display: flex; justify-content: center\">\n",
    "    <img src=\"../assets/09-03.png\" alt=\"class\" />\n",
    "</div>"
   ]
  },
  {
   "cell_type": "markdown",
   "metadata": {},
   "source": [
    "6. É com esse novo arquivo que iremos trabalhar. Ele já irá começar com o código-fonte abaixo:"
   ]
  },
  {
   "cell_type": "code",
   "execution_count": null,
   "metadata": {
    "vscode": {
     "languageId": "java"
    }
   },
   "outputs": [],
   "source": [
    "package com.pessoa.app;\n",
    "\n",
    "public class Pessoa {\n",
    "\n",
    "}\n"
   ]
  },
  {
   "cell_type": "markdown",
   "metadata": {},
   "source": [
    "## Atributos\n",
    "---\n",
    "\n",
    "Como dito antes, os atributos definem os valores da classe.\n",
    "\n",
    "7. A primeira coisa que iremos fazer com essa classe é definir os atributos, que serão 3: `nome`, `idade` e `altura`. Esses atributos precisarão ser definidos dentro da classe. Veja:"
   ]
  },
  {
   "cell_type": "code",
   "execution_count": null,
   "metadata": {
    "vscode": {
     "languageId": "java"
    }
   },
   "outputs": [],
   "source": [
    "package com.pessoa.app;\n",
    "\n",
    "public class Pessoa {\n",
    "    // atributos\n",
    "    public String nome;\n",
    "    public int idade;\n",
    "    public double altura;\n",
    "}\n"
   ]
  },
  {
   "cell_type": "markdown",
   "metadata": {},
   "source": [
    "8. Repare na nova palavra que aparece diantes de nós: `public`. Isso diz respeito à visibilidade desse atributo dentro do programa, e será falado com mais detalhes nas próximas aulas. Por enquanto, segue o jogo."
   ]
  },
  {
   "cell_type": "markdown",
   "metadata": {},
   "source": [
    "## Métodos\n",
    "---\n",
    "\n",
    "Métodos são as ações que serão executadas pelo objeto da classe.\n",
    "\n",
    "9. Nosso próximo passo é definir um método para essa classe. Uma classe pode ter um ou mais métodos, mas por enquanto, vamos definir só um: `exibirDados()`:"
   ]
  },
  {
   "cell_type": "code",
   "execution_count": null,
   "metadata": {
    "vscode": {
     "languageId": "java"
    }
   },
   "outputs": [],
   "source": [
    "package com.pessoa.app;\n",
    "\n",
    "public class Pessoa {\n",
    "    // atributos\n",
    "    public String nome;\n",
    "    public int idade;\n",
    "    public double altura;\n",
    "\n",
    "    // métodos\n",
    "    public void exibirDados() {\n",
    "        System.out.println(\"Nome: \" + this.nome);\n",
    "        System.out.println(\"Idade: \" + this.idade);\n",
    "        System.out.println(\"Altura: \" + this.altura);\n",
    "    }\n",
    "}\n"
   ]
  },
  {
   "cell_type": "markdown",
   "metadata": {},
   "source": [
    "10. Mais duas palavrinhas novas: `void` e `this`. O `void` indica que esse método somente executará uma ação, mas não retornará nenhum valor para o programa. O parênteses do método indica os parâmetros que serão repassados para o método. Mesmo que não haja nenhum, os par~enteses precisarão existir. Já o `this` faz uma referência para o atributo da classe, e é obrigatório quando quiser chamar os atributos dentro dos métodos.\n",
    "11. Por hora, essa classe está como desejamos. Vamos voltar ao `App.java`.\n",
    "12. Agora, além de instanciarmos o `Scanner`, precisaremos também instanciar a classe `Pessoa` através do comando `Pessoa usuario = new Pessoa();`. Veja o código-fonte abaixo:"
   ]
  },
  {
   "cell_type": "code",
   "execution_count": null,
   "metadata": {
    "vscode": {
     "languageId": "java"
    }
   },
   "outputs": [],
   "source": [
    "package com.pessoa.app;\n",
    "\n",
    "import java.util.Scanner;\n",
    "\n",
    "public class App {\n",
    "    public static void main(String[] args) throws Exception {\n",
    "        // intancia as classes\n",
    "        Scanner leia = new Scanner(System.in);\n",
    "        Pessoa usuario = new Pessoa(); // instancia a classe Pessoa\n",
    "\n",
    "        leia.close();\n",
    "    }\n",
    "}\n"
   ]
  },
  {
   "cell_type": "markdown",
   "metadata": {},
   "source": [
    "13. Para atribuir os valores ao objeto, preccisaremos chamar o objeto seguido do nome do atributo, separados por ponto:"
   ]
  },
  {
   "cell_type": "code",
   "execution_count": null,
   "metadata": {
    "vscode": {
     "languageId": "java"
    }
   },
   "outputs": [],
   "source": [
    "package com.pessoa.app;\n",
    "\n",
    "import java.util.Scanner;\n",
    "\n",
    "public class App {\n",
    "    public static void main(String[] args) throws Exception {\n",
    "        // intancia as classes\n",
    "        Scanner leia = new Scanner(System.in);\n",
    "        Pessoa usuario = new Pessoa();\n",
    "\n",
    "        // lê os dados da pessoa\n",
    "        System.out.print(\"Nome: \");\n",
    "        usuario.nome = leia.nextLine();\n",
    "        System.out.print(\"Idade: \");\n",
    "        usuario.idade = leia.nextInt();\n",
    "        System.out.print(\"Altura: \");\n",
    "        usuario.altura = leia.nextDouble();\n",
    "\n",
    "        leia.close();\n",
    "    }\n",
    "}\n"
   ]
  },
  {
   "cell_type": "markdown",
   "metadata": {},
   "source": [
    "14. Finalmente, para exibirmos os dados do objeto, temos o método `exibirDados():`. É só chamar esse método, e ele irá executar tudo o que precisamos:"
   ]
  },
  {
   "cell_type": "code",
   "execution_count": null,
   "metadata": {
    "vscode": {
     "languageId": "java"
    }
   },
   "outputs": [],
   "source": [
    "package com.pessoa.app;\n",
    "\n",
    "import java.util.Scanner;\n",
    "\n",
    "public class App {\n",
    "    public static void main(String[] args) throws Exception {\n",
    "        // intancia as classes\n",
    "        Scanner leia = new Scanner(System.in);\n",
    "        Pessoa usuario = new Pessoa();\n",
    "\n",
    "        // lê os dados da pessoa\n",
    "        System.out.print(\"Nome: \");\n",
    "        usuario.nome = leia.nextLine();\n",
    "        System.out.print(\"Idade: \");\n",
    "        usuario.idade = leia.nextInt();\n",
    "        System.out.print(\"Altura: \");\n",
    "        usuario.altura = leia.nextDouble();\n",
    "\n",
    "        // exibe os dados da pessoa\n",
    "        usuario.exibirDados();\n",
    "\n",
    "        leia.close();\n",
    "    }\n",
    "}\n"
   ]
  },
  {
   "cell_type": "markdown",
   "metadata": {},
   "source": [
    "15. Execute o programa, e veja como funciona. Ele deverá receber os dados do usuário via input e exibir na tela."
   ]
  }
 ],
 "metadata": {
  "kernelspec": {
   "display_name": ".venv",
   "language": "python",
   "name": "python3"
  },
  "language_info": {
   "codemirror_mode": {
    "name": "ipython",
    "version": 3
   },
   "file_extension": ".py",
   "mimetype": "text/x-python",
   "name": "python",
   "nbconvert_exporter": "python",
   "pygments_lexer": "ipython3",
   "version": "3.12.7"
  }
 },
 "nbformat": 4,
 "nbformat_minor": 2
}
