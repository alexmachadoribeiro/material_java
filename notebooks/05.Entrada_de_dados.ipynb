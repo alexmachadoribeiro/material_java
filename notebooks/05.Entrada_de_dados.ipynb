{
 "cells": [
  {
   "cell_type": "markdown",
   "id": "04b936ae",
   "metadata": {},
   "source": [
    "# **Entrada de dados**\n",
    "---"
   ]
  },
  {
   "cell_type": "markdown",
   "id": "f360d123",
   "metadata": {},
   "source": [
    "Até o momento, estávamos trabalhando com os valores das variáveis sendo digitadas diretamente no código-fonte. Mas e se o usuário quiser inserir ele mesmo os valores das variáveis? Precisaremos criar um programa que receba informações do usuário, os chamados ***inputs***. Para isso, teremos que importar a classe `Scanner` da biblioteca `java.util`."
   ]
  },
  {
   "cell_type": "markdown",
   "id": "29b25713",
   "metadata": {},
   "source": [
    "## Classe Scanner\n",
    "---"
   ]
  },
  {
   "cell_type": "markdown",
   "id": "be80e08a",
   "metadata": {},
   "source": [
    "A classe **Scanner** no Java é utilizada para fazer a entrada de dados, ou seja, permite que o programa leia informações digitadas pelo usuário no teclado. Com ela, é possível capturar diferentes tipos de dados, como textos, números inteiros, números decimais, entre outros. O Scanner facilita a interação entre o usuário e o programa, tornando possível criar aplicações dinâmicas que recebem dados em tempo de execução."
   ]
  },
  {
   "cell_type": "markdown",
   "id": "fc317eba",
   "metadata": {},
   "source": [
    "Vamos fazer uso dessa classe na aula de hoje. Para isso, vamos criar um novo projeto. Siga os passos já ensinados em aulas anteriores para criar um novo projeto Java, ou seja, botão direito no explorador de arquivos do VSCode e ir em **New Java Project... -> No Build Tools**, selecionar a pasta onde vai criar o seu projeto e depois digitar o nome do seu projeto, que no caso dessa apostila vamos chamar de **Entrada**. O nome do pacote será `com.entrada.app`:"
   ]
  },
  {
   "cell_type": "markdown",
   "id": "87018b3b",
   "metadata": {},
   "source": [
    "<div style=\"display: flex; justify-content: center\">\n",
    "    <img src=\"../assets/05-01.png\" alt=\"Java Project\" />\n",
    "</div>"
   ]
  },
  {
   "cell_type": "markdown",
   "id": "50d42d23",
   "metadata": {},
   "source": [
    "Após a linha `package com.entrada.app;` e antes da linha `public class App`, digite o comando `import java.util.Scanner;`. O código-fonte nesse momento deverá ficar assim:"
   ]
  },
  {
   "cell_type": "code",
   "execution_count": null,
   "id": "ba16a215",
   "metadata": {
    "vscode": {
     "languageId": "java"
    }
   },
   "outputs": [],
   "source": [
    "package com.entrada.app;\n",
    "\n",
    "import java.util.Scanner;\n",
    "\n",
    "public class App {\n",
    "    public static void main(String[] args) throws Exception {\n",
    "        System.out.println(\"Hello, World!\");\n",
    "    }\n",
    "}"
   ]
  },
  {
   "cell_type": "markdown",
   "id": "89fbbdb4",
   "metadata": {},
   "source": [
    "Agora, apague a linha do `Hello, World!`. No lugar, vamos instanciar a classe `Scanner`. Ou seja, vamos criar um objeto no nosso programa baseado na classe que acabamos de importar. O comando para fazer isso é `Scanner leia = new Scanner(System.in);`. Veja:"
   ]
  },
  {
   "cell_type": "code",
   "execution_count": null,
   "id": "57d6ddab",
   "metadata": {
    "vscode": {
     "languageId": "java"
    }
   },
   "outputs": [],
   "source": [
    "package com.entrada.app;\n",
    "\n",
    "import java.util.Scanner;\n",
    "\n",
    "public class App {\n",
    "    public static void main(String[] args) throws Exception {\n",
    "        // instancia a classe Scanner\n",
    "        Scanner leia = new Scanner(System.in);\n",
    "    }\n",
    "}"
   ]
  },
  {
   "cell_type": "markdown",
   "id": "d7c419b4",
   "metadata": {},
   "source": [
    "Se a IDE/Editor de código identificar algum erro na instância do objeto, basta apenas inserir o comando para fechar o objeto ao final do código com `leia.close();`. Tenha em mente que todo o seu código-fonte deverá ficar após `Scanner leia = new Scanner(System.in);` e antes de `leia.close();`:"
   ]
  },
  {
   "cell_type": "code",
   "execution_count": null,
   "id": "9aae3f8a",
   "metadata": {
    "vscode": {
     "languageId": "java"
    }
   },
   "outputs": [],
   "source": [
    "package com.entrada.app;\n",
    "\n",
    "import java.util.Scanner;\n",
    "\n",
    "public class App {\n",
    "    public static void main(String[] args) throws Exception {\n",
    "        // instancia a classe Scanner\n",
    "        Scanner leia = new Scanner(System.in);\n",
    "\n",
    "        // fecha objeto do tipo Scanner\n",
    "        leia.close();\n",
    "    }\n",
    "}"
   ]
  },
  {
   "cell_type": "markdown",
   "id": "b00d6bea",
   "metadata": {},
   "source": [
    "A ideia é que o usuário insira algumas informações, como por exemplo `nome`, `idade` e `altura`, por exemplo. Para isso, precisaremos criar as variáveis para ela:"
   ]
  },
  {
   "cell_type": "code",
   "execution_count": null,
   "id": "6e835bd0",
   "metadata": {
    "vscode": {
     "languageId": "java"
    }
   },
   "outputs": [],
   "source": [
    "package com.entrada.app;\n",
    "\n",
    "import java.util.Scanner;\n",
    "\n",
    "public class App {\n",
    "    public static void main(String[] args) throws Exception {\n",
    "        // instancia a classe Scanner\n",
    "        Scanner leia = new Scanner(System.in);\n",
    "\n",
    "        // declaração de variáveis\n",
    "        String nome;\n",
    "        int idade;\n",
    "        double altura;\n",
    "\n",
    "        // fecha objeto do tipo Scanner\n",
    "        leia.close();\n",
    "    }\n",
    "}"
   ]
  },
  {
   "cell_type": "markdown",
   "id": "9ff686e0",
   "metadata": {},
   "source": [
    "Com as variáveis criadas, teremos que criar a entrada de dados no nosso programa em Java. Começaremos pelo `nome`. O usuário precisará saber qual informação ele deverá repassar. Portanto, iremos inserir o comando `System.out.println(\"Informe seu nome:\");` para informar ao usuário o que ele deverá fazer, e em seguida, iremos inserir o comando `nome = leia.nextLine();` para receber do usuário a informação. Veja:"
   ]
  },
  {
   "cell_type": "code",
   "execution_count": null,
   "id": "82c06dae",
   "metadata": {
    "vscode": {
     "languageId": "java"
    }
   },
   "outputs": [],
   "source": [
    "package com.entrada.app;\n",
    "\n",
    "import java.util.Scanner;\n",
    "\n",
    "public class App {\n",
    "    public static void main(String[] args) throws Exception {\n",
    "        // instancia a classe Scanner\n",
    "        Scanner leia = new Scanner(System.in);\n",
    "\n",
    "        // declaração de variáveis\n",
    "        String nome;\n",
    "        int idade;\n",
    "        double altura;\n",
    "\n",
    "        // input\n",
    "        System.out.println(\"Informe seu nome:\");\n",
    "        nome = leia.nextLine();\n",
    "\n",
    "        // fecha objeto do tipo Scanner\n",
    "        leia.close();\n",
    "    }\n",
    "}"
   ]
  },
  {
   "cell_type": "markdown",
   "id": "7e381afb",
   "metadata": {},
   "source": [
    "Agora, vamos acrescentar o *input* da idade, exibindo para o usuário a informação `System.out.println(\"Informe sua idade:\");` e recebendo a informação do usuário com o comando `idade = leia.nextInt();`:"
   ]
  },
  {
   "cell_type": "code",
   "execution_count": null,
   "id": "d1c23edc",
   "metadata": {
    "vscode": {
     "languageId": "java"
    }
   },
   "outputs": [],
   "source": [
    "package com.entrada.app;\n",
    "\n",
    "import java.util.Scanner;\n",
    "\n",
    "public class App {\n",
    "    public static void main(String[] args) throws Exception {\n",
    "        // instancia a classe Scanner\n",
    "        Scanner leia = new Scanner(System.in);\n",
    "\n",
    "        // declaração de variáveis\n",
    "        String nome;\n",
    "        int idade;\n",
    "        double altura;\n",
    "\n",
    "        // input\n",
    "        System.out.println(\"Informe seu nome:\");\n",
    "        nome = leia.nextLine();\n",
    "        System.out.println(\"Informe sua idade:\");\n",
    "        idade = leia.nextInt();\n",
    "\n",
    "        // fecha objeto do tipo Scanner\n",
    "        leia.close();\n",
    "    }\n",
    "}\n"
   ]
  },
  {
   "cell_type": "markdown",
   "id": "a89aca9c",
   "metadata": {},
   "source": [
    "Observe que o comando de entrada de dados para receber a idade é diferente do comando para receber o nome. Isso acontece porque os comandos de entrada de dados são, na verdade, métodos (iremos aprender sobre métodos nas próximas aulas) que retornam valores específicos. Por exemplo: `leia.nextLine();` retorna uma `String`. Já `leia.nextInt();` retorna um `int`. O próximo comando de entrada que iremos inserir vai receber um `double`, que é `altura = leia.nextDouble();`:"
   ]
  },
  {
   "cell_type": "code",
   "execution_count": null,
   "id": "7ee64d54",
   "metadata": {
    "vscode": {
     "languageId": "java"
    }
   },
   "outputs": [],
   "source": [
    "package com.entrada.app;\n",
    "\n",
    "import java.util.Scanner;\n",
    "\n",
    "public class App {\n",
    "    public static void main(String[] args) throws Exception {\n",
    "        // instancia a classe Scanner\n",
    "        Scanner leia = new Scanner(System.in);\n",
    "\n",
    "        // declaração de variáveis\n",
    "        String nome;\n",
    "        int idade;\n",
    "        double altura;\n",
    "\n",
    "        // input\n",
    "        System.out.println(\"Informe seu nome:\");\n",
    "        nome = leia.nextLine();\n",
    "        System.out.println(\"Informe sua idade:\");\n",
    "        idade = leia.nextInt();\n",
    "        System.out.println(\"Informe sua altura:\");\n",
    "        altura = leia.nextDouble();\n",
    "\n",
    "        // fecha objeto do tipo Scanner\n",
    "        leia.close();\n",
    "    }\n",
    "}\n"
   ]
  },
  {
   "cell_type": "markdown",
   "id": "e7e22cb9",
   "metadata": {},
   "source": [
    "Agora vamos fazer a saída de dados, exibindo os valores informados pelo usuário nos *inputs*:"
   ]
  },
  {
   "cell_type": "code",
   "execution_count": null,
   "id": "799a0743",
   "metadata": {
    "vscode": {
     "languageId": "java"
    }
   },
   "outputs": [],
   "source": [
    "package com.entrada.app;\n",
    "\n",
    "import java.util.Scanner;\n",
    "\n",
    "public class App {\n",
    "    public static void main(String[] args) throws Exception {\n",
    "        // instancia a classe Scanner\n",
    "        Scanner leia = new Scanner(System.in);\n",
    "\n",
    "        // declaração de variáveis\n",
    "        String nome;\n",
    "        int idade;\n",
    "        double altura;\n",
    "\n",
    "        // input\n",
    "        System.out.println(\"Informe seu nome:\");\n",
    "        nome = leia.nextLine();\n",
    "        System.out.println(\"Informe sua idade:\");\n",
    "        idade = leia.nextInt();\n",
    "        System.out.println(\"Informe sua altura:\");\n",
    "        altura = leia.nextDouble();\n",
    "\n",
    "        // output\n",
    "        System.out.println(\"Nome: \" + nome);\n",
    "        System.out.println(\"Idade: \" + idade);\n",
    "        System.out.println(\"Altura: \" + altura);\n",
    "\n",
    "        // fecha objeto do tipo Scanner\n",
    "        leia.close();\n",
    "    }\n",
    "}\n"
   ]
  },
  {
   "cell_type": "markdown",
   "id": "c515e8ab",
   "metadata": {},
   "source": [
    "Execute o programa e veja o resultado..."
   ]
  },
  {
   "cell_type": "markdown",
   "id": "651ec733",
   "metadata": {},
   "source": [
    "Agora, vamos complicar um pouco: vamos acrescentar mais uma variável no programa, o e-mail. Para fazer isso, basta acrescentar a variável `email` na mesma linha da `String`, onde tem a variável `nome`. Vai ficar assim: `String nome, email;`. Isso pode ser feito, pois tanto o `nome` quanto o `email` são do mesmo tipo.\n",
    "\n",
    "Acrescente o *input* do email no código e peça para exibir na tela. Vai ficar assim:"
   ]
  },
  {
   "cell_type": "code",
   "execution_count": null,
   "id": "dad63cfc",
   "metadata": {
    "vscode": {
     "languageId": "java"
    }
   },
   "outputs": [],
   "source": [
    "package com.entrada.app;\n",
    "\n",
    "import java.util.Scanner;\n",
    "\n",
    "public class App {\n",
    "    public static void main(String[] args) throws Exception {\n",
    "        // instancia a classe Scanner\n",
    "        Scanner leia = new Scanner(System.in);\n",
    "\n",
    "        // declaração de variáveis\n",
    "        String nome, email;\n",
    "        int idade;\n",
    "        double altura;\n",
    "\n",
    "        // input\n",
    "        System.out.println(\"Informe seu nome:\");\n",
    "        nome = leia.nextLine();\n",
    "        System.out.println(\"Informe sua idade:\");\n",
    "        idade = leia.nextInt();\n",
    "        System.out.println(\"Informe sua altura:\");\n",
    "        altura = leia.nextDouble();\n",
    "        System.out.println(\"Informe seu e-mail:\");\n",
    "        email = leia.nextLine();\n",
    "\n",
    "        // output\n",
    "        System.out.println(\"Nome: \" + nome);\n",
    "        System.out.println(\"Idade: \" + idade);\n",
    "        System.out.println(\"Altura: \" + altura);\n",
    "        System.out.println(\"E-mail: \" + email);\n",
    "\n",
    "        // fecha objeto do tipo Scanner\n",
    "        leia.close();\n",
    "    }\n",
    "}\n"
   ]
  },
  {
   "cell_type": "markdown",
   "id": "2aa2d775",
   "metadata": {},
   "source": [
    "Agora execute esse programa e veja o que acontece....\n",
    "\n",
    "Você deve ter percebido que o programa \"pula\" na hora do usuário informar o e-mail né?!"
   ]
  }
 ],
 "metadata": {
  "language_info": {
   "name": "python"
  }
 },
 "nbformat": 4,
 "nbformat_minor": 5
}
